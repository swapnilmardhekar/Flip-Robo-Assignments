{
 "cells": [
  {
   "cell_type": "code",
   "execution_count": 1,
   "id": "614b5bf0",
   "metadata": {},
   "outputs": [],
   "source": [
    "# importing liabraries\n",
    "import selenium\n",
    "from selenium import webdriver\n",
    "import pandas as pd\n",
    "import time\n",
    "import warnings\n",
    "warnings.filterwarnings(\"ignore\")\n",
    "from selenium.common.exceptions import StaleElementReferenceException, NoSuchElementException\n",
    "from selenium.webdriver.common.by import By"
   ]
  },
  {
   "cell_type": "markdown",
   "id": "4b20887a",
   "metadata": {},
   "source": [
    "## Scrapping Data For Data Analyst From Naukri.com"
   ]
  },
  {
   "cell_type": "code",
   "execution_count": 8,
   "id": "ab245ec0",
   "metadata": {},
   "outputs": [],
   "source": [
    "# calling webdriver\n",
    "driver = webdriver.Chrome('chromedriver.exe')"
   ]
  },
  {
   "cell_type": "code",
   "execution_count": 12,
   "id": "7cec58d9",
   "metadata": {},
   "outputs": [],
   "source": [
    "#opening website\n",
    "driver.get('https://www.naukri.com/')"
   ]
  },
  {
   "cell_type": "code",
   "execution_count": 13,
   "id": "17dc63f2",
   "metadata": {},
   "outputs": [],
   "source": [
    "# calling search bar\n",
    "skill_search_bar = driver.find_element(By.XPATH,\"/html/body/div[1]/div[6]/div/div/div[1]/div/div/div/input\")"
   ]
  },
  {
   "cell_type": "code",
   "execution_count": 14,
   "id": "2ad00bf4",
   "metadata": {},
   "outputs": [],
   "source": [
    "# typing data analyst\n",
    "skill_search_bar.send_keys('Data Analyst')"
   ]
  },
  {
   "cell_type": "code",
   "execution_count": 15,
   "id": "269e8c44",
   "metadata": {},
   "outputs": [],
   "source": [
    "# calling location search bar\n",
    "location_search_bar = driver.find_element(By.XPATH,\"/html/body/div[1]/div[6]/div/div/div[5]/div/div/div/input\")"
   ]
  },
  {
   "cell_type": "code",
   "execution_count": 16,
   "id": "6e6348d7",
   "metadata": {},
   "outputs": [],
   "source": [
    "# typing banglore \n",
    "location_search_bar.send_keys('Banglore')"
   ]
  },
  {
   "cell_type": "code",
   "execution_count": 17,
   "id": "37aa602a",
   "metadata": {},
   "outputs": [],
   "source": [
    "# calling search button\n",
    "search_button = driver.find_element(By.XPATH,\"/html/body/div[1]/div[6]/div/div/div[6]\")"
   ]
  },
  {
   "cell_type": "code",
   "execution_count": 18,
   "id": "0fdcf3d2",
   "metadata": {},
   "outputs": [],
   "source": [
    "# clicking search button\n",
    "search_button.click()"
   ]
  },
  {
   "cell_type": "code",
   "execution_count": 19,
   "id": "c88548ae",
   "metadata": {},
   "outputs": [],
   "source": [
    "# empty list for job title\n",
    "job_name = []"
   ]
  },
  {
   "cell_type": "code",
   "execution_count": 20,
   "id": "c70001a6",
   "metadata": {},
   "outputs": [],
   "source": [
    "# writing custom xpath job title\n",
    "jobtitle=driver.find_elements(By.XPATH,\"//a[@class='title fw500 ellipsis']\")"
   ]
  },
  {
   "cell_type": "code",
   "execution_count": 21,
   "id": "b304e5c7",
   "metadata": {},
   "outputs": [],
   "source": [
    "# saving first 10 jjob titles\n",
    "for i in jobtitle[0:10]:\n",
    "    title=i.text\n",
    "    job_name.append(title)"
   ]
  },
  {
   "cell_type": "code",
   "execution_count": 22,
   "id": "46ed4011",
   "metadata": {},
   "outputs": [
    {
     "data": {
      "text/plain": [
       "['Data Analyst',\n",
       " 'Data Analyst - SQL',\n",
       " 'Data Analyst / 4 - 7 years / Bangalore',\n",
       " 'Data Analyst, Business Analyst',\n",
       " 'Sr Data Analyst',\n",
       " 'Senior Data Analyst',\n",
       " 'Project Data Analyst',\n",
       " 'Financial Data Analyst',\n",
       " 'Executive - Data Analyst',\n",
       " 'Data Analyst']"
      ]
     },
     "execution_count": 22,
     "metadata": {},
     "output_type": "execute_result"
    }
   ],
   "source": [
    "job_name"
   ]
  },
  {
   "cell_type": "code",
   "execution_count": 49,
   "id": "44ae915b",
   "metadata": {},
   "outputs": [
    {
     "data": {
      "text/plain": [
       "10"
      ]
     },
     "execution_count": 49,
     "metadata": {},
     "output_type": "execute_result"
    }
   ],
   "source": [
    "# calculating length of title\n",
    "len(job_name)"
   ]
  },
  {
   "cell_type": "code",
   "execution_count": 41,
   "id": "a0d38bdb",
   "metadata": {},
   "outputs": [],
   "source": [
    "# empty list for company title\n",
    "company_name = []"
   ]
  },
  {
   "cell_type": "code",
   "execution_count": 42,
   "id": "d6a9a1ad",
   "metadata": {},
   "outputs": [],
   "source": [
    "# writing custom xpath for company name\n",
    "company_xpath=driver.find_elements(By.XPATH,\"//a[@class='subTitle ellipsis fleft']\")"
   ]
  },
  {
   "cell_type": "code",
   "execution_count": 43,
   "id": "2bfcd142",
   "metadata": {},
   "outputs": [],
   "source": [
    "# saving first 10 comapny name\n",
    "for i in company_xpath[0:10]:\n",
    "    title=i.text\n",
    "    company_name.append(title)"
   ]
  },
  {
   "cell_type": "code",
   "execution_count": 44,
   "id": "6fe6c60e",
   "metadata": {},
   "outputs": [
    {
     "data": {
      "text/plain": [
       "['Treebo Hotels',\n",
       " 'Teamware Solutions',\n",
       " 'Wize Careers Consultants',\n",
       " 'Clinilaunch Research Institute Llp',\n",
       " 'Boston Consulting Group',\n",
       " 'Mobile Premier League (MPL)',\n",
       " 'WSP',\n",
       " 'Apollo Hospitals',\n",
       " 'Flipkart',\n",
       " 'Cargill']"
      ]
     },
     "execution_count": 44,
     "metadata": {},
     "output_type": "execute_result"
    }
   ],
   "source": [
    "company_name"
   ]
  },
  {
   "cell_type": "code",
   "execution_count": 45,
   "id": "3f54bfeb",
   "metadata": {},
   "outputs": [
    {
     "data": {
      "text/plain": [
       "10"
      ]
     },
     "execution_count": 45,
     "metadata": {},
     "output_type": "execute_result"
    }
   ],
   "source": [
    "# calculating length\n",
    "len(company_name)"
   ]
  },
  {
   "cell_type": "code",
   "execution_count": 32,
   "id": "b82e7d37",
   "metadata": {},
   "outputs": [],
   "source": [
    "# making empty list for experience req\n",
    "exp_required= []"
   ]
  },
  {
   "cell_type": "code",
   "execution_count": 31,
   "id": "75f73764",
   "metadata": {},
   "outputs": [],
   "source": [
    "# locating by xpath\n",
    "experience_xpath = driver.find_elements(By.XPATH,\"//span[@class='ellipsis fleft fs12 lh16 expwdth']\")"
   ]
  },
  {
   "cell_type": "code",
   "execution_count": 33,
   "id": "92fb8d74",
   "metadata": {},
   "outputs": [],
   "source": [
    "# adding first 10 comapany's experience requirement\n",
    "for i in experience_xpath[0:10]:\n",
    "    exp_required.append(i.text)"
   ]
  },
  {
   "cell_type": "code",
   "execution_count": 34,
   "id": "6f56a268",
   "metadata": {},
   "outputs": [
    {
     "data": {
      "text/plain": [
       "['1-5 Yrs',\n",
       " '3-5 Yrs',\n",
       " '4-7 Yrs',\n",
       " '0-5 Yrs',\n",
       " '4-6 Yrs',\n",
       " '3-6 Yrs',\n",
       " '0-4 Yrs',\n",
       " '3-8 Yrs',\n",
       " '1-5 Yrs',\n",
       " '3-5 Yrs']"
      ]
     },
     "execution_count": 34,
     "metadata": {},
     "output_type": "execute_result"
    }
   ],
   "source": [
    "exp_required"
   ]
  },
  {
   "cell_type": "code",
   "execution_count": 53,
   "id": "e212b8e0",
   "metadata": {},
   "outputs": [
    {
     "data": {
      "text/plain": [
       "10"
      ]
     },
     "execution_count": 53,
     "metadata": {},
     "output_type": "execute_result"
    }
   ],
   "source": [
    "# calaculating length for exp req\n",
    "len(exp_required)"
   ]
  },
  {
   "cell_type": "code",
   "execution_count": 54,
   "id": "9e01828f",
   "metadata": {},
   "outputs": [],
   "source": [
    "# making empty list for job location\n",
    "location = []"
   ]
  },
  {
   "cell_type": "code",
   "execution_count": 55,
   "id": "a1de3762",
   "metadata": {},
   "outputs": [],
   "source": [
    "# adding xpath for location\n",
    "location_xpath = driver.find_elements(By.XPATH,\"//span[@class='ellipsis fleft fs12 lh16 locWdth']\")"
   ]
  },
  {
   "cell_type": "code",
   "execution_count": 56,
   "id": "0ad842e2",
   "metadata": {},
   "outputs": [],
   "source": [
    "# scrapping first 10 locations\n",
    "for i in location_xpath[0:10]:\n",
    "    location.append(i.text)"
   ]
  },
  {
   "cell_type": "code",
   "execution_count": 57,
   "id": "fe19d078",
   "metadata": {},
   "outputs": [
    {
     "data": {
      "text/plain": [
       "['Temp. WFH - Bangalore/Bengaluru',\n",
       " 'Bangalore/Bengaluru',\n",
       " 'Bangalore/Bengaluru',\n",
       " 'Bangalore/Bengaluru(HSR Layout +1)',\n",
       " 'Bangalore/Bengaluru',\n",
       " 'Bangalore/Bengaluru',\n",
       " 'Bangalore/Bengaluru',\n",
       " 'Bangalore/Bengaluru',\n",
       " 'Bangalore/Bengaluru',\n",
       " 'Bangalore/Bengaluru']"
      ]
     },
     "execution_count": 57,
     "metadata": {},
     "output_type": "execute_result"
    }
   ],
   "source": [
    "location"
   ]
  },
  {
   "cell_type": "code",
   "execution_count": 58,
   "id": "3a8384c9",
   "metadata": {},
   "outputs": [
    {
     "data": {
      "text/plain": [
       "10"
      ]
     },
     "execution_count": 58,
     "metadata": {},
     "output_type": "execute_result"
    }
   ],
   "source": [
    "# calculating length\n",
    "len(location)"
   ]
  },
  {
   "cell_type": "code",
   "execution_count": 61,
   "id": "6e5899fc",
   "metadata": {
    "scrolled": true
   },
   "outputs": [],
   "source": [
    "#making data frame of data from naukri.com \n",
    "jobdata = pd.DataFrame({'job name':job_name,'company name':company_name,'experience required':exp_required,'location':location})"
   ]
  },
  {
   "cell_type": "code",
   "execution_count": 62,
   "id": "770091f4",
   "metadata": {},
   "outputs": [
    {
     "data": {
      "text/html": [
       "<div>\n",
       "<style scoped>\n",
       "    .dataframe tbody tr th:only-of-type {\n",
       "        vertical-align: middle;\n",
       "    }\n",
       "\n",
       "    .dataframe tbody tr th {\n",
       "        vertical-align: top;\n",
       "    }\n",
       "\n",
       "    .dataframe thead th {\n",
       "        text-align: right;\n",
       "    }\n",
       "</style>\n",
       "<table border=\"1\" class=\"dataframe\">\n",
       "  <thead>\n",
       "    <tr style=\"text-align: right;\">\n",
       "      <th></th>\n",
       "      <th>job name</th>\n",
       "      <th>company name</th>\n",
       "      <th>experience required</th>\n",
       "      <th>location</th>\n",
       "    </tr>\n",
       "  </thead>\n",
       "  <tbody>\n",
       "    <tr>\n",
       "      <th>0</th>\n",
       "      <td>Data Analyst</td>\n",
       "      <td>Treebo Hotels</td>\n",
       "      <td>1-5 Yrs</td>\n",
       "      <td>Temp. WFH - Bangalore/Bengaluru</td>\n",
       "    </tr>\n",
       "    <tr>\n",
       "      <th>1</th>\n",
       "      <td>Data Analyst - SQL</td>\n",
       "      <td>Teamware Solutions</td>\n",
       "      <td>3-5 Yrs</td>\n",
       "      <td>Bangalore/Bengaluru</td>\n",
       "    </tr>\n",
       "    <tr>\n",
       "      <th>2</th>\n",
       "      <td>Data Analyst / 4 - 7 years / Bangalore</td>\n",
       "      <td>Wize Careers Consultants</td>\n",
       "      <td>4-7 Yrs</td>\n",
       "      <td>Bangalore/Bengaluru</td>\n",
       "    </tr>\n",
       "    <tr>\n",
       "      <th>3</th>\n",
       "      <td>Data Analyst, Business Analyst</td>\n",
       "      <td>Clinilaunch Research Institute Llp</td>\n",
       "      <td>0-5 Yrs</td>\n",
       "      <td>Bangalore/Bengaluru(HSR Layout +1)</td>\n",
       "    </tr>\n",
       "    <tr>\n",
       "      <th>4</th>\n",
       "      <td>Sr Data Analyst</td>\n",
       "      <td>Boston Consulting Group</td>\n",
       "      <td>4-6 Yrs</td>\n",
       "      <td>Bangalore/Bengaluru</td>\n",
       "    </tr>\n",
       "    <tr>\n",
       "      <th>5</th>\n",
       "      <td>Senior Data Analyst</td>\n",
       "      <td>Mobile Premier League (MPL)</td>\n",
       "      <td>3-6 Yrs</td>\n",
       "      <td>Bangalore/Bengaluru</td>\n",
       "    </tr>\n",
       "    <tr>\n",
       "      <th>6</th>\n",
       "      <td>Project Data Analyst</td>\n",
       "      <td>WSP</td>\n",
       "      <td>0-4 Yrs</td>\n",
       "      <td>Bangalore/Bengaluru</td>\n",
       "    </tr>\n",
       "    <tr>\n",
       "      <th>7</th>\n",
       "      <td>Financial Data Analyst</td>\n",
       "      <td>Apollo Hospitals</td>\n",
       "      <td>3-8 Yrs</td>\n",
       "      <td>Bangalore/Bengaluru</td>\n",
       "    </tr>\n",
       "    <tr>\n",
       "      <th>8</th>\n",
       "      <td>Executive - Data Analyst</td>\n",
       "      <td>Flipkart</td>\n",
       "      <td>1-5 Yrs</td>\n",
       "      <td>Bangalore/Bengaluru</td>\n",
       "    </tr>\n",
       "    <tr>\n",
       "      <th>9</th>\n",
       "      <td>Data Analyst</td>\n",
       "      <td>Cargill</td>\n",
       "      <td>3-5 Yrs</td>\n",
       "      <td>Bangalore/Bengaluru</td>\n",
       "    </tr>\n",
       "  </tbody>\n",
       "</table>\n",
       "</div>"
      ],
      "text/plain": [
       "                                 job name                        company name  \\\n",
       "0                            Data Analyst                       Treebo Hotels   \n",
       "1                      Data Analyst - SQL                  Teamware Solutions   \n",
       "2  Data Analyst / 4 - 7 years / Bangalore            Wize Careers Consultants   \n",
       "3          Data Analyst, Business Analyst  Clinilaunch Research Institute Llp   \n",
       "4                         Sr Data Analyst             Boston Consulting Group   \n",
       "5                     Senior Data Analyst         Mobile Premier League (MPL)   \n",
       "6                    Project Data Analyst                                 WSP   \n",
       "7                  Financial Data Analyst                    Apollo Hospitals   \n",
       "8                Executive - Data Analyst                            Flipkart   \n",
       "9                            Data Analyst                             Cargill   \n",
       "\n",
       "  experience required                            location  \n",
       "0             1-5 Yrs     Temp. WFH - Bangalore/Bengaluru  \n",
       "1             3-5 Yrs                 Bangalore/Bengaluru  \n",
       "2             4-7 Yrs                 Bangalore/Bengaluru  \n",
       "3             0-5 Yrs  Bangalore/Bengaluru(HSR Layout +1)  \n",
       "4             4-6 Yrs                 Bangalore/Bengaluru  \n",
       "5             3-6 Yrs                 Bangalore/Bengaluru  \n",
       "6             0-4 Yrs                 Bangalore/Bengaluru  \n",
       "7             3-8 Yrs                 Bangalore/Bengaluru  \n",
       "8             1-5 Yrs                 Bangalore/Bengaluru  \n",
       "9             3-5 Yrs                 Bangalore/Bengaluru  "
      ]
     },
     "execution_count": 62,
     "metadata": {},
     "output_type": "execute_result"
    }
   ],
   "source": [
    "jobdata"
   ]
  },
  {
   "cell_type": "markdown",
   "id": "f0e26b63",
   "metadata": {},
   "source": [
    "## Scrapping Data From Naukri.com for Data Scientist"
   ]
  },
  {
   "cell_type": "code",
   "execution_count": 75,
   "id": "23b778b9",
   "metadata": {},
   "outputs": [],
   "source": [
    "# calling webdriver\n",
    "driver = webdriver.Chrome('chromedriver.exe')"
   ]
  },
  {
   "cell_type": "code",
   "execution_count": 76,
   "id": "79fbaf2d",
   "metadata": {},
   "outputs": [],
   "source": [
    "#opening website\n",
    "driver.get('https://www.naukri.com/')"
   ]
  },
  {
   "cell_type": "code",
   "execution_count": 77,
   "id": "8b353f51",
   "metadata": {},
   "outputs": [],
   "source": [
    "# calling search bar\n",
    "skill_search_bar = driver.find_element(By.XPATH,\"/html/body/div[1]/div[6]/div/div/div[1]/div/div/div/input\")"
   ]
  },
  {
   "cell_type": "code",
   "execution_count": 79,
   "id": "1caa17c5",
   "metadata": {},
   "outputs": [],
   "source": [
    "# typing data scientist\n",
    "skill_search_bar.send_keys('Data Scientist')"
   ]
  },
  {
   "cell_type": "code",
   "execution_count": 80,
   "id": "3363e41e",
   "metadata": {},
   "outputs": [],
   "source": [
    "# calling location search bar\n",
    "location_search_bar = driver.find_element(By.XPATH,\"/html/body/div[1]/div[6]/div/div/div[5]/div/div/div/input\")"
   ]
  },
  {
   "cell_type": "code",
   "execution_count": 81,
   "id": "327e67cc",
   "metadata": {},
   "outputs": [],
   "source": [
    "# typing banglore \n",
    "location_search_bar.send_keys('Banglore')"
   ]
  },
  {
   "cell_type": "code",
   "execution_count": 82,
   "id": "ca645045",
   "metadata": {},
   "outputs": [],
   "source": [
    "# calling search button\n",
    "search_button = driver.find_element(By.XPATH,\"/html/body/div[1]/div[6]/div/div/div[6]\")"
   ]
  },
  {
   "cell_type": "code",
   "execution_count": 83,
   "id": "69ce6333",
   "metadata": {},
   "outputs": [],
   "source": [
    "# clicking search button\n",
    "search_button.click()"
   ]
  },
  {
   "cell_type": "code",
   "execution_count": 109,
   "id": "be158486",
   "metadata": {},
   "outputs": [],
   "source": [
    "# empty list for job title\n",
    "job_name = []"
   ]
  },
  {
   "cell_type": "code",
   "execution_count": 110,
   "id": "b9c647ca",
   "metadata": {},
   "outputs": [],
   "source": [
    "# writing custom xpath for company name\n",
    "job_xpath=driver.find_elements(By.XPATH,\"//a[@class='title fw500 ellipsis']\")"
   ]
  },
  {
   "cell_type": "code",
   "execution_count": 111,
   "id": "56d4d7fe",
   "metadata": {},
   "outputs": [],
   "source": [
    "# scrapping first 10 locations\n",
    "for i in job_xpath[0:10]:\n",
    "    job_name.append(i.text)"
   ]
  },
  {
   "cell_type": "code",
   "execution_count": 112,
   "id": "57378d52",
   "metadata": {},
   "outputs": [
    {
     "data": {
      "text/plain": [
       "10"
      ]
     },
     "execution_count": 112,
     "metadata": {},
     "output_type": "execute_result"
    }
   ],
   "source": [
    "len(job_name)"
   ]
  },
  {
   "cell_type": "code",
   "execution_count": 86,
   "id": "9bc8b0f1",
   "metadata": {},
   "outputs": [],
   "source": [
    "# empty list for company title\n",
    "company_name = []"
   ]
  },
  {
   "cell_type": "code",
   "execution_count": 87,
   "id": "5ebadcdc",
   "metadata": {},
   "outputs": [],
   "source": [
    "# writing custom xpath for company name\n",
    "company_xpath=driver.find_elements(By.XPATH,\"//a[@class='subTitle ellipsis fleft']\")"
   ]
  },
  {
   "cell_type": "code",
   "execution_count": 96,
   "id": "5387e9d2",
   "metadata": {},
   "outputs": [],
   "source": [
    "# scrapping first 10 company\n",
    "for i in company_xpath[0:10]:\n",
    "    company_name.append(i.text)"
   ]
  },
  {
   "cell_type": "code",
   "execution_count": 97,
   "id": "6a29bd49",
   "metadata": {},
   "outputs": [
    {
     "data": {
      "text/plain": [
       "10"
      ]
     },
     "execution_count": 97,
     "metadata": {},
     "output_type": "execute_result"
    }
   ],
   "source": [
    "len(company_name)"
   ]
  },
  {
   "cell_type": "code",
   "execution_count": 88,
   "id": "d04c99a3",
   "metadata": {},
   "outputs": [],
   "source": [
    "# making empty list for job location\n",
    "location = []"
   ]
  },
  {
   "cell_type": "code",
   "execution_count": 92,
   "id": "a9e3f2dd",
   "metadata": {},
   "outputs": [],
   "source": [
    "# adding xpath for location\n",
    "location_xpath = driver.find_elements(By.XPATH,\"//span[@class='ellipsis fleft fs12 lh16 locWdth']\")"
   ]
  },
  {
   "cell_type": "code",
   "execution_count": 93,
   "id": "2478f2b2",
   "metadata": {},
   "outputs": [],
   "source": [
    "# scrapping first 10 locations\n",
    "for i in location_xpath[0:10]:\n",
    "    location.append(i.text)"
   ]
  },
  {
   "cell_type": "code",
   "execution_count": 94,
   "id": "84288698",
   "metadata": {},
   "outputs": [
    {
     "data": {
      "text/plain": [
       "10"
      ]
     },
     "execution_count": 94,
     "metadata": {},
     "output_type": "execute_result"
    }
   ],
   "source": [
    "len(location)"
   ]
  },
  {
   "cell_type": "code",
   "execution_count": 113,
   "id": "bb61625c",
   "metadata": {},
   "outputs": [],
   "source": [
    "#making data frame of data from naukri.com \n",
    "jobdata = pd.DataFrame({'job name':job_name,'company name':company_name,'location':location})"
   ]
  },
  {
   "cell_type": "code",
   "execution_count": 114,
   "id": "56c34e5a",
   "metadata": {},
   "outputs": [
    {
     "data": {
      "text/html": [
       "<div>\n",
       "<style scoped>\n",
       "    .dataframe tbody tr th:only-of-type {\n",
       "        vertical-align: middle;\n",
       "    }\n",
       "\n",
       "    .dataframe tbody tr th {\n",
       "        vertical-align: top;\n",
       "    }\n",
       "\n",
       "    .dataframe thead th {\n",
       "        text-align: right;\n",
       "    }\n",
       "</style>\n",
       "<table border=\"1\" class=\"dataframe\">\n",
       "  <thead>\n",
       "    <tr style=\"text-align: right;\">\n",
       "      <th></th>\n",
       "      <th>job name</th>\n",
       "      <th>company name</th>\n",
       "      <th>location</th>\n",
       "    </tr>\n",
       "  </thead>\n",
       "  <tbody>\n",
       "    <tr>\n",
       "      <th>0</th>\n",
       "      <td>Analystics &amp; Modeling Specialist</td>\n",
       "      <td>Accenture</td>\n",
       "      <td>Kolkata, Mumbai, Hyderabad/Secunderabad, Pune,...</td>\n",
       "    </tr>\n",
       "    <tr>\n",
       "      <th>1</th>\n",
       "      <td>Data Scientist</td>\n",
       "      <td>Tata Nexarc</td>\n",
       "      <td>New Delhi, Hyderabad/Secunderabad, Pune, Ahmed...</td>\n",
       "    </tr>\n",
       "    <tr>\n",
       "      <th>2</th>\n",
       "      <td>Data Scientist</td>\n",
       "      <td>Tech Mahindra</td>\n",
       "      <td>Nagpur, Pune, Bangalore/Bengaluru</td>\n",
       "    </tr>\n",
       "    <tr>\n",
       "      <th>3</th>\n",
       "      <td>ACN - Applied Intelligence - Data Scientist - 09</td>\n",
       "      <td>Accenture</td>\n",
       "      <td>Bangalore/Bengaluru</td>\n",
       "    </tr>\n",
       "    <tr>\n",
       "      <th>4</th>\n",
       "      <td>Data Scientist</td>\n",
       "      <td>Mindtree</td>\n",
       "      <td>Hybrid - Noida, Kolkata, Hyderabad/Secunderaba...</td>\n",
       "    </tr>\n",
       "    <tr>\n",
       "      <th>5</th>\n",
       "      <td>Data Scientist - II</td>\n",
       "      <td>Bizongo</td>\n",
       "      <td>India, Bangalore/Bengaluru, Mumbai (All Areas)</td>\n",
       "    </tr>\n",
       "    <tr>\n",
       "      <th>6</th>\n",
       "      <td>Senior Data Scientist</td>\n",
       "      <td>Baker Hughes</td>\n",
       "      <td>Mumbai, Bangalore/Bengaluru</td>\n",
       "    </tr>\n",
       "    <tr>\n",
       "      <th>7</th>\n",
       "      <td>Lead Data Scientist</td>\n",
       "      <td>Caterpillar Inc</td>\n",
       "      <td>Bangalore/Bengaluru</td>\n",
       "    </tr>\n",
       "    <tr>\n",
       "      <th>8</th>\n",
       "      <td>Lead Data Scientist</td>\n",
       "      <td>Lowe's</td>\n",
       "      <td>Bangalore/Bengaluru</td>\n",
       "    </tr>\n",
       "    <tr>\n",
       "      <th>9</th>\n",
       "      <td>Data Science - Engineering Manager</td>\n",
       "      <td>Paytm</td>\n",
       "      <td>New Delhi, Bangalore/Bengaluru</td>\n",
       "    </tr>\n",
       "  </tbody>\n",
       "</table>\n",
       "</div>"
      ],
      "text/plain": [
       "                                           job name     company name  \\\n",
       "0                  Analystics & Modeling Specialist        Accenture   \n",
       "1                                    Data Scientist      Tata Nexarc   \n",
       "2                                    Data Scientist    Tech Mahindra   \n",
       "3  ACN - Applied Intelligence - Data Scientist - 09        Accenture   \n",
       "4                                    Data Scientist         Mindtree   \n",
       "5                               Data Scientist - II          Bizongo   \n",
       "6                             Senior Data Scientist     Baker Hughes   \n",
       "7                               Lead Data Scientist  Caterpillar Inc   \n",
       "8                               Lead Data Scientist           Lowe's   \n",
       "9                Data Science - Engineering Manager            Paytm   \n",
       "\n",
       "                                            location  \n",
       "0  Kolkata, Mumbai, Hyderabad/Secunderabad, Pune,...  \n",
       "1  New Delhi, Hyderabad/Secunderabad, Pune, Ahmed...  \n",
       "2                  Nagpur, Pune, Bangalore/Bengaluru  \n",
       "3                                Bangalore/Bengaluru  \n",
       "4  Hybrid - Noida, Kolkata, Hyderabad/Secunderaba...  \n",
       "5     India, Bangalore/Bengaluru, Mumbai (All Areas)  \n",
       "6                        Mumbai, Bangalore/Bengaluru  \n",
       "7                                Bangalore/Bengaluru  \n",
       "8                                Bangalore/Bengaluru  \n",
       "9                     New Delhi, Bangalore/Bengaluru  "
      ]
     },
     "execution_count": 114,
     "metadata": {},
     "output_type": "execute_result"
    }
   ],
   "source": [
    "jobdata"
   ]
  },
  {
   "cell_type": "markdown",
   "id": "c3812d0c",
   "metadata": {},
   "source": [
    "## Scrapping Data From Naukri.com for Data Scientist using filter"
   ]
  },
  {
   "cell_type": "code",
   "execution_count": 132,
   "id": "70955937",
   "metadata": {},
   "outputs": [],
   "source": [
    "# calling driver\n",
    "driver = webdriver.Chrome('chromedriver.exe')"
   ]
  },
  {
   "cell_type": "code",
   "execution_count": 133,
   "id": "d7e349a9",
   "metadata": {},
   "outputs": [],
   "source": [
    "# opening web\n",
    "driver.get('https://www.naukri.com/')"
   ]
  },
  {
   "cell_type": "code",
   "execution_count": 134,
   "id": "797e35f8",
   "metadata": {},
   "outputs": [],
   "source": [
    "# adding search bar\n",
    "search_bar = driver.find_element(By.XPATH,'/html/body/div[1]/div[6]/div/div/div[1]/div/div/div/input')"
   ]
  },
  {
   "cell_type": "code",
   "execution_count": 135,
   "id": "3cb15288",
   "metadata": {},
   "outputs": [],
   "source": [
    "# searching data scientist\n",
    "search_bar.send_keys('data scientist')"
   ]
  },
  {
   "cell_type": "code",
   "execution_count": 136,
   "id": "0093886a",
   "metadata": {},
   "outputs": [],
   "source": [
    "#location_search = driver.find_element(By.XPATH,'/html/body/div[1]/div[6]/div/div/div[5]/div/div/div/input')"
   ]
  },
  {
   "cell_type": "code",
   "execution_count": 137,
   "id": "b5780f93",
   "metadata": {},
   "outputs": [],
   "source": [
    "#location_search.send_keys('Delhi')"
   ]
  },
  {
   "cell_type": "code",
   "execution_count": 138,
   "id": "9ef2c9f2",
   "metadata": {},
   "outputs": [],
   "source": [
    "# calling search button\n",
    "search_button =driver.find_element(By.XPATH,'/html/body/div[1]/div[6]/div/div/div[6]')"
   ]
  },
  {
   "cell_type": "code",
   "execution_count": 139,
   "id": "9b597141",
   "metadata": {},
   "outputs": [],
   "source": [
    "#clicking search\n",
    "search_button.click()"
   ]
  },
  {
   "cell_type": "code",
   "execution_count": 142,
   "id": "59de9666",
   "metadata": {},
   "outputs": [],
   "source": [
    "# adding location filter of delhi NCR\n",
    "delhi_filter = driver.find_element(By.XPATH,'/html/body/div[1]/div[4]/div/div/section[1]/div[2]/div[5]/div[2]/div[2]/label/p/span[1]')"
   ]
  },
  {
   "cell_type": "code",
   "execution_count": 143,
   "id": "5dc205b1",
   "metadata": {},
   "outputs": [],
   "source": [
    "# clicking filter\n",
    "delhi_filter.click()"
   ]
  },
  {
   "cell_type": "code",
   "execution_count": 144,
   "id": "7abe6931",
   "metadata": {},
   "outputs": [],
   "source": [
    "# salary filter 3-6 lakhs\n",
    "salary_filter = driver.find_element(By.XPATH,'/html/body/div[1]/div[4]/div/div/section[1]/div[2]/div[6]/div[2]/div[2]/label/p/span[1]')"
   ]
  },
  {
   "cell_type": "code",
   "execution_count": 145,
   "id": "2c3c058a",
   "metadata": {},
   "outputs": [],
   "source": [
    "# clicking filter\n",
    "salary_filter.click()"
   ]
  },
  {
   "cell_type": "code",
   "execution_count": 177,
   "id": "73371b2d",
   "metadata": {},
   "outputs": [],
   "source": [
    "# crating blank list for job title\n",
    "job_title = []"
   ]
  },
  {
   "cell_type": "code",
   "execution_count": 178,
   "id": "935e7616",
   "metadata": {
    "scrolled": true
   },
   "outputs": [],
   "source": [
    "# creating xpath\n",
    "job_xpath = driver.find_elements(By.XPATH,\"//a[@class='title fw500 ellipsis']\")"
   ]
  },
  {
   "cell_type": "code",
   "execution_count": 179,
   "id": "6636aeb9",
   "metadata": {},
   "outputs": [],
   "source": [
    "# getting first 10 titles \n",
    "for i in job_xpath[0:10]:\n",
    "    job_title.append(i.text)"
   ]
  },
  {
   "cell_type": "code",
   "execution_count": 180,
   "id": "923a7239",
   "metadata": {},
   "outputs": [
    {
     "data": {
      "text/plain": [
       "['Artificial Intelligence/Computer Vision Engineer - Machine Learning',\n",
       " 'Data Activation Specialist - Adobe Target',\n",
       " 'Data Scientist',\n",
       " 'Data Scientist - Engine Algorithm',\n",
       " 'Opening For Jr. Data Scientist with Tatras Data For Delhi location',\n",
       " 'SE/SSE-Data Scientist',\n",
       " 'Data Scientist',\n",
       " 'Data Scientist',\n",
       " 'URGENT: Data Scientist | Gurugram | 5 Days Working',\n",
       " 'Data Scientist']"
      ]
     },
     "execution_count": 180,
     "metadata": {},
     "output_type": "execute_result"
    }
   ],
   "source": [
    "job_title"
   ]
  },
  {
   "cell_type": "code",
   "execution_count": 181,
   "id": "3dec62c9",
   "metadata": {},
   "outputs": [
    {
     "data": {
      "text/plain": [
       "10"
      ]
     },
     "execution_count": 181,
     "metadata": {},
     "output_type": "execute_result"
    }
   ],
   "source": [
    "# calculating length\n",
    "len(job_title)"
   ]
  },
  {
   "cell_type": "code",
   "execution_count": 154,
   "id": "838b5c39",
   "metadata": {},
   "outputs": [],
   "source": [
    "# company blank list\n",
    "company = []"
   ]
  },
  {
   "cell_type": "code",
   "execution_count": 156,
   "id": "4de7347c",
   "metadata": {},
   "outputs": [],
   "source": [
    "# compsny xpath\n",
    "company_xpath = driver.find_elements(By.XPATH,\"//a[@class='subTitle ellipsis fleft']\")"
   ]
  },
  {
   "cell_type": "code",
   "execution_count": 157,
   "id": "68a00ba0",
   "metadata": {},
   "outputs": [],
   "source": [
    "# adding first 10 companies\n",
    "for i in company_xpath[0:10]:\n",
    "    company.append(i.text)"
   ]
  },
  {
   "cell_type": "code",
   "execution_count": 158,
   "id": "b7bea3d3",
   "metadata": {},
   "outputs": [
    {
     "data": {
      "text/plain": [
       "['Vicara',\n",
       " 'Okda Solutions',\n",
       " 'NGI Ventures',\n",
       " 'Primo Hiring',\n",
       " 'Tatras Data Services',\n",
       " 'Bold Technology Systems',\n",
       " 'torcai digital media',\n",
       " 'Americana Restaurants (india)',\n",
       " 'Digilytics',\n",
       " 'Alliance Recruitment Agency']"
      ]
     },
     "execution_count": 158,
     "metadata": {},
     "output_type": "execute_result"
    }
   ],
   "source": [
    "company"
   ]
  },
  {
   "cell_type": "code",
   "execution_count": 182,
   "id": "0ac6d637",
   "metadata": {},
   "outputs": [
    {
     "data": {
      "text/plain": [
       "10"
      ]
     },
     "execution_count": 182,
     "metadata": {},
     "output_type": "execute_result"
    }
   ],
   "source": [
    "# measuring length\n",
    "len(company)"
   ]
  },
  {
   "cell_type": "code",
   "execution_count": 161,
   "id": "a3803f28",
   "metadata": {},
   "outputs": [],
   "source": [
    "# exp blank list\n",
    "exp = []"
   ]
  },
  {
   "cell_type": "code",
   "execution_count": 163,
   "id": "cf412ba8",
   "metadata": {},
   "outputs": [],
   "source": [
    "# exp xpath\n",
    "exp_xpath = driver.find_elements(By.XPATH,\"//span[@class='ellipsis fleft fs12 lh16 expwdth']\")"
   ]
  },
  {
   "cell_type": "code",
   "execution_count": 164,
   "id": "fa1626eb",
   "metadata": {},
   "outputs": [],
   "source": [
    "# adding first 10 exp\n",
    "for i in exp_xpath[0:10]:\n",
    "    exp.append(i.text)"
   ]
  },
  {
   "cell_type": "code",
   "execution_count": 165,
   "id": "6b7614cf",
   "metadata": {},
   "outputs": [
    {
     "data": {
      "text/plain": [
       "['1-3 Yrs',\n",
       " '7-10 Yrs',\n",
       " '1-5 Yrs',\n",
       " '1-3 Yrs',\n",
       " '2-4 Yrs',\n",
       " '3-8 Yrs',\n",
       " '2-7 Yrs',\n",
       " '3-8 Yrs',\n",
       " '2-5 Yrs',\n",
       " '3-4 Yrs']"
      ]
     },
     "execution_count": 165,
     "metadata": {},
     "output_type": "execute_result"
    }
   ],
   "source": [
    "exp"
   ]
  },
  {
   "cell_type": "code",
   "execution_count": 183,
   "id": "b1354593",
   "metadata": {},
   "outputs": [
    {
     "data": {
      "text/plain": [
       "10"
      ]
     },
     "execution_count": 183,
     "metadata": {},
     "output_type": "execute_result"
    }
   ],
   "source": [
    "len(exp)"
   ]
  },
  {
   "cell_type": "code",
   "execution_count": 167,
   "id": "5444d6ad",
   "metadata": {},
   "outputs": [],
   "source": [
    "# location blank list\n",
    "location = []"
   ]
  },
  {
   "cell_type": "code",
   "execution_count": 168,
   "id": "ccba122b",
   "metadata": {},
   "outputs": [],
   "source": [
    "# location xpath\n",
    "location_xpath = driver.find_elements(By.XPATH,\"//span[@class='ellipsis fleft fs12 lh16 locWdth']\")"
   ]
  },
  {
   "cell_type": "code",
   "execution_count": 169,
   "id": "3b19d678",
   "metadata": {},
   "outputs": [],
   "source": [
    "# adding first 10 location\n",
    "for i in location_xpath[0:10]:\n",
    "    location.append(i.text)"
   ]
  },
  {
   "cell_type": "code",
   "execution_count": 172,
   "id": "e86a4877",
   "metadata": {},
   "outputs": [
    {
     "data": {
      "text/plain": [
       "['Delhi / NCR, Kolkata, Mumbai, Hyderabad/Secunderabad, Pune, Chennai, Ahmedabad, Bangalore/Bengaluru',\n",
       " 'Delhi / NCR, Kolkata, Mumbai, Hyderabad/Secunderabad, Lucknow, Chennai, Ahmedabad, Bangalore/Bengaluru',\n",
       " 'Temp. WFH - Noida',\n",
       " 'Delhi / NCR, Kolkata, Mumbai, Hyderabad/Secunderabad, Lucknow, Chennai, Ahmedabad, Bangalore/Bengaluru',\n",
       " 'Delhi / NCR',\n",
       " 'Delhi / NCR',\n",
       " 'Dehradun, Hyderabad/Secunderabad, Gurgaon/Gurugram',\n",
       " 'Gurgaon/Gurugram',\n",
       " 'Gurgaon/Gurugram',\n",
       " 'Noida']"
      ]
     },
     "execution_count": 172,
     "metadata": {},
     "output_type": "execute_result"
    }
   ],
   "source": [
    "location"
   ]
  },
  {
   "cell_type": "code",
   "execution_count": 184,
   "id": "a2094fd8",
   "metadata": {},
   "outputs": [
    {
     "data": {
      "text/plain": [
       "10"
      ]
     },
     "execution_count": 184,
     "metadata": {},
     "output_type": "execute_result"
    }
   ],
   "source": [
    "len(location)"
   ]
  },
  {
   "cell_type": "code",
   "execution_count": 185,
   "id": "8aef9e1f",
   "metadata": {},
   "outputs": [],
   "source": [
    "# making dataframe\n",
    "jobdata_ds = pd.DataFrame({'job_title':job_title,'job_location':location,'experience_req':exp,'company':company})"
   ]
  },
  {
   "cell_type": "code",
   "execution_count": 186,
   "id": "eb3fc454",
   "metadata": {},
   "outputs": [
    {
     "data": {
      "text/html": [
       "<div>\n",
       "<style scoped>\n",
       "    .dataframe tbody tr th:only-of-type {\n",
       "        vertical-align: middle;\n",
       "    }\n",
       "\n",
       "    .dataframe tbody tr th {\n",
       "        vertical-align: top;\n",
       "    }\n",
       "\n",
       "    .dataframe thead th {\n",
       "        text-align: right;\n",
       "    }\n",
       "</style>\n",
       "<table border=\"1\" class=\"dataframe\">\n",
       "  <thead>\n",
       "    <tr style=\"text-align: right;\">\n",
       "      <th></th>\n",
       "      <th>job_title</th>\n",
       "      <th>job_location</th>\n",
       "      <th>experience_req</th>\n",
       "      <th>company</th>\n",
       "    </tr>\n",
       "  </thead>\n",
       "  <tbody>\n",
       "    <tr>\n",
       "      <th>0</th>\n",
       "      <td>Artificial Intelligence/Computer Vision Engine...</td>\n",
       "      <td>Delhi / NCR, Kolkata, Mumbai, Hyderabad/Secund...</td>\n",
       "      <td>1-3 Yrs</td>\n",
       "      <td>Vicara</td>\n",
       "    </tr>\n",
       "    <tr>\n",
       "      <th>1</th>\n",
       "      <td>Data Activation Specialist - Adobe Target</td>\n",
       "      <td>Delhi / NCR, Kolkata, Mumbai, Hyderabad/Secund...</td>\n",
       "      <td>7-10 Yrs</td>\n",
       "      <td>Okda Solutions</td>\n",
       "    </tr>\n",
       "    <tr>\n",
       "      <th>2</th>\n",
       "      <td>Data Scientist</td>\n",
       "      <td>Temp. WFH - Noida</td>\n",
       "      <td>1-5 Yrs</td>\n",
       "      <td>NGI Ventures</td>\n",
       "    </tr>\n",
       "    <tr>\n",
       "      <th>3</th>\n",
       "      <td>Data Scientist - Engine Algorithm</td>\n",
       "      <td>Delhi / NCR, Kolkata, Mumbai, Hyderabad/Secund...</td>\n",
       "      <td>1-3 Yrs</td>\n",
       "      <td>Primo Hiring</td>\n",
       "    </tr>\n",
       "    <tr>\n",
       "      <th>4</th>\n",
       "      <td>Opening For Jr. Data Scientist with Tatras Dat...</td>\n",
       "      <td>Delhi / NCR</td>\n",
       "      <td>2-4 Yrs</td>\n",
       "      <td>Tatras Data Services</td>\n",
       "    </tr>\n",
       "    <tr>\n",
       "      <th>5</th>\n",
       "      <td>SE/SSE-Data Scientist</td>\n",
       "      <td>Delhi / NCR</td>\n",
       "      <td>3-8 Yrs</td>\n",
       "      <td>Bold Technology Systems</td>\n",
       "    </tr>\n",
       "    <tr>\n",
       "      <th>6</th>\n",
       "      <td>Data Scientist</td>\n",
       "      <td>Dehradun, Hyderabad/Secunderabad, Gurgaon/Guru...</td>\n",
       "      <td>2-7 Yrs</td>\n",
       "      <td>torcai digital media</td>\n",
       "    </tr>\n",
       "    <tr>\n",
       "      <th>7</th>\n",
       "      <td>Data Scientist</td>\n",
       "      <td>Gurgaon/Gurugram</td>\n",
       "      <td>3-8 Yrs</td>\n",
       "      <td>Americana Restaurants (india)</td>\n",
       "    </tr>\n",
       "    <tr>\n",
       "      <th>8</th>\n",
       "      <td>URGENT: Data Scientist | Gurugram | 5 Days Wor...</td>\n",
       "      <td>Gurgaon/Gurugram</td>\n",
       "      <td>2-5 Yrs</td>\n",
       "      <td>Digilytics</td>\n",
       "    </tr>\n",
       "    <tr>\n",
       "      <th>9</th>\n",
       "      <td>Data Scientist</td>\n",
       "      <td>Noida</td>\n",
       "      <td>3-4 Yrs</td>\n",
       "      <td>Alliance Recruitment Agency</td>\n",
       "    </tr>\n",
       "  </tbody>\n",
       "</table>\n",
       "</div>"
      ],
      "text/plain": [
       "                                           job_title  \\\n",
       "0  Artificial Intelligence/Computer Vision Engine...   \n",
       "1          Data Activation Specialist - Adobe Target   \n",
       "2                                     Data Scientist   \n",
       "3                  Data Scientist - Engine Algorithm   \n",
       "4  Opening For Jr. Data Scientist with Tatras Dat...   \n",
       "5                              SE/SSE-Data Scientist   \n",
       "6                                     Data Scientist   \n",
       "7                                     Data Scientist   \n",
       "8  URGENT: Data Scientist | Gurugram | 5 Days Wor...   \n",
       "9                                     Data Scientist   \n",
       "\n",
       "                                        job_location experience_req  \\\n",
       "0  Delhi / NCR, Kolkata, Mumbai, Hyderabad/Secund...        1-3 Yrs   \n",
       "1  Delhi / NCR, Kolkata, Mumbai, Hyderabad/Secund...       7-10 Yrs   \n",
       "2                                  Temp. WFH - Noida        1-5 Yrs   \n",
       "3  Delhi / NCR, Kolkata, Mumbai, Hyderabad/Secund...        1-3 Yrs   \n",
       "4                                        Delhi / NCR        2-4 Yrs   \n",
       "5                                        Delhi / NCR        3-8 Yrs   \n",
       "6  Dehradun, Hyderabad/Secunderabad, Gurgaon/Guru...        2-7 Yrs   \n",
       "7                                   Gurgaon/Gurugram        3-8 Yrs   \n",
       "8                                   Gurgaon/Gurugram        2-5 Yrs   \n",
       "9                                              Noida        3-4 Yrs   \n",
       "\n",
       "                         company  \n",
       "0                         Vicara  \n",
       "1                 Okda Solutions  \n",
       "2                   NGI Ventures  \n",
       "3                   Primo Hiring  \n",
       "4           Tatras Data Services  \n",
       "5        Bold Technology Systems  \n",
       "6           torcai digital media  \n",
       "7  Americana Restaurants (india)  \n",
       "8                     Digilytics  \n",
       "9    Alliance Recruitment Agency  "
      ]
     },
     "execution_count": 186,
     "metadata": {},
     "output_type": "execute_result"
    }
   ],
   "source": [
    "jobdata_ds"
   ]
  },
  {
   "cell_type": "markdown",
   "id": "d0c410ab",
   "metadata": {},
   "source": [
    "## Scrapping Data From Flipkart of Sunglasses"
   ]
  },
  {
   "cell_type": "code",
   "execution_count": 106,
   "id": "97d027ea",
   "metadata": {},
   "outputs": [],
   "source": [
    "driver = webdriver.Chrome('chromedriver.exe')"
   ]
  },
  {
   "cell_type": "code",
   "execution_count": 107,
   "id": "927f796c",
   "metadata": {},
   "outputs": [],
   "source": [
    "driver.get('https://www.flipkart.com/')"
   ]
  },
  {
   "cell_type": "code",
   "execution_count": 108,
   "id": "428db653",
   "metadata": {},
   "outputs": [],
   "source": [
    "search_bar = driver.find_element(By.XPATH,\"/html/body/div[1]/div/div[1]/div[1]/div[2]/div[2]/form/div/div/input\")"
   ]
  },
  {
   "cell_type": "code",
   "execution_count": 109,
   "id": "a27ffd1f",
   "metadata": {
    "scrolled": true
   },
   "outputs": [],
   "source": [
    "search_bar.send_keys('Sunglasses')"
   ]
  },
  {
   "cell_type": "code",
   "execution_count": 110,
   "id": "e7a80593",
   "metadata": {},
   "outputs": [],
   "source": [
    "search_box = driver.find_element(By.XPATH,\"/html/body/div[1]/div/div[1]/div[1]/div[2]/div[2]/form/div/button\")"
   ]
  },
  {
   "cell_type": "code",
   "execution_count": 111,
   "id": "7f56835c",
   "metadata": {},
   "outputs": [],
   "source": [
    "search_box.click()"
   ]
  },
  {
   "cell_type": "code",
   "execution_count": 174,
   "id": "d8b39427",
   "metadata": {},
   "outputs": [],
   "source": [
    "brand=[]"
   ]
  },
  {
   "cell_type": "code",
   "execution_count": 175,
   "id": "cc275438",
   "metadata": {},
   "outputs": [],
   "source": [
    "brand_xpath = driver.find_elements(By.XPATH,'//div[@class=\"_2WkVRV\"]')"
   ]
  },
  {
   "cell_type": "code",
   "execution_count": 176,
   "id": "98f7a8f3",
   "metadata": {},
   "outputs": [],
   "source": [
    "for i in brand_xpath[0:100]:\n",
    "    brand.append(i.text)"
   ]
  },
  {
   "cell_type": "code",
   "execution_count": 177,
   "id": "22d69ea6",
   "metadata": {
    "scrolled": true
   },
   "outputs": [
    {
     "data": {
      "text/plain": [
       "['OAKLEY',\n",
       " 'NuVew',\n",
       " 'ROZZETTA CRAFT',\n",
       " 'Elligator',\n",
       " 'VINCENT CHASE',\n",
       " 'Ray-Ban',\n",
       " 'ROZZETTA CRAFT',\n",
       " 'SRPM',\n",
       " 'shah collections',\n",
       " 'GANSTA',\n",
       " 'Urbanic',\n",
       " 'ROZZETTA CRAFT',\n",
       " 'HRX by Hrithik Roshan',\n",
       " 'PETER JONES',\n",
       " 'FOSSIL',\n",
       " 'ROYAL SON',\n",
       " 'OAKLEY',\n",
       " 'ROZZETTA CRAFT',\n",
       " 'IZAAN MART',\n",
       " 'ROZZETTA CRAFT',\n",
       " 'Urbanic',\n",
       " 'United Colors of Benetton',\n",
       " 'VINCENT CHASE',\n",
       " 'ROYAL SON',\n",
       " 'NuVew',\n",
       " 'Rich Club',\n",
       " 'VINCENT CHASE',\n",
       " 'VINCENT CHASE',\n",
       " 'VINCENT CHASE',\n",
       " 'PROVOGUE',\n",
       " 'New Specs',\n",
       " 'ROYAL SON',\n",
       " 'AISLIN',\n",
       " 'Singco',\n",
       " 'AISLIN',\n",
       " 'ROYAL SON',\n",
       " 'TheWhoop',\n",
       " 'VINCENT CHASE',\n",
       " 'NuVew',\n",
       " 'Sewell']"
      ]
     },
     "execution_count": 177,
     "metadata": {},
     "output_type": "execute_result"
    }
   ],
   "source": [
    "brand"
   ]
  },
  {
   "cell_type": "code",
   "execution_count": 178,
   "id": "8c89e71f",
   "metadata": {
    "scrolled": false
   },
   "outputs": [
    {
     "data": {
      "text/plain": [
       "40"
      ]
     },
     "execution_count": 178,
     "metadata": {},
     "output_type": "execute_result"
    }
   ],
   "source": [
    "len(brand)"
   ]
  },
  {
   "cell_type": "code",
   "execution_count": 121,
   "id": "1a616eda",
   "metadata": {},
   "outputs": [],
   "source": [
    "price = []"
   ]
  },
  {
   "cell_type": "code",
   "execution_count": 122,
   "id": "9b663079",
   "metadata": {},
   "outputs": [],
   "source": [
    "price_xpath = driver.find_elements(By.XPATH,\"//div[@class='_30jeq3']\")"
   ]
  },
  {
   "cell_type": "code",
   "execution_count": 123,
   "id": "eda6c1d3",
   "metadata": {},
   "outputs": [],
   "source": [
    "for i in price_xpath[0:40]:\n",
    "    price.append(i.text)"
   ]
  },
  {
   "cell_type": "code",
   "execution_count": 124,
   "id": "0f3e1de0",
   "metadata": {},
   "outputs": [
    {
     "data": {
      "text/plain": [
       "['₹199',\n",
       " '₹278',\n",
       " '₹129',\n",
       " '₹489',\n",
       " '₹149',\n",
       " '₹129',\n",
       " '₹599',\n",
       " '₹497',\n",
       " '₹129',\n",
       " '₹539',\n",
       " '₹283',\n",
       " '₹806',\n",
       " '₹159',\n",
       " '₹149',\n",
       " '₹539',\n",
       " '₹597',\n",
       " '₹479',\n",
       " '₹149',\n",
       " '₹259',\n",
       " '₹719',\n",
       " '₹179',\n",
       " '₹599',\n",
       " '₹479',\n",
       " '₹284',\n",
       " '₹257',\n",
       " '₹664',\n",
       " '₹479',\n",
       " '₹447',\n",
       " '₹599',\n",
       " '₹149',\n",
       " '₹209',\n",
       " '₹949',\n",
       " '₹969',\n",
       " '₹599',\n",
       " '₹129',\n",
       " '₹328',\n",
       " '₹2,699',\n",
       " '₹269',\n",
       " '₹128',\n",
       " '₹497']"
      ]
     },
     "execution_count": 124,
     "metadata": {},
     "output_type": "execute_result"
    }
   ],
   "source": [
    "price"
   ]
  },
  {
   "cell_type": "code",
   "execution_count": 125,
   "id": "992b5d5e",
   "metadata": {},
   "outputs": [
    {
     "data": {
      "text/plain": [
       "40"
      ]
     },
     "execution_count": 125,
     "metadata": {},
     "output_type": "execute_result"
    }
   ],
   "source": [
    "len(price)"
   ]
  },
  {
   "cell_type": "code",
   "execution_count": 161,
   "id": "655e1320",
   "metadata": {},
   "outputs": [],
   "source": [
    "description = []"
   ]
  },
  {
   "cell_type": "code",
   "execution_count": 162,
   "id": "4ab21a27",
   "metadata": {},
   "outputs": [],
   "source": [
    "description_xpath = driver.find_elements(By.XPATH,'//a[@class=\"IRpwTa\"]')"
   ]
  },
  {
   "cell_type": "code",
   "execution_count": 163,
   "id": "d5310ce4",
   "metadata": {},
   "outputs": [],
   "source": [
    "for i in description_xpath[0:40]:\n",
    "    description.append(i.text)"
   ]
  },
  {
   "cell_type": "code",
   "execution_count": 164,
   "id": "393ea045",
   "metadata": {},
   "outputs": [
    {
     "data": {
      "text/plain": [
       "40"
      ]
     },
     "execution_count": 164,
     "metadata": {},
     "output_type": "execute_result"
    }
   ],
   "source": [
    "len(description)"
   ]
  },
  {
   "cell_type": "code",
   "execution_count": 130,
   "id": "ed85eac1",
   "metadata": {},
   "outputs": [],
   "source": [
    "next_button = driver.find_element(By.XPATH,'/html/body/div[1]/div/div[3]/div[1]/div[2]/div[12]/div/div/nav/a[11]')"
   ]
  },
  {
   "cell_type": "code",
   "execution_count": 131,
   "id": "8d32fd78",
   "metadata": {},
   "outputs": [],
   "source": [
    "next_button.click()"
   ]
  },
  {
   "cell_type": "code",
   "execution_count": 179,
   "id": "ee792f4e",
   "metadata": {},
   "outputs": [],
   "source": [
    "brand_xpath = driver.find_elements(By.XPATH,\"//div[@class='_2WkVRV']\")"
   ]
  },
  {
   "cell_type": "code",
   "execution_count": 180,
   "id": "d0e69f6b",
   "metadata": {},
   "outputs": [],
   "source": [
    "for i in brand_xpath[0:100]:\n",
    "    brand.append(i.text)"
   ]
  },
  {
   "cell_type": "code",
   "execution_count": 181,
   "id": "e20ecb77",
   "metadata": {},
   "outputs": [
    {
     "data": {
      "text/plain": [
       "80"
      ]
     },
     "execution_count": 181,
     "metadata": {},
     "output_type": "execute_result"
    }
   ],
   "source": [
    "len(brand)"
   ]
  },
  {
   "cell_type": "code",
   "execution_count": 135,
   "id": "26ca481c",
   "metadata": {},
   "outputs": [],
   "source": [
    "price_xpath = driver.find_elements(By.XPATH,\"//div[@class='_30jeq3']\")"
   ]
  },
  {
   "cell_type": "code",
   "execution_count": 136,
   "id": "e14c7b02",
   "metadata": {},
   "outputs": [],
   "source": [
    "for i in price_xpath[0:40]:\n",
    "    price.append(i.text)"
   ]
  },
  {
   "cell_type": "code",
   "execution_count": 137,
   "id": "883f72be",
   "metadata": {},
   "outputs": [
    {
     "data": {
      "text/plain": [
       "80"
      ]
     },
     "execution_count": 137,
     "metadata": {},
     "output_type": "execute_result"
    }
   ],
   "source": [
    "len(price)"
   ]
  },
  {
   "cell_type": "code",
   "execution_count": 165,
   "id": "62f114e1",
   "metadata": {},
   "outputs": [],
   "source": [
    "description_xpath = driver.find_elements(By.XPATH,'//a[@class=\"IRpwTa\"]')"
   ]
  },
  {
   "cell_type": "code",
   "execution_count": 166,
   "id": "8ee5dae0",
   "metadata": {},
   "outputs": [],
   "source": [
    "for i in description_xpath[0:40]:\n",
    "    description.append(i.text)"
   ]
  },
  {
   "cell_type": "code",
   "execution_count": 167,
   "id": "de91a516",
   "metadata": {},
   "outputs": [
    {
     "data": {
      "text/plain": [
       "80"
      ]
     },
     "execution_count": 167,
     "metadata": {},
     "output_type": "execute_result"
    }
   ],
   "source": [
    "len(description)"
   ]
  },
  {
   "cell_type": "code",
   "execution_count": 141,
   "id": "438f77f7",
   "metadata": {},
   "outputs": [],
   "source": [
    "next_button = driver.find_element(By.XPATH,'/html/body/div[1]/div/div[3]/div[1]/div[2]/div[12]/div/div/nav/a[11]')"
   ]
  },
  {
   "cell_type": "code",
   "execution_count": 142,
   "id": "2040a011",
   "metadata": {},
   "outputs": [],
   "source": [
    "next_button.click()"
   ]
  },
  {
   "cell_type": "code",
   "execution_count": 143,
   "id": "bc3b86f6",
   "metadata": {},
   "outputs": [],
   "source": [
    "price_xpath = driver.find_elements(By.XPATH,\"//div[@class='_30jeq3']\")"
   ]
  },
  {
   "cell_type": "code",
   "execution_count": 144,
   "id": "02aea69b",
   "metadata": {},
   "outputs": [],
   "source": [
    "for i in price_xpath[0:20]:\n",
    "    price.append(i.text)"
   ]
  },
  {
   "cell_type": "code",
   "execution_count": 145,
   "id": "f5a6e03a",
   "metadata": {},
   "outputs": [
    {
     "data": {
      "text/plain": [
       "100"
      ]
     },
     "execution_count": 145,
     "metadata": {},
     "output_type": "execute_result"
    }
   ],
   "source": [
    "len(price)"
   ]
  },
  {
   "cell_type": "code",
   "execution_count": 168,
   "id": "89465e6e",
   "metadata": {},
   "outputs": [],
   "source": [
    "description_xpath = driver.find_elements(By.XPATH,'//a[@class=\"IRpwTa\"]')"
   ]
  },
  {
   "cell_type": "code",
   "execution_count": 169,
   "id": "5ed2875f",
   "metadata": {},
   "outputs": [],
   "source": [
    "for i in description_xpath[0:20]:\n",
    "    description.append(i.text)"
   ]
  },
  {
   "cell_type": "code",
   "execution_count": 170,
   "id": "dc745e5f",
   "metadata": {},
   "outputs": [
    {
     "data": {
      "text/plain": [
       "100"
      ]
     },
     "execution_count": 170,
     "metadata": {},
     "output_type": "execute_result"
    }
   ],
   "source": [
    "len(description)"
   ]
  },
  {
   "cell_type": "code",
   "execution_count": 182,
   "id": "3e4b03b6",
   "metadata": {},
   "outputs": [],
   "source": [
    "brand_xpath = driver.find_elements(By.XPATH,'//div[@class=\"_2WkVRV\"]')"
   ]
  },
  {
   "cell_type": "code",
   "execution_count": 183,
   "id": "79c8ffec",
   "metadata": {},
   "outputs": [],
   "source": [
    "for i in brand_xpath[0:20]:\n",
    "    brand.append(i.text)"
   ]
  },
  {
   "cell_type": "code",
   "execution_count": 184,
   "id": "25789827",
   "metadata": {},
   "outputs": [
    {
     "data": {
      "text/plain": [
       "100"
      ]
     },
     "execution_count": 184,
     "metadata": {},
     "output_type": "execute_result"
    }
   ],
   "source": [
    "len(brand)"
   ]
  },
  {
   "cell_type": "code",
   "execution_count": 185,
   "id": "0ca09f51",
   "metadata": {},
   "outputs": [],
   "source": [
    "sunglasses_data = pd.DataFrame({'brand':brand,'price':price,'description':description})"
   ]
  },
  {
   "cell_type": "code",
   "execution_count": 186,
   "id": "a0dd7ed8",
   "metadata": {
    "scrolled": true
   },
   "outputs": [
    {
     "data": {
      "text/html": [
       "<div>\n",
       "<style scoped>\n",
       "    .dataframe tbody tr th:only-of-type {\n",
       "        vertical-align: middle;\n",
       "    }\n",
       "\n",
       "    .dataframe tbody tr th {\n",
       "        vertical-align: top;\n",
       "    }\n",
       "\n",
       "    .dataframe thead th {\n",
       "        text-align: right;\n",
       "    }\n",
       "</style>\n",
       "<table border=\"1\" class=\"dataframe\">\n",
       "  <thead>\n",
       "    <tr style=\"text-align: right;\">\n",
       "      <th></th>\n",
       "      <th>brand</th>\n",
       "      <th>price</th>\n",
       "      <th>description</th>\n",
       "    </tr>\n",
       "  </thead>\n",
       "  <tbody>\n",
       "    <tr>\n",
       "      <th>0</th>\n",
       "      <td>OAKLEY</td>\n",
       "      <td>₹199</td>\n",
       "      <td>Retro Square Sunglass</td>\n",
       "    </tr>\n",
       "    <tr>\n",
       "      <th>1</th>\n",
       "      <td>NuVew</td>\n",
       "      <td>₹278</td>\n",
       "      <td>UV Protection, Mirrored Wayfarer Sunglasses (58)</td>\n",
       "    </tr>\n",
       "    <tr>\n",
       "      <th>2</th>\n",
       "      <td>ROZZETTA CRAFT</td>\n",
       "      <td>₹129</td>\n",
       "      <td>UV Protection, Gradient Retro Square Sunglasse...</td>\n",
       "    </tr>\n",
       "    <tr>\n",
       "      <th>3</th>\n",
       "      <td>Elligator</td>\n",
       "      <td>₹489</td>\n",
       "      <td>UV Protection, Mirrored Wayfarer Sunglasses (54)</td>\n",
       "    </tr>\n",
       "    <tr>\n",
       "      <th>4</th>\n",
       "      <td>VINCENT CHASE</td>\n",
       "      <td>₹149</td>\n",
       "      <td>by Lenskart UV Protection Aviator Sunglasses (58)</td>\n",
       "    </tr>\n",
       "    <tr>\n",
       "      <th>...</th>\n",
       "      <td>...</td>\n",
       "      <td>...</td>\n",
       "      <td>...</td>\n",
       "    </tr>\n",
       "    <tr>\n",
       "      <th>95</th>\n",
       "      <td>ROYAL SON</td>\n",
       "      <td>₹664</td>\n",
       "      <td>UV Protection, Gradient Over-sized Sunglasses ...</td>\n",
       "    </tr>\n",
       "    <tr>\n",
       "      <th>96</th>\n",
       "      <td>OAKLEY</td>\n",
       "      <td>₹5,769</td>\n",
       "      <td>Shield Sunglass</td>\n",
       "    </tr>\n",
       "    <tr>\n",
       "      <th>97</th>\n",
       "      <td>ROZZETTA CRAFT</td>\n",
       "      <td>₹449</td>\n",
       "      <td>UV Protection Round Sunglasses (Free Size)</td>\n",
       "    </tr>\n",
       "    <tr>\n",
       "      <th>98</th>\n",
       "      <td>IZAAN MART</td>\n",
       "      <td>₹290</td>\n",
       "      <td>Night Vision Rectangular Sunglasses (55)</td>\n",
       "    </tr>\n",
       "    <tr>\n",
       "      <th>99</th>\n",
       "      <td>ROZZETTA CRAFT</td>\n",
       "      <td>₹649</td>\n",
       "      <td>UV Protection Aviator Sunglasses (62)</td>\n",
       "    </tr>\n",
       "  </tbody>\n",
       "</table>\n",
       "<p>100 rows × 3 columns</p>\n",
       "</div>"
      ],
      "text/plain": [
       "             brand   price                                        description\n",
       "0           OAKLEY    ₹199                              Retro Square Sunglass\n",
       "1            NuVew    ₹278   UV Protection, Mirrored Wayfarer Sunglasses (58)\n",
       "2   ROZZETTA CRAFT    ₹129  UV Protection, Gradient Retro Square Sunglasse...\n",
       "3        Elligator    ₹489   UV Protection, Mirrored Wayfarer Sunglasses (54)\n",
       "4    VINCENT CHASE    ₹149  by Lenskart UV Protection Aviator Sunglasses (58)\n",
       "..             ...     ...                                                ...\n",
       "95       ROYAL SON    ₹664  UV Protection, Gradient Over-sized Sunglasses ...\n",
       "96          OAKLEY  ₹5,769                                    Shield Sunglass\n",
       "97  ROZZETTA CRAFT    ₹449         UV Protection Round Sunglasses (Free Size)\n",
       "98      IZAAN MART    ₹290           Night Vision Rectangular Sunglasses (55)\n",
       "99  ROZZETTA CRAFT    ₹649              UV Protection Aviator Sunglasses (62)\n",
       "\n",
       "[100 rows x 3 columns]"
      ]
     },
     "execution_count": 186,
     "metadata": {},
     "output_type": "execute_result"
    }
   ],
   "source": [
    "sunglasses_data"
   ]
  },
  {
   "cell_type": "markdown",
   "id": "e91910b9",
   "metadata": {},
   "source": [
    "## Scrapping Reviews of Iphone 11 "
   ]
  },
  {
   "cell_type": "code",
   "execution_count": 7,
   "id": "84baf45b",
   "metadata": {},
   "outputs": [],
   "source": [
    "driver = webdriver.Chrome('chromedriver.exe')"
   ]
  },
  {
   "cell_type": "code",
   "execution_count": 11,
   "id": "de7e84b9",
   "metadata": {},
   "outputs": [],
   "source": [
    "driver.get('https://www.flipkart.com/apple-iphone-11-black-64-gb/product-reviews/itm4e5041ba101fd?pid=MOBFWQ6BXGJCEYNY&lid=LSTMOBFWQ6BXGJCEYNYZXSHRJ&market')"
   ]
  },
  {
   "cell_type": "code",
   "execution_count": 9,
   "id": "401decca",
   "metadata": {},
   "outputs": [],
   "source": [
    "ratings = []\n",
    "summary_review = []\n",
    "full_review = []"
   ]
  },
  {
   "cell_type": "code",
   "execution_count": 27,
   "id": "4b7aa003",
   "metadata": {},
   "outputs": [],
   "source": [
    "summary_xpath = driver.find_elements(By.XPATH,'//p[@class=\"_2-N8zT\"]')\n",
    "star_xpath =  driver.find_elements(By.XPATH,'//div[@class=\"_3LWZlK _1BLPMq\"]')\n",
    "fullreview_xpath =  driver.find_elements(By.XPATH,'//div[@class=\"t-ZTKy\"]')\n",
    "next_xpath =  driver.find_elements(By.XPATH,'//a[@class=\"_1LKTO3\"]')"
   ]
  },
  {
   "cell_type": "code",
   "execution_count": 15,
   "id": "9dda802e",
   "metadata": {},
   "outputs": [],
   "source": [
    "for i in summary_xpath[0:100]:\n",
    "    summary_review.append(i.text)"
   ]
  },
  {
   "cell_type": "code",
   "execution_count": 16,
   "id": "95e63a3b",
   "metadata": {},
   "outputs": [
    {
     "data": {
      "text/plain": [
       "['Simply awesome',\n",
       " 'Perfect product!',\n",
       " 'Best in the market!',\n",
       " 'Value-for-money',\n",
       " 'Worth every penny',\n",
       " 'Highly recommended',\n",
       " 'Highly recommended',\n",
       " 'Perfect product!',\n",
       " 'Pretty good',\n",
       " 'Great product']"
      ]
     },
     "execution_count": 16,
     "metadata": {},
     "output_type": "execute_result"
    }
   ],
   "source": [
    "summary_review"
   ]
  },
  {
   "cell_type": "code",
   "execution_count": 17,
   "id": "89ddf5e9",
   "metadata": {},
   "outputs": [],
   "source": [
    "for i in star_xpath[0:100]:\n",
    "    ratings.append(i.text)"
   ]
  },
  {
   "cell_type": "code",
   "execution_count": 18,
   "id": "aaba7e28",
   "metadata": {},
   "outputs": [
    {
     "data": {
      "text/plain": [
       "['5', '5', '5', '4', '5', '5', '5', '5', '4', '5']"
      ]
     },
     "execution_count": 18,
     "metadata": {},
     "output_type": "execute_result"
    }
   ],
   "source": [
    "ratings"
   ]
  },
  {
   "cell_type": "code",
   "execution_count": 19,
   "id": "62f843a9",
   "metadata": {},
   "outputs": [],
   "source": [
    "for i in fullreview_xpath[0:100]:\n",
    "    full_review.append(i.text)"
   ]
  },
  {
   "cell_type": "code",
   "execution_count": 20,
   "id": "41d5fc20",
   "metadata": {},
   "outputs": [
    {
     "data": {
      "text/plain": [
       "['Really satisfied with the Product I received... It’s totally genuine and the packaging was also really good so if ur planning to buy just go for it.',\n",
       " 'Amazing phone with great cameras and better battery which gives you the best performance. I just love the camera .',\n",
       " 'Great iPhone very snappy experience as apple kind. Upgraded from iPhone 7.\\nPros\\n-Camera top class\\n- Battery top performed\\n-Chipset no need to say as apple kind\\n-Security as you expect from apple\\n- Display super bright industry leading colour\\naccuracy and super responsive\\n-Build quality as expect from apple sturdy\\npremium durable beautiful stylish.\\n-Os most stable os in smartphone industry\\n\\nCons\\n-No 5G\\n-Display is not based on OLED technology\\n-Charger headphones and 1 apple stic...\\nREAD MORE',\n",
       " \"I'm Really happy with the product\\nDelivery was fast as well\\n..it was a gift for my sister and she loved it so much.\",\n",
       " 'Previously I was using one plus 3t it was a great phone\\nAnd then I decided to upgrade I am stuck between Samsung s10 plus or iPhone 11\\nI have seen the specs and everything were good except the display it’s somewhere between 720-1080 and it’s not even an amoled it’s an LCD display\\nBut I decided to go with iPhone because I have never used an IOS device I have Been an android user from the past 9 years I ordered IPhone 11 (128gb) product red\\nMy experience after using 3 weeks\\n1. The delivery ...\\nREAD MORE',\n",
       " \"It's my first time to use iOS phone and I am loving my upgradation 😍😍 I love the color, I love the assebility of the phone....I need to learn more about its functionality, but as far as I have seen, it's quite easy and it has a lot of functions to work on, specially if you are a content writer or a blogger you get a lot of content creation platforms and they are really amazing.\\n\\nThis phone not only for good quality photography but a lot of other task too.😍💯\",\n",
       " 'What a camera .....just awesome ..you can feel this iPhone just awesome . Good for gaming also ...try pubg in hd it’s just wow',\n",
       " 'Value for money\\n5 star rating\\nExcellent camera\\nBattery backup full day in single charge.\\n\\nTougher and water resistant design, glossy back.\\nThe screen has excellent brightness and contrast.\\nApple A13 Bionic is the fastest smartphone chip on the planet.\\nExcellent battery life, fast charging support.\\nStereo speakers with great quality.',\n",
       " 'I was using Iphone 6s and also Oneplus 6t. Both mobiles were perfectly alright in Photos, gaming, and smooth interface . My 6s mobile getting battery issue. thought upgrade to 11. Really like this mobile of its Internal storage (compare to 6s) , camera and its touch feeling. Its a worth buying mobile for me.',\n",
       " 'Amazing Powerful and Durable Gadget.\\n\\nI’m am very happy with the camera picture quality, Amazing face id unlocked in dark room, Strong battery with perfect screen size as you can carry easily in pocket. This is my third iPhone.\\n\\nI shifted from android Samsung Note series to iPhone because of the strong build quality and peace of mind for next 3-4 years.\\n\\nDon’t think to much just go for it and I suggest you to go for minimum 128gb variant or more 256gb.\\n\\nI’ve attached my puppy pics and no fi...\\nREAD MORE']"
      ]
     },
     "execution_count": 20,
     "metadata": {},
     "output_type": "execute_result"
    }
   ],
   "source": [
    "full_review"
   ]
  },
  {
   "cell_type": "code",
   "execution_count": 66,
   "id": "4e33bb96",
   "metadata": {},
   "outputs": [],
   "source": [
    "next_button = driver.find_element(By.XPATH,'/html/body/div/div/div[3]/div/div/div[2]/div[7]/div/div/nav/a[12]')"
   ]
  },
  {
   "cell_type": "code",
   "execution_count": 22,
   "id": "a534d1be",
   "metadata": {},
   "outputs": [],
   "source": [
    "next_button.click()"
   ]
  },
  {
   "cell_type": "code",
   "execution_count": 24,
   "id": "2351a235",
   "metadata": {},
   "outputs": [],
   "source": [
    "summary_xpath = driver.find_elements(By.XPATH,\"//p[@class='_2-N8zT']\")"
   ]
  },
  {
   "cell_type": "code",
   "execution_count": 25,
   "id": "54eb59fe",
   "metadata": {},
   "outputs": [],
   "source": [
    "for i in summary_xpath[0:100]:\n",
    "    summary_review.append(i.text)"
   ]
  },
  {
   "cell_type": "code",
   "execution_count": 28,
   "id": "e5943e77",
   "metadata": {},
   "outputs": [],
   "source": [
    "for i in star_xpath[0:100]:\n",
    "    ratings.append(i.text)"
   ]
  },
  {
   "cell_type": "code",
   "execution_count": 29,
   "id": "dc9ad66c",
   "metadata": {},
   "outputs": [],
   "source": [
    "for i in fullreview_xpath[0:100]:\n",
    "    full_review.append(i.text)"
   ]
  },
  {
   "cell_type": "code",
   "execution_count": 31,
   "id": "ffc24275",
   "metadata": {},
   "outputs": [],
   "source": [
    "next_button.click()"
   ]
  },
  {
   "cell_type": "code",
   "execution_count": 46,
   "id": "0d5228cf",
   "metadata": {},
   "outputs": [],
   "source": [
    "summary_xpath = driver.find_elements(By.XPATH,'//p[@class=\"_2-N8zT\"]')\n",
    "star_xpath =  driver.find_elements(By.XPATH,'//div[@class=\"_3LWZlK _1BLPMq\"]')\n",
    "fullreview_xpath =  driver.find_elements(By.XPATH,'//div[@class=\"t-ZTKy\"]')\n",
    "next_xpath =  driver.find_elements(By.XPATH,'//a[@class=\"_1LKTO3\"]')"
   ]
  },
  {
   "cell_type": "code",
   "execution_count": 33,
   "id": "6339a1ea",
   "metadata": {},
   "outputs": [],
   "source": [
    "for i in summary_xpath[0:100]:\n",
    "    summary_review.append(i.text)"
   ]
  },
  {
   "cell_type": "code",
   "execution_count": 34,
   "id": "60390243",
   "metadata": {},
   "outputs": [],
   "source": [
    "for i in star_xpath[0:100]:\n",
    "    ratings.append(i.text)"
   ]
  },
  {
   "cell_type": "code",
   "execution_count": 35,
   "id": "961a2849",
   "metadata": {},
   "outputs": [],
   "source": [
    "for i in fullreview_xpath[0:100]:\n",
    "    full_review.append(i.text)"
   ]
  },
  {
   "cell_type": "code",
   "execution_count": 36,
   "id": "2752ae7d",
   "metadata": {},
   "outputs": [
    {
     "data": {
      "text/plain": [
       "30"
      ]
     },
     "execution_count": 36,
     "metadata": {},
     "output_type": "execute_result"
    }
   ],
   "source": [
    "len(ratings)"
   ]
  },
  {
   "cell_type": "code",
   "execution_count": 37,
   "id": "d437bf5f",
   "metadata": {},
   "outputs": [],
   "source": [
    "next_button.click()"
   ]
  },
  {
   "cell_type": "code",
   "execution_count": 40,
   "id": "c3f38dba",
   "metadata": {},
   "outputs": [],
   "source": [
    "for i in summary_xpath[0:100]:\n",
    "    summary_review.append(i.text)"
   ]
  },
  {
   "cell_type": "code",
   "execution_count": 41,
   "id": "7bcb6c61",
   "metadata": {},
   "outputs": [],
   "source": [
    "for i in star_xpath[0:100]:\n",
    "    ratings.append(i.text)"
   ]
  },
  {
   "cell_type": "code",
   "execution_count": 42,
   "id": "9be07348",
   "metadata": {},
   "outputs": [],
   "source": [
    "for i in fullreview_xpath[0:100]:\n",
    "    full_review.append(i.text)"
   ]
  },
  {
   "cell_type": "code",
   "execution_count": 48,
   "id": "56f85df0",
   "metadata": {},
   "outputs": [
    {
     "data": {
      "text/plain": [
       "39"
      ]
     },
     "execution_count": 48,
     "metadata": {},
     "output_type": "execute_result"
    }
   ],
   "source": [
    "len(ratings)"
   ]
  },
  {
   "cell_type": "code",
   "execution_count": 51,
   "id": "b6756388",
   "metadata": {},
   "outputs": [],
   "source": [
    "for i in star_xpath[0:1]:\n",
    "    ratings.append(i.text)"
   ]
  },
  {
   "cell_type": "code",
   "execution_count": 52,
   "id": "31b061d8",
   "metadata": {},
   "outputs": [
    {
     "data": {
      "text/plain": [
       "40"
      ]
     },
     "execution_count": 52,
     "metadata": {},
     "output_type": "execute_result"
    }
   ],
   "source": [
    "len(ratings)"
   ]
  },
  {
   "cell_type": "code",
   "execution_count": 49,
   "id": "9003fa6e",
   "metadata": {},
   "outputs": [
    {
     "data": {
      "text/plain": [
       "40"
      ]
     },
     "execution_count": 49,
     "metadata": {},
     "output_type": "execute_result"
    }
   ],
   "source": [
    "len(summary_review)"
   ]
  },
  {
   "cell_type": "code",
   "execution_count": 50,
   "id": "9d4b6313",
   "metadata": {},
   "outputs": [
    {
     "data": {
      "text/plain": [
       "40"
      ]
     },
     "execution_count": 50,
     "metadata": {},
     "output_type": "execute_result"
    }
   ],
   "source": [
    "len(full_review)"
   ]
  },
  {
   "cell_type": "code",
   "execution_count": 45,
   "id": "22e66204",
   "metadata": {},
   "outputs": [],
   "source": [
    "next_button.click()"
   ]
  },
  {
   "cell_type": "code",
   "execution_count": 53,
   "id": "0e0a6fab",
   "metadata": {},
   "outputs": [],
   "source": [
    "summary_xpath = driver.find_elements(By.XPATH,'//p[@class=\"_2-N8zT\"]')\n",
    "star_xpath =  driver.find_elements(By.XPATH,'//div[@class=\"_3LWZlK _1BLPMq\"]')\n",
    "fullreview_xpath =  driver.find_elements(By.XPATH,'//div[@class=\"t-ZTKy\"]')\n",
    "next_xpath =  driver.find_elements(By.XPATH,'//a[@class=\"_1LKTO3\"]')"
   ]
  },
  {
   "cell_type": "code",
   "execution_count": 54,
   "id": "e12b7d24",
   "metadata": {},
   "outputs": [],
   "source": [
    "for i in summary_xpath[0:100]:\n",
    "    summary_review.append(i.text)\n",
    "for i in star_xpath[0:100]:\n",
    "    ratings.append(i.text)\n",
    "for i in fullreview_xpath[0:100]:\n",
    "    full_review.append(i.text)"
   ]
  },
  {
   "cell_type": "code",
   "execution_count": 55,
   "id": "aec7377a",
   "metadata": {},
   "outputs": [
    {
     "data": {
      "text/plain": [
       "49"
      ]
     },
     "execution_count": 55,
     "metadata": {},
     "output_type": "execute_result"
    }
   ],
   "source": [
    "len(ratings)"
   ]
  },
  {
   "cell_type": "code",
   "execution_count": 56,
   "id": "9af3f39e",
   "metadata": {},
   "outputs": [],
   "source": [
    "for i in star_xpath[0:1]:\n",
    "    ratings.append(i.text)"
   ]
  },
  {
   "cell_type": "code",
   "execution_count": 58,
   "id": "b9dc2181",
   "metadata": {},
   "outputs": [
    {
     "data": {
      "text/plain": [
       "50"
      ]
     },
     "execution_count": 58,
     "metadata": {},
     "output_type": "execute_result"
    }
   ],
   "source": [
    "len(ratings)"
   ]
  },
  {
   "cell_type": "code",
   "execution_count": 57,
   "id": "470c6fd2",
   "metadata": {},
   "outputs": [
    {
     "data": {
      "text/plain": [
       "50"
      ]
     },
     "execution_count": 57,
     "metadata": {},
     "output_type": "execute_result"
    }
   ],
   "source": [
    "len(full_review)"
   ]
  },
  {
   "cell_type": "code",
   "execution_count": 59,
   "id": "0ddfe663",
   "metadata": {},
   "outputs": [],
   "source": [
    "next_button.click()"
   ]
  },
  {
   "cell_type": "code",
   "execution_count": 60,
   "id": "e496b227",
   "metadata": {},
   "outputs": [],
   "source": [
    "summary_xpath = driver.find_elements(By.XPATH,'//p[@class=\"_2-N8zT\"]')\n",
    "star_xpath =  driver.find_elements(By.XPATH,'//div[@class=\"_3LWZlK _1BLPMq\"]')\n",
    "fullreview_xpath =  driver.find_elements(By.XPATH,'//div[@class=\"t-ZTKy\"]')\n",
    "next_xpath =  driver.find_elements(By.XPATH,'//a[@class=\"_1LKTO3\"]')"
   ]
  },
  {
   "cell_type": "code",
   "execution_count": 61,
   "id": "8b6c5c0d",
   "metadata": {},
   "outputs": [],
   "source": [
    "for i in summary_xpath[0:100]:\n",
    "    summary_review.append(i.text)\n",
    "for i in star_xpath[0:100]:\n",
    "    ratings.append(i.text)\n",
    "for i in fullreview_xpath[0:100]:\n",
    "    full_review.append(i.text)"
   ]
  },
  {
   "cell_type": "code",
   "execution_count": 62,
   "id": "07e0b14f",
   "metadata": {},
   "outputs": [
    {
     "data": {
      "text/plain": [
       "54"
      ]
     },
     "execution_count": 62,
     "metadata": {},
     "output_type": "execute_result"
    }
   ],
   "source": [
    "len(ratings)"
   ]
  },
  {
   "cell_type": "code",
   "execution_count": 63,
   "id": "1d5cbbcc",
   "metadata": {},
   "outputs": [
    {
     "data": {
      "text/plain": [
       "54"
      ]
     },
     "execution_count": 63,
     "metadata": {},
     "output_type": "execute_result"
    }
   ],
   "source": [
    "len(full_review)"
   ]
  },
  {
   "cell_type": "code",
   "execution_count": 67,
   "id": "f6eb68f3",
   "metadata": {},
   "outputs": [],
   "source": [
    "next_button = driver.find_element(By.XPATH,'/html/body/div/div/div[3]/div/div/div[2]/div[7]/div/div/nav/a[12]')"
   ]
  },
  {
   "cell_type": "code",
   "execution_count": 68,
   "id": "c4aa67e0",
   "metadata": {},
   "outputs": [],
   "source": [
    "next_button.click()"
   ]
  },
  {
   "cell_type": "code",
   "execution_count": 69,
   "id": "3d057475",
   "metadata": {},
   "outputs": [],
   "source": [
    "summary_xpath = driver.find_elements(By.XPATH,'//p[@class=\"_2-N8zT\"]')\n",
    "star_xpath =  driver.find_elements(By.XPATH,'//div[@class=\"_3LWZlK _1BLPMq\"]')\n",
    "fullreview_xpath =  driver.find_elements(By.XPATH,'//div[@class=\"t-ZTKy\"]')\n",
    "next_xpath =  driver.find_elements(By.XPATH,'//a[@class=\"_1LKTO3\"]')"
   ]
  },
  {
   "cell_type": "code",
   "execution_count": 70,
   "id": "0a91be3f",
   "metadata": {},
   "outputs": [],
   "source": [
    "for i in summary_xpath[0:100]:\n",
    "    summary_review.append(i.text)\n",
    "for i in star_xpath[0:100]:\n",
    "    ratings.append(i.text)\n",
    "for i in fullreview_xpath[0:100]:\n",
    "    full_review.append(i.text)"
   ]
  },
  {
   "cell_type": "code",
   "execution_count": 71,
   "id": "bfaca9be",
   "metadata": {},
   "outputs": [
    {
     "data": {
      "text/plain": [
       "59"
      ]
     },
     "execution_count": 71,
     "metadata": {},
     "output_type": "execute_result"
    }
   ],
   "source": [
    "len(ratings)"
   ]
  },
  {
   "cell_type": "code",
   "execution_count": 72,
   "id": "a69d9861",
   "metadata": {},
   "outputs": [
    {
     "data": {
      "text/plain": [
       "59"
      ]
     },
     "execution_count": 72,
     "metadata": {},
     "output_type": "execute_result"
    }
   ],
   "source": [
    "len(full_review)"
   ]
  },
  {
   "cell_type": "code",
   "execution_count": 74,
   "id": "dd1c7aa6",
   "metadata": {},
   "outputs": [],
   "source": [
    "next_button = driver.find_element(By.XPATH,'/html/body/div/div/div[3]/div/div/div[2]/div[8]/div/div/nav/a[12]')"
   ]
  },
  {
   "cell_type": "code",
   "execution_count": 75,
   "id": "e5f4d07c",
   "metadata": {},
   "outputs": [],
   "source": [
    "next_button.click()"
   ]
  },
  {
   "cell_type": "code",
   "execution_count": 76,
   "id": "925c078e",
   "metadata": {},
   "outputs": [],
   "source": [
    "summary_xpath = driver.find_elements(By.XPATH,'//p[@class=\"_2-N8zT\"]')\n",
    "star_xpath =  driver.find_elements(By.XPATH,'//div[@class=\"_3LWZlK _1BLPMq\"]')\n",
    "fullreview_xpath =  driver.find_elements(By.XPATH,'//div[@class=\"t-ZTKy\"]')\n",
    "next_xpath =  driver.find_elements(By.XPATH,'//a[@class=\"_1LKTO3\"]')"
   ]
  },
  {
   "cell_type": "code",
   "execution_count": 77,
   "id": "00502932",
   "metadata": {},
   "outputs": [],
   "source": [
    "for i in summary_xpath[0:100]:\n",
    "    summary_review.append(i.text)\n",
    "for i in star_xpath[0:100]:\n",
    "    ratings.append(i.text)\n",
    "for i in fullreview_xpath[0:100]:\n",
    "    full_review.append(i.text)"
   ]
  },
  {
   "cell_type": "code",
   "execution_count": 78,
   "id": "6fb2116a",
   "metadata": {},
   "outputs": [
    {
     "data": {
      "text/plain": [
       "61"
      ]
     },
     "execution_count": 78,
     "metadata": {},
     "output_type": "execute_result"
    }
   ],
   "source": [
    "len(ratings)"
   ]
  },
  {
   "cell_type": "code",
   "execution_count": 79,
   "id": "e3944fec",
   "metadata": {},
   "outputs": [
    {
     "data": {
      "text/plain": [
       "61"
      ]
     },
     "execution_count": 79,
     "metadata": {},
     "output_type": "execute_result"
    }
   ],
   "source": [
    "len(full_review)"
   ]
  },
  {
   "cell_type": "code",
   "execution_count": 83,
   "id": "7a59191d",
   "metadata": {},
   "outputs": [],
   "source": [
    "next_button = driver.find_element(By.XPATH,\"//a[@class='_1LKTO3']\")"
   ]
  },
  {
   "cell_type": "code",
   "execution_count": 84,
   "id": "51734017",
   "metadata": {},
   "outputs": [],
   "source": [
    "next_button.click()"
   ]
  },
  {
   "cell_type": "code",
   "execution_count": 85,
   "id": "c197c639",
   "metadata": {},
   "outputs": [],
   "source": [
    "summary_xpath = driver.find_elements(By.XPATH,'//p[@class=\"_2-N8zT\"]')\n",
    "star_xpath =  driver.find_elements(By.XPATH,'//div[@class=\"_3LWZlK _1BLPMq\"]')\n",
    "fullreview_xpath =  driver.find_elements(By.XPATH,'//div[@class=\"t-ZTKy\"]')\n",
    "next_xpath =  driver.find_elements(By.XPATH,'//a[@class=\"_1LKTO3\"]')"
   ]
  },
  {
   "cell_type": "code",
   "execution_count": 86,
   "id": "905df6dd",
   "metadata": {},
   "outputs": [],
   "source": [
    "for i in summary_xpath[0:100]:\n",
    "    summary_review.append(i.text)\n",
    "for i in star_xpath[0:100]:\n",
    "    ratings.append(i.text)\n",
    "for i in fullreview_xpath[0:100]:\n",
    "    full_review.append(i.text)"
   ]
  },
  {
   "cell_type": "code",
   "execution_count": 87,
   "id": "31bedb97",
   "metadata": {},
   "outputs": [
    {
     "name": "stdout",
     "output_type": "stream",
     "text": [
      "66\n",
      "66\n"
     ]
    }
   ],
   "source": [
    "print(len(ratings))\n",
    "print(len(full_review))"
   ]
  },
  {
   "cell_type": "code",
   "execution_count": 88,
   "id": "b5b7dc96",
   "metadata": {},
   "outputs": [],
   "source": [
    "next_button = driver.find_element(By.XPATH,\"//a[@class='_1LKTO3']\")"
   ]
  },
  {
   "cell_type": "code",
   "execution_count": 89,
   "id": "3ec82146",
   "metadata": {},
   "outputs": [],
   "source": [
    "next_button.click()"
   ]
  },
  {
   "cell_type": "code",
   "execution_count": 90,
   "id": "686f04ea",
   "metadata": {},
   "outputs": [],
   "source": [
    "summary_xpath = driver.find_elements(By.XPATH,'//p[@class=\"_2-N8zT\"]')\n",
    "star_xpath =  driver.find_elements(By.XPATH,'//div[@class=\"_3LWZlK _1BLPMq\"]')\n",
    "fullreview_xpath =  driver.find_elements(By.XPATH,'//div[@class=\"t-ZTKy\"]')\n",
    "next_xpath =  driver.find_elements(By.XPATH,'//a[@class=\"_1LKTO3\"]')"
   ]
  },
  {
   "cell_type": "code",
   "execution_count": 91,
   "id": "1eff1a37",
   "metadata": {},
   "outputs": [],
   "source": [
    "for i in summary_xpath[0:100]:\n",
    "    summary_review.append(i.text)\n",
    "for i in star_xpath[0:100]:\n",
    "    ratings.append(i.text)\n",
    "for i in fullreview_xpath[0:100]:\n",
    "    full_review.append(i.text)"
   ]
  },
  {
   "cell_type": "code",
   "execution_count": 92,
   "id": "e124bc00",
   "metadata": {},
   "outputs": [
    {
     "name": "stdout",
     "output_type": "stream",
     "text": [
      "71\n",
      "71\n"
     ]
    }
   ],
   "source": [
    "print(len(ratings))\n",
    "print(len(full_review))"
   ]
  },
  {
   "cell_type": "code",
   "execution_count": 93,
   "id": "e17bf8fd",
   "metadata": {},
   "outputs": [],
   "source": [
    "next_button = driver.find_element(By.XPATH,\"//a[@class='_1LKTO3']\")"
   ]
  },
  {
   "cell_type": "code",
   "execution_count": 94,
   "id": "8a158177",
   "metadata": {},
   "outputs": [],
   "source": [
    "next_button.click()"
   ]
  },
  {
   "cell_type": "code",
   "execution_count": 96,
   "id": "c4fc743c",
   "metadata": {},
   "outputs": [],
   "source": [
    "def flipkart():\n",
    "    summary_xpath = driver.find_elements(By.XPATH,'//p[@class=\"_2-N8zT\"]')\n",
    "    star_xpath =  driver.find_elements(By.XPATH,'//div[@class=\"_3LWZlK _1BLPMq\"]')\n",
    "    fullreview_xpath =  driver.find_elements(By.XPATH,'//div[@class=\"t-ZTKy\"]')\n",
    "    next_xpath =  driver.find_elements(By.XPATH,'//a[@class=\"_1LKTO3\"]')\n",
    "    \n",
    "    for i in summary_xpath[0:100]:\n",
    "        summary_review.append(i.text)\n",
    "    for i in star_xpath[0:100]:\n",
    "        ratings.append(i.text)\n",
    "    for i in fullreview_xpath[0:100]:\n",
    "        full_review.append(i.text)\n",
    "        \n",
    "    print(len(ratings))\n",
    "    print(len(full_review))\n",
    "    \n",
    "    next_button = driver.find_element(By.XPATH,\"//a[@class='_1LKTO3']\")\n",
    "    next_button.click()"
   ]
  },
  {
   "cell_type": "code",
   "execution_count": 98,
   "id": "1b3345ab",
   "metadata": {},
   "outputs": [
    {
     "name": "stdout",
     "output_type": "stream",
     "text": [
      "75\n",
      "75\n"
     ]
    }
   ],
   "source": [
    "flipkart()"
   ]
  },
  {
   "cell_type": "code",
   "execution_count": 99,
   "id": "35ca4626",
   "metadata": {},
   "outputs": [
    {
     "name": "stdout",
     "output_type": "stream",
     "text": [
      "79\n",
      "79\n"
     ]
    }
   ],
   "source": [
    "flipkart()"
   ]
  },
  {
   "cell_type": "code",
   "execution_count": 100,
   "id": "8a96b576",
   "metadata": {},
   "outputs": [
    {
     "name": "stdout",
     "output_type": "stream",
     "text": [
      "84\n",
      "84\n"
     ]
    }
   ],
   "source": [
    "flipkart()"
   ]
  },
  {
   "cell_type": "code",
   "execution_count": 101,
   "id": "7f09b67d",
   "metadata": {
    "scrolled": true
   },
   "outputs": [
    {
     "name": "stdout",
     "output_type": "stream",
     "text": [
      "88\n",
      "89\n"
     ]
    }
   ],
   "source": [
    "flipkart()"
   ]
  },
  {
   "cell_type": "code",
   "execution_count": 102,
   "id": "b64ef216",
   "metadata": {},
   "outputs": [
    {
     "name": "stdout",
     "output_type": "stream",
     "text": [
      "90\n",
      "91\n"
     ]
    }
   ],
   "source": [
    "flipkart()"
   ]
  },
  {
   "cell_type": "code",
   "execution_count": 103,
   "id": "01b60957",
   "metadata": {},
   "outputs": [
    {
     "name": "stdout",
     "output_type": "stream",
     "text": [
      "99\n",
      "101\n"
     ]
    }
   ],
   "source": [
    "flipkart()"
   ]
  },
  {
   "cell_type": "code",
   "execution_count": 104,
   "id": "532906a0",
   "metadata": {},
   "outputs": [],
   "source": [
    "star_xpath =  driver.find_elements(By.XPATH,'//div[@class=\"_3LWZlK _1BLPMq\"]')"
   ]
  },
  {
   "cell_type": "code",
   "execution_count": 105,
   "id": "3a83286c",
   "metadata": {},
   "outputs": [],
   "source": [
    "for i in star_xpath[0:2]:\n",
    "        ratings.append(i.text)"
   ]
  },
  {
   "cell_type": "code",
   "execution_count": 106,
   "id": "1f99d833",
   "metadata": {},
   "outputs": [
    {
     "name": "stdout",
     "output_type": "stream",
     "text": [
      "101\n",
      "101\n"
     ]
    }
   ],
   "source": [
    "print(len(ratings))\n",
    "print(len(full_review))"
   ]
  },
  {
   "cell_type": "code",
   "execution_count": 107,
   "id": "98b628ac",
   "metadata": {},
   "outputs": [],
   "source": [
    "df = pd.DataFrame({'ratings':ratings,'summay review':summary_review,'full review':full_review})"
   ]
  },
  {
   "cell_type": "code",
   "execution_count": 108,
   "id": "1063f721",
   "metadata": {},
   "outputs": [
    {
     "data": {
      "text/plain": [
       "(101, 3)"
      ]
     },
     "execution_count": 108,
     "metadata": {},
     "output_type": "execute_result"
    }
   ],
   "source": [
    "df.shape"
   ]
  },
  {
   "cell_type": "code",
   "execution_count": 110,
   "id": "606df360",
   "metadata": {},
   "outputs": [],
   "source": [
    "iphone_reviews = df[:100][:]"
   ]
  },
  {
   "cell_type": "code",
   "execution_count": 111,
   "id": "d0c8ebc8",
   "metadata": {},
   "outputs": [
    {
     "data": {
      "text/html": [
       "<div>\n",
       "<style scoped>\n",
       "    .dataframe tbody tr th:only-of-type {\n",
       "        vertical-align: middle;\n",
       "    }\n",
       "\n",
       "    .dataframe tbody tr th {\n",
       "        vertical-align: top;\n",
       "    }\n",
       "\n",
       "    .dataframe thead th {\n",
       "        text-align: right;\n",
       "    }\n",
       "</style>\n",
       "<table border=\"1\" class=\"dataframe\">\n",
       "  <thead>\n",
       "    <tr style=\"text-align: right;\">\n",
       "      <th></th>\n",
       "      <th>ratings</th>\n",
       "      <th>summay review</th>\n",
       "      <th>full review</th>\n",
       "    </tr>\n",
       "  </thead>\n",
       "  <tbody>\n",
       "    <tr>\n",
       "      <th>0</th>\n",
       "      <td>5</td>\n",
       "      <td>Simply awesome</td>\n",
       "      <td>Really satisfied with the Product I received.....</td>\n",
       "    </tr>\n",
       "    <tr>\n",
       "      <th>1</th>\n",
       "      <td>5</td>\n",
       "      <td>Perfect product!</td>\n",
       "      <td>Amazing phone with great cameras and better ba...</td>\n",
       "    </tr>\n",
       "    <tr>\n",
       "      <th>2</th>\n",
       "      <td>5</td>\n",
       "      <td>Best in the market!</td>\n",
       "      <td>Great iPhone very snappy experience as apple k...</td>\n",
       "    </tr>\n",
       "    <tr>\n",
       "      <th>3</th>\n",
       "      <td>4</td>\n",
       "      <td>Value-for-money</td>\n",
       "      <td>I'm Really happy with the product\\nDelivery wa...</td>\n",
       "    </tr>\n",
       "    <tr>\n",
       "      <th>4</th>\n",
       "      <td>5</td>\n",
       "      <td>Worth every penny</td>\n",
       "      <td>Previously I was using one plus 3t it was a gr...</td>\n",
       "    </tr>\n",
       "    <tr>\n",
       "      <th>...</th>\n",
       "      <td>...</td>\n",
       "      <td>...</td>\n",
       "      <td>...</td>\n",
       "    </tr>\n",
       "    <tr>\n",
       "      <th>95</th>\n",
       "      <td>5</td>\n",
       "      <td>Wonderful</td>\n",
       "      <td>Its good.. a little heavy on my pinky but its ...</td>\n",
       "    </tr>\n",
       "    <tr>\n",
       "      <th>96</th>\n",
       "      <td>5</td>\n",
       "      <td>Terrific</td>\n",
       "      <td>Simply Awesome\\n\\nI have upgraded from iPhone ...</td>\n",
       "    </tr>\n",
       "    <tr>\n",
       "      <th>97</th>\n",
       "      <td>5</td>\n",
       "      <td>Best in the market!</td>\n",
       "      <td>Damn this phone is a blast . Upgraded from and...</td>\n",
       "    </tr>\n",
       "    <tr>\n",
       "      <th>98</th>\n",
       "      <td>5</td>\n",
       "      <td>Perfect product!</td>\n",
       "      <td>Worth the money’ starting first from its perfo...</td>\n",
       "    </tr>\n",
       "    <tr>\n",
       "      <th>99</th>\n",
       "      <td>5</td>\n",
       "      <td>Absolute rubbish!</td>\n",
       "      <td>Worst product delivered by Flipkart\\nAfter 10d...</td>\n",
       "    </tr>\n",
       "  </tbody>\n",
       "</table>\n",
       "<p>100 rows × 3 columns</p>\n",
       "</div>"
      ],
      "text/plain": [
       "   ratings        summay review  \\\n",
       "0        5       Simply awesome   \n",
       "1        5     Perfect product!   \n",
       "2        5  Best in the market!   \n",
       "3        4      Value-for-money   \n",
       "4        5    Worth every penny   \n",
       "..     ...                  ...   \n",
       "95       5            Wonderful   \n",
       "96       5             Terrific   \n",
       "97       5  Best in the market!   \n",
       "98       5     Perfect product!   \n",
       "99       5    Absolute rubbish!   \n",
       "\n",
       "                                          full review  \n",
       "0   Really satisfied with the Product I received.....  \n",
       "1   Amazing phone with great cameras and better ba...  \n",
       "2   Great iPhone very snappy experience as apple k...  \n",
       "3   I'm Really happy with the product\\nDelivery wa...  \n",
       "4   Previously I was using one plus 3t it was a gr...  \n",
       "..                                                ...  \n",
       "95  Its good.. a little heavy on my pinky but its ...  \n",
       "96  Simply Awesome\\n\\nI have upgraded from iPhone ...  \n",
       "97  Damn this phone is a blast . Upgraded from and...  \n",
       "98  Worth the money’ starting first from its perfo...  \n",
       "99  Worst product delivered by Flipkart\\nAfter 10d...  \n",
       "\n",
       "[100 rows x 3 columns]"
      ]
     },
     "execution_count": 111,
     "metadata": {},
     "output_type": "execute_result"
    }
   ],
   "source": [
    "iphone_reviews"
   ]
  },
  {
   "cell_type": "markdown",
   "id": "0328a2be",
   "metadata": {},
   "source": [
    "## Scrapping Data of sneakers"
   ]
  },
  {
   "cell_type": "code",
   "execution_count": 118,
   "id": "becbab5b",
   "metadata": {},
   "outputs": [],
   "source": [
    "driver.get('https://www.flipkart.com/')"
   ]
  },
  {
   "cell_type": "code",
   "execution_count": 119,
   "id": "c932e76d",
   "metadata": {
    "scrolled": true
   },
   "outputs": [],
   "source": [
    "search_bar = driver.find_element(By.XPATH,\"/html/body/div[1]/div/div[1]/div[1]/div[2]/div[2]/form/div/div/input\")\n",
    "search_box = driver.find_element(By.XPATH,\"//button[@class='L0Z3Pu']\")"
   ]
  },
  {
   "cell_type": "code",
   "execution_count": 120,
   "id": "c98e24e1",
   "metadata": {},
   "outputs": [],
   "source": [
    "search_bar.send_keys('Sneakers')"
   ]
  },
  {
   "cell_type": "code",
   "execution_count": 121,
   "id": "53b43ec8",
   "metadata": {},
   "outputs": [],
   "source": [
    "search_box.click()"
   ]
  },
  {
   "cell_type": "code",
   "execution_count": 122,
   "id": "86ba4749",
   "metadata": {},
   "outputs": [],
   "source": [
    "brand = []\n",
    "price = []\n",
    "des = []"
   ]
  },
  {
   "cell_type": "code",
   "execution_count": 135,
   "id": "4bffc509",
   "metadata": {},
   "outputs": [],
   "source": [
    "def sneaker():\n",
    "    brand_xpath = driver.find_elements(By.XPATH,\"//div[@class='_2WkVRV']\")\n",
    "    price_xpath =  driver.find_elements(By.XPATH,\"//div[@class='_30jeq3']\")\n",
    "    des_xpath =  driver.find_elements(By.XPATH,\"//div[@class='_30jeq3']\")\n",
    "    next_xpath =  driver.find_elements(By.XPATH,\"//a[@class='_1LKTO3']\")\n",
    "    \n",
    "    for i in brand_xpath[0:100]:\n",
    "        brand.append(i.text)\n",
    "    for i in price_xpath[0:100]:\n",
    "        price.append(i.text)\n",
    "    for i in des_xpath[0:100]:\n",
    "        des.append(i.text)\n",
    "        \n",
    "    print(len(brand))\n",
    "    print(len(price))\n",
    "    print(len(des))\n",
    "    \n",
    "    next_button = driver.find_element(By.XPATH,\"(//a[@class='_1LKTO3'])[2]\")\n",
    "    next_button.click()"
   ]
  },
  {
   "cell_type": "code",
   "execution_count": 140,
   "id": "e6f8df0d",
   "metadata": {},
   "outputs": [],
   "source": [
    "#for o in range(0,100):\n",
    "#    sneaker()"
   ]
  },
  {
   "cell_type": "code",
   "execution_count": 137,
   "id": "4bf93fda",
   "metadata": {},
   "outputs": [],
   "source": [
    "#brand.clear()"
   ]
  },
  {
   "cell_type": "code",
   "execution_count": 138,
   "id": "1acd2b06",
   "metadata": {},
   "outputs": [],
   "source": [
    "#price.clear()"
   ]
  },
  {
   "cell_type": "code",
   "execution_count": 151,
   "id": "7c8b7f9e",
   "metadata": {},
   "outputs": [],
   "source": [
    "#des.clear()"
   ]
  },
  {
   "cell_type": "code",
   "execution_count": 141,
   "id": "58d15b7f",
   "metadata": {},
   "outputs": [
    {
     "name": "stdout",
     "output_type": "stream",
     "text": [
      "40\n",
      "40\n",
      "40\n"
     ]
    }
   ],
   "source": [
    "sneaker()"
   ]
  },
  {
   "cell_type": "code",
   "execution_count": 142,
   "id": "946754c1",
   "metadata": {},
   "outputs": [
    {
     "name": "stdout",
     "output_type": "stream",
     "text": [
      "80\n",
      "80\n",
      "80\n"
     ]
    }
   ],
   "source": [
    "sneaker()"
   ]
  },
  {
   "cell_type": "code",
   "execution_count": 143,
   "id": "85309dee",
   "metadata": {},
   "outputs": [
    {
     "name": "stdout",
     "output_type": "stream",
     "text": [
      "120\n",
      "120\n",
      "120\n"
     ]
    }
   ],
   "source": [
    "sneaker()"
   ]
  },
  {
   "cell_type": "code",
   "execution_count": 144,
   "id": "e47aa034",
   "metadata": {},
   "outputs": [],
   "source": [
    "df = pd.DataFrame({'brand':brand,'price':price,'product_description':des})"
   ]
  },
  {
   "cell_type": "code",
   "execution_count": 145,
   "id": "9f4764b2",
   "metadata": {},
   "outputs": [
    {
     "data": {
      "text/plain": [
       "(120, 3)"
      ]
     },
     "execution_count": 145,
     "metadata": {},
     "output_type": "execute_result"
    }
   ],
   "source": [
    "df.shape"
   ]
  },
  {
   "cell_type": "code",
   "execution_count": 146,
   "id": "9655e5aa",
   "metadata": {},
   "outputs": [],
   "source": [
    "sneakers_data = df[:100][:]"
   ]
  },
  {
   "cell_type": "code",
   "execution_count": 147,
   "id": "74c4c12a",
   "metadata": {},
   "outputs": [],
   "source": [
    "sneakers_data = pd.DataFrame(sneakers_data)"
   ]
  },
  {
   "cell_type": "code",
   "execution_count": 150,
   "id": "49117e1a",
   "metadata": {
    "scrolled": true
   },
   "outputs": [
    {
     "data": {
      "text/html": [
       "<div>\n",
       "<style scoped>\n",
       "    .dataframe tbody tr th:only-of-type {\n",
       "        vertical-align: middle;\n",
       "    }\n",
       "\n",
       "    .dataframe tbody tr th {\n",
       "        vertical-align: top;\n",
       "    }\n",
       "\n",
       "    .dataframe thead th {\n",
       "        text-align: right;\n",
       "    }\n",
       "</style>\n",
       "<table border=\"1\" class=\"dataframe\">\n",
       "  <thead>\n",
       "    <tr style=\"text-align: right;\">\n",
       "      <th></th>\n",
       "      <th>brand</th>\n",
       "      <th>price</th>\n",
       "      <th>product_description</th>\n",
       "    </tr>\n",
       "  </thead>\n",
       "  <tbody>\n",
       "    <tr>\n",
       "      <th>0</th>\n",
       "      <td>TR</td>\n",
       "      <td>₹494</td>\n",
       "      <td>₹494</td>\n",
       "    </tr>\n",
       "    <tr>\n",
       "      <th>1</th>\n",
       "      <td>Footox</td>\n",
       "      <td>₹499</td>\n",
       "      <td>₹499</td>\n",
       "    </tr>\n",
       "    <tr>\n",
       "      <th>2</th>\n",
       "      <td>PUMA</td>\n",
       "      <td>₹3,500</td>\n",
       "      <td>₹3,500</td>\n",
       "    </tr>\n",
       "    <tr>\n",
       "      <th>3</th>\n",
       "      <td>ASTEROID</td>\n",
       "      <td>₹499</td>\n",
       "      <td>₹499</td>\n",
       "    </tr>\n",
       "    <tr>\n",
       "      <th>4</th>\n",
       "      <td>RED TAPE</td>\n",
       "      <td>₹1,143</td>\n",
       "      <td>₹1,143</td>\n",
       "    </tr>\n",
       "    <tr>\n",
       "      <th>...</th>\n",
       "      <td>...</td>\n",
       "      <td>...</td>\n",
       "      <td>...</td>\n",
       "    </tr>\n",
       "    <tr>\n",
       "      <th>95</th>\n",
       "      <td>VENDOZ</td>\n",
       "      <td>₹569</td>\n",
       "      <td>₹569</td>\n",
       "    </tr>\n",
       "    <tr>\n",
       "      <th>96</th>\n",
       "      <td>PUMA</td>\n",
       "      <td>₹1,569</td>\n",
       "      <td>₹1,569</td>\n",
       "    </tr>\n",
       "    <tr>\n",
       "      <th>97</th>\n",
       "      <td>Layasa</td>\n",
       "      <td>₹489</td>\n",
       "      <td>₹489</td>\n",
       "    </tr>\n",
       "    <tr>\n",
       "      <th>98</th>\n",
       "      <td>Robbie jones</td>\n",
       "      <td>₹478</td>\n",
       "      <td>₹478</td>\n",
       "    </tr>\n",
       "    <tr>\n",
       "      <th>99</th>\n",
       "      <td>PUMA</td>\n",
       "      <td>₹2,794</td>\n",
       "      <td>₹2,794</td>\n",
       "    </tr>\n",
       "  </tbody>\n",
       "</table>\n",
       "<p>100 rows × 3 columns</p>\n",
       "</div>"
      ],
      "text/plain": [
       "           brand   price product_description\n",
       "0             TR    ₹494                ₹494\n",
       "1         Footox    ₹499                ₹499\n",
       "2           PUMA  ₹3,500              ₹3,500\n",
       "3       ASTEROID    ₹499                ₹499\n",
       "4       RED TAPE  ₹1,143              ₹1,143\n",
       "..           ...     ...                 ...\n",
       "95        VENDOZ    ₹569                ₹569\n",
       "96          PUMA  ₹1,569              ₹1,569\n",
       "97        Layasa    ₹489                ₹489\n",
       "98  Robbie jones    ₹478                ₹478\n",
       "99          PUMA  ₹2,794              ₹2,794\n",
       "\n",
       "[100 rows x 3 columns]"
      ]
     },
     "execution_count": 150,
     "metadata": {},
     "output_type": "execute_result"
    }
   ],
   "source": [
    "sneakers_data"
   ]
  },
  {
   "cell_type": "markdown",
   "id": "aee60fd9",
   "metadata": {},
   "source": [
    "## Scrapping Data From Amazon of Laptop"
   ]
  },
  {
   "cell_type": "code",
   "execution_count": 152,
   "id": "8388dd1b",
   "metadata": {},
   "outputs": [],
   "source": [
    "driver.get('https://www.amazon.in/')"
   ]
  },
  {
   "cell_type": "code",
   "execution_count": 153,
   "id": "a3a5b007",
   "metadata": {},
   "outputs": [],
   "source": [
    "search_bar = driver.find_element(By.XPATH,'//*[@id=\"twotabsearchtextbox\"]')\n",
    "search_box = driver.find_element(By.XPATH,'//*[@id=\"nav-search-submit-button\"]')"
   ]
  },
  {
   "cell_type": "code",
   "execution_count": 154,
   "id": "a9962946",
   "metadata": {},
   "outputs": [],
   "source": [
    "search_bar.send_keys('Laptop')"
   ]
  },
  {
   "cell_type": "code",
   "execution_count": 155,
   "id": "938a5aa5",
   "metadata": {},
   "outputs": [],
   "source": [
    "search_box.click()"
   ]
  },
  {
   "cell_type": "code",
   "execution_count": 159,
   "id": "1f1d4978",
   "metadata": {},
   "outputs": [],
   "source": [
    "i7_filter =  driver.find_element(By.XPATH,'//*[@id=\"p_n_feature_thirteen_browse-bin/12598163031\"]/span/a')"
   ]
  },
  {
   "cell_type": "code",
   "execution_count": 160,
   "id": "c02255d7",
   "metadata": {},
   "outputs": [],
   "source": [
    "i7_filter.click()"
   ]
  },
  {
   "cell_type": "code",
   "execution_count": 161,
   "id": "1290cda7",
   "metadata": {},
   "outputs": [],
   "source": [
    "title = []\n",
    "rating = []\n",
    "price = []"
   ]
  },
  {
   "cell_type": "code",
   "execution_count": 179,
   "id": "0b352bf9",
   "metadata": {},
   "outputs": [],
   "source": [
    "def laptops():\n",
    "    title_xpath = driver.find_elements(By.XPATH,'//h2[@class=\"a-size-mini a-spacing-none a-color-base s-line-clamp-2\"]')\n",
    "    rating_xpath =  driver.find_elements(By.XPATH,'//span[@class=\"a-icon-alt\"]')\n",
    "    price_xpath =  driver.find_elements(By.XPATH,'//span[@class=\"a-price-whole\"]')\n",
    "    \n",
    "    for i in title_xpath[0:10]:\n",
    "        title.append(i.text)\n",
    "    for i in rating_xpath[0:10]:\n",
    "        rating.append(i.text)\n",
    "    for i in price_xpath[0:10]:\n",
    "        price.append(i.text)\n",
    "        \n",
    "    print(len(title))\n",
    "    print(len(rating))\n",
    "    print(len(price))"
   ]
  },
  {
   "cell_type": "code",
   "execution_count": 180,
   "id": "e807f98e",
   "metadata": {},
   "outputs": [
    {
     "name": "stdout",
     "output_type": "stream",
     "text": [
      "10\n",
      "10\n",
      "10\n"
     ]
    }
   ],
   "source": [
    "laptops()"
   ]
  },
  {
   "cell_type": "code",
   "execution_count": 181,
   "id": "f0173ecc",
   "metadata": {},
   "outputs": [],
   "source": [
    "df = pd.DataFrame({'title':title,'rating':rating,'price':price})"
   ]
  },
  {
   "cell_type": "code",
   "execution_count": 182,
   "id": "f40c3c53",
   "metadata": {},
   "outputs": [],
   "source": [
    "laptop_data = df[:10][:]"
   ]
  },
  {
   "cell_type": "code",
   "execution_count": 183,
   "id": "7bbd8b90",
   "metadata": {},
   "outputs": [],
   "source": [
    "laptop_data = pd.DataFrame(laptop_data)"
   ]
  },
  {
   "cell_type": "code",
   "execution_count": 184,
   "id": "0abd72ee",
   "metadata": {},
   "outputs": [
    {
     "data": {
      "text/html": [
       "<div>\n",
       "<style scoped>\n",
       "    .dataframe tbody tr th:only-of-type {\n",
       "        vertical-align: middle;\n",
       "    }\n",
       "\n",
       "    .dataframe tbody tr th {\n",
       "        vertical-align: top;\n",
       "    }\n",
       "\n",
       "    .dataframe thead th {\n",
       "        text-align: right;\n",
       "    }\n",
       "</style>\n",
       "<table border=\"1\" class=\"dataframe\">\n",
       "  <thead>\n",
       "    <tr style=\"text-align: right;\">\n",
       "      <th></th>\n",
       "      <th>title</th>\n",
       "      <th>rating</th>\n",
       "      <th>price</th>\n",
       "    </tr>\n",
       "  </thead>\n",
       "  <tbody>\n",
       "    <tr>\n",
       "      <th>0</th>\n",
       "      <td>Acer Swift 5 Intel Evo Premium 14 Inches Full ...</td>\n",
       "      <td></td>\n",
       "      <td>1,05,385</td>\n",
       "    </tr>\n",
       "    <tr>\n",
       "      <th>1</th>\n",
       "      <td>ASUS Vivobook 15, 15.6-inch (39.62 cms) FHD, I...</td>\n",
       "      <td></td>\n",
       "      <td>57,990</td>\n",
       "    </tr>\n",
       "    <tr>\n",
       "      <th>2</th>\n",
       "      <td>(Renewed) HP ProBook 430 G3 6th Gen Intel Core...</td>\n",
       "      <td></td>\n",
       "      <td>24,939</td>\n",
       "    </tr>\n",
       "    <tr>\n",
       "      <th>3</th>\n",
       "      <td>HP Pavilion Plus, 12th Gen Intel Core i7 16GB ...</td>\n",
       "      <td></td>\n",
       "      <td>95,546</td>\n",
       "    </tr>\n",
       "    <tr>\n",
       "      <th>4</th>\n",
       "      <td>Lenovo IdeaPad Slim 5 12th Gen Intel Core i7 1...</td>\n",
       "      <td></td>\n",
       "      <td>82,990</td>\n",
       "    </tr>\n",
       "    <tr>\n",
       "      <th>5</th>\n",
       "      <td>HP Victus Gaming Latest 12th Gen Intel Core i7...</td>\n",
       "      <td></td>\n",
       "      <td>82,490</td>\n",
       "    </tr>\n",
       "    <tr>\n",
       "      <th>6</th>\n",
       "      <td>HP Pavilion 14 12th Gen Intel Core i7 16GB SDR...</td>\n",
       "      <td></td>\n",
       "      <td>89,000</td>\n",
       "    </tr>\n",
       "    <tr>\n",
       "      <th>7</th>\n",
       "      <td>Acer Nitro 5 Gaming Laptop Intel core i7 11th ...</td>\n",
       "      <td></td>\n",
       "      <td>79,990</td>\n",
       "    </tr>\n",
       "    <tr>\n",
       "      <th>8</th>\n",
       "      <td>ASUS TUF Dash F15 (2022), 15.6-inch (39.62 cms...</td>\n",
       "      <td></td>\n",
       "      <td>1,49,900</td>\n",
       "    </tr>\n",
       "    <tr>\n",
       "      <th>9</th>\n",
       "      <td>HP Pavilion x360 11th Gen Intel Core i7 14 inc...</td>\n",
       "      <td></td>\n",
       "      <td>82,490</td>\n",
       "    </tr>\n",
       "  </tbody>\n",
       "</table>\n",
       "</div>"
      ],
      "text/plain": [
       "                                               title rating     price\n",
       "0  Acer Swift 5 Intel Evo Premium 14 Inches Full ...         1,05,385\n",
       "1  ASUS Vivobook 15, 15.6-inch (39.62 cms) FHD, I...           57,990\n",
       "2  (Renewed) HP ProBook 430 G3 6th Gen Intel Core...           24,939\n",
       "3  HP Pavilion Plus, 12th Gen Intel Core i7 16GB ...           95,546\n",
       "4  Lenovo IdeaPad Slim 5 12th Gen Intel Core i7 1...           82,990\n",
       "5  HP Victus Gaming Latest 12th Gen Intel Core i7...           82,490\n",
       "6  HP Pavilion 14 12th Gen Intel Core i7 16GB SDR...           89,000\n",
       "7  Acer Nitro 5 Gaming Laptop Intel core i7 11th ...           79,990\n",
       "8  ASUS TUF Dash F15 (2022), 15.6-inch (39.62 cms...         1,49,900\n",
       "9  HP Pavilion x360 11th Gen Intel Core i7 14 inc...           82,490"
      ]
     },
     "execution_count": 184,
     "metadata": {},
     "output_type": "execute_result"
    }
   ],
   "source": [
    "laptop_data"
   ]
  },
  {
   "cell_type": "code",
   "execution_count": 185,
   "id": "45eaefe4",
   "metadata": {},
   "outputs": [
    {
     "data": {
      "text/plain": [
       "(10, 3)"
      ]
     },
     "execution_count": 185,
     "metadata": {},
     "output_type": "execute_result"
    }
   ],
   "source": [
    "laptop_data.shape"
   ]
  },
  {
   "cell_type": "code",
   "execution_count": 186,
   "id": "88580049",
   "metadata": {},
   "outputs": [],
   "source": [
    "#title.clear()"
   ]
  },
  {
   "cell_type": "code",
   "execution_count": 177,
   "id": "f50d0dc5",
   "metadata": {},
   "outputs": [],
   "source": [
    "#rating.clear()"
   ]
  },
  {
   "cell_type": "code",
   "execution_count": 178,
   "id": "b4eb412d",
   "metadata": {},
   "outputs": [],
   "source": [
    "#price.clear()"
   ]
  },
  {
   "cell_type": "markdown",
   "id": "402d9e26",
   "metadata": {},
   "source": [
    "## Scrapping Quotes From AZquotes"
   ]
  },
  {
   "cell_type": "code",
   "execution_count": 74,
   "id": "9668b23f",
   "metadata": {},
   "outputs": [],
   "source": [
    "driver = webdriver.Chrome('chromedriver.exe')"
   ]
  },
  {
   "cell_type": "code",
   "execution_count": 75,
   "id": "cb2c1e94",
   "metadata": {},
   "outputs": [],
   "source": [
    "driver.get('https://www.azquotes.com/')"
   ]
  },
  {
   "cell_type": "code",
   "execution_count": 76,
   "id": "82c45b22",
   "metadata": {},
   "outputs": [],
   "source": [
    "top_quotes = driver.find_element(By.XPATH,'/html/body/div[1]/div[1]/div[1]/div/div[3]/ul/li[5]/a')"
   ]
  },
  {
   "cell_type": "code",
   "execution_count": 77,
   "id": "332fd972",
   "metadata": {},
   "outputs": [],
   "source": [
    "top_quotes.click()"
   ]
  },
  {
   "cell_type": "code",
   "execution_count": 78,
   "id": "2b12e53c",
   "metadata": {},
   "outputs": [],
   "source": [
    "quote = []\n",
    "author = []\n",
    "quote_type = []"
   ]
  },
  {
   "cell_type": "code",
   "execution_count": 79,
   "id": "eef310cf",
   "metadata": {},
   "outputs": [],
   "source": [
    "def quotes():\n",
    "    quote_xpath = driver.find_elements(By.XPATH,'//a[@class=\"title\"]')\n",
    "    author_xpath = driver.find_elements(By.XPATH,'//div[@class=\"author\"]')\n",
    "    quote_type_xpath =  driver.find_elements(By.XPATH,'//div[@class=\"tags\"]')\n",
    "    \n",
    "    for i in quote_xpath[0:100]:\n",
    "        quote.append(i.text)\n",
    "    for i in author_xpath[0:100]:\n",
    "        author.append(i.text)\n",
    "    for i in quote_type_xpath[0:100]:\n",
    "        quote_type.append(i.text)\n",
    "        \n",
    "    print(len(quote))\n",
    "    print(len(author))\n",
    "    print(len(quote_type))\n",
    "    \n",
    "    next_button = driver.find_element(By.XPATH,'(//li[@class=\"next\"])[1]')\n",
    "    next_button.click()"
   ]
  },
  {
   "cell_type": "code",
   "execution_count": 80,
   "id": "908a30cc",
   "metadata": {},
   "outputs": [
    {
     "name": "stdout",
     "output_type": "stream",
     "text": [
      "100\n",
      "100\n",
      "100\n",
      "200\n",
      "200\n",
      "200\n",
      "300\n",
      "300\n",
      "300\n",
      "400\n",
      "400\n",
      "400\n",
      "500\n",
      "500\n",
      "500\n",
      "600\n",
      "600\n",
      "600\n",
      "700\n",
      "700\n",
      "700\n",
      "800\n",
      "800\n",
      "800\n",
      "900\n",
      "900\n",
      "900\n"
     ]
    }
   ],
   "source": [
    "i=0\n",
    "while i<=8:\n",
    "    quotes()\n",
    "    i=i+1"
   ]
  },
  {
   "cell_type": "code",
   "execution_count": 70,
   "id": "e84d69f9",
   "metadata": {},
   "outputs": [],
   "source": [
    "#quote.clear()"
   ]
  },
  {
   "cell_type": "code",
   "execution_count": 71,
   "id": "ee332103",
   "metadata": {},
   "outputs": [],
   "source": [
    "#author.clear()"
   ]
  },
  {
   "cell_type": "code",
   "execution_count": 72,
   "id": "48dd5616",
   "metadata": {},
   "outputs": [],
   "source": [
    "#quote_type.clear()"
   ]
  },
  {
   "cell_type": "code",
   "execution_count": 81,
   "id": "9782afb7",
   "metadata": {
    "scrolled": true
   },
   "outputs": [
    {
     "data": {
      "text/plain": [
       "900"
      ]
     },
     "execution_count": 81,
     "metadata": {},
     "output_type": "execute_result"
    }
   ],
   "source": [
    "len(quote)"
   ]
  },
  {
   "cell_type": "code",
   "execution_count": 82,
   "id": "38e5ffa9",
   "metadata": {},
   "outputs": [],
   "source": [
    "def quotes1():\n",
    "    quote_xpath = driver.find_elements(By.XPATH,'//a[@class=\"title\"]')\n",
    "    author_xpath = driver.find_elements(By.XPATH,'//div[@class=\"author\"]')\n",
    "    quote_type_xpath =  driver.find_elements(By.XPATH,'//div[@class=\"tags\"]')\n",
    "    \n",
    "    for i in quote_xpath[0:100]:\n",
    "        quote.append(i.text)\n",
    "    for i in author_xpath[0:100]:\n",
    "        author.append(i.text)\n",
    "    for i in quote_type_xpath[0:100]:\n",
    "        quote_type.append(i.text)\n",
    "        \n",
    "    print(len(quote))\n",
    "    print(len(author))\n",
    "    print(len(quote_type))"
   ]
  },
  {
   "cell_type": "code",
   "execution_count": 83,
   "id": "7ec44044",
   "metadata": {},
   "outputs": [
    {
     "name": "stdout",
     "output_type": "stream",
     "text": [
      "1000\n",
      "1000\n",
      "1000\n"
     ]
    }
   ],
   "source": [
    "quotes1()"
   ]
  },
  {
   "cell_type": "code",
   "execution_count": 84,
   "id": "8b20906d",
   "metadata": {},
   "outputs": [
    {
     "data": {
      "text/plain": [
       "1000"
      ]
     },
     "execution_count": 84,
     "metadata": {},
     "output_type": "execute_result"
    }
   ],
   "source": [
    "len(quote)"
   ]
  },
  {
   "cell_type": "code",
   "execution_count": 85,
   "id": "6993348b",
   "metadata": {},
   "outputs": [],
   "source": [
    "quotes_data = pd.DataFrame({\"QUOTE\":quote,\"AUTHOR\":author,\"QUOTE TYPE\":quote_type})"
   ]
  },
  {
   "cell_type": "code",
   "execution_count": 86,
   "id": "8a3e3079",
   "metadata": {},
   "outputs": [
    {
     "data": {
      "text/html": [
       "<div>\n",
       "<style scoped>\n",
       "    .dataframe tbody tr th:only-of-type {\n",
       "        vertical-align: middle;\n",
       "    }\n",
       "\n",
       "    .dataframe tbody tr th {\n",
       "        vertical-align: top;\n",
       "    }\n",
       "\n",
       "    .dataframe thead th {\n",
       "        text-align: right;\n",
       "    }\n",
       "</style>\n",
       "<table border=\"1\" class=\"dataframe\">\n",
       "  <thead>\n",
       "    <tr style=\"text-align: right;\">\n",
       "      <th></th>\n",
       "      <th>QUOTE</th>\n",
       "      <th>AUTHOR</th>\n",
       "      <th>QUOTE TYPE</th>\n",
       "    </tr>\n",
       "  </thead>\n",
       "  <tbody>\n",
       "    <tr>\n",
       "      <th>0</th>\n",
       "      <td>The essence of strategy is choosing what not t...</td>\n",
       "      <td>Michael Porter</td>\n",
       "      <td>Essence, Deep Thought, Transcendentalism</td>\n",
       "    </tr>\n",
       "    <tr>\n",
       "      <th>1</th>\n",
       "      <td>One cannot and must not try to erase the past ...</td>\n",
       "      <td>Golda Meir</td>\n",
       "      <td>Inspiration, Past, Trying</td>\n",
       "    </tr>\n",
       "    <tr>\n",
       "      <th>2</th>\n",
       "      <td>Patriotism means to stand by the country. It d...</td>\n",
       "      <td>Theodore Roosevelt</td>\n",
       "      <td>Country, Peace, War</td>\n",
       "    </tr>\n",
       "    <tr>\n",
       "      <th>3</th>\n",
       "      <td>Death is something inevitable. When a man has ...</td>\n",
       "      <td>Nelson Mandela</td>\n",
       "      <td>Inspirational, Motivational, Death</td>\n",
       "    </tr>\n",
       "    <tr>\n",
       "      <th>4</th>\n",
       "      <td>You have to love a nation that celebrates its ...</td>\n",
       "      <td>Erma Bombeck</td>\n",
       "      <td>4th Of July, Food, Patriotic</td>\n",
       "    </tr>\n",
       "    <tr>\n",
       "      <th>...</th>\n",
       "      <td>...</td>\n",
       "      <td>...</td>\n",
       "      <td>...</td>\n",
       "    </tr>\n",
       "    <tr>\n",
       "      <th>995</th>\n",
       "      <td>Regret for the things we did can be tempered b...</td>\n",
       "      <td>Sydney J. Harris</td>\n",
       "      <td>Love, Inspirational, Motivational</td>\n",
       "    </tr>\n",
       "    <tr>\n",
       "      <th>996</th>\n",
       "      <td>America... just a nation of two hundred millio...</td>\n",
       "      <td>Hunter S. Thompson</td>\n",
       "      <td>Gun, Two, Qualms About</td>\n",
       "    </tr>\n",
       "    <tr>\n",
       "      <th>997</th>\n",
       "      <td>For every disciplined effort there is a multip...</td>\n",
       "      <td>Jim Rohn</td>\n",
       "      <td>Inspirational, Greatness, Best Effort</td>\n",
       "    </tr>\n",
       "    <tr>\n",
       "      <th>998</th>\n",
       "      <td>The spiritual journey is individual, highly pe...</td>\n",
       "      <td>Ram Dass</td>\n",
       "      <td>Spiritual, Truth, Yoga</td>\n",
       "    </tr>\n",
       "    <tr>\n",
       "      <th>999</th>\n",
       "      <td>The mind is not a vessel to be filled but a fi...</td>\n",
       "      <td>Plutarch</td>\n",
       "      <td>Inspirational, Leadership, Education</td>\n",
       "    </tr>\n",
       "  </tbody>\n",
       "</table>\n",
       "<p>1000 rows × 3 columns</p>\n",
       "</div>"
      ],
      "text/plain": [
       "                                                 QUOTE              AUTHOR  \\\n",
       "0    The essence of strategy is choosing what not t...      Michael Porter   \n",
       "1    One cannot and must not try to erase the past ...          Golda Meir   \n",
       "2    Patriotism means to stand by the country. It d...  Theodore Roosevelt   \n",
       "3    Death is something inevitable. When a man has ...      Nelson Mandela   \n",
       "4    You have to love a nation that celebrates its ...        Erma Bombeck   \n",
       "..                                                 ...                 ...   \n",
       "995  Regret for the things we did can be tempered b...    Sydney J. Harris   \n",
       "996  America... just a nation of two hundred millio...  Hunter S. Thompson   \n",
       "997  For every disciplined effort there is a multip...            Jim Rohn   \n",
       "998  The spiritual journey is individual, highly pe...            Ram Dass   \n",
       "999  The mind is not a vessel to be filled but a fi...            Plutarch   \n",
       "\n",
       "                                   QUOTE TYPE  \n",
       "0    Essence, Deep Thought, Transcendentalism  \n",
       "1                   Inspiration, Past, Trying  \n",
       "2                         Country, Peace, War  \n",
       "3          Inspirational, Motivational, Death  \n",
       "4                4th Of July, Food, Patriotic  \n",
       "..                                        ...  \n",
       "995         Love, Inspirational, Motivational  \n",
       "996                    Gun, Two, Qualms About  \n",
       "997     Inspirational, Greatness, Best Effort  \n",
       "998                    Spiritual, Truth, Yoga  \n",
       "999      Inspirational, Leadership, Education  \n",
       "\n",
       "[1000 rows x 3 columns]"
      ]
     },
     "execution_count": 86,
     "metadata": {},
     "output_type": "execute_result"
    }
   ],
   "source": [
    "quotes_data"
   ]
  },
  {
   "cell_type": "markdown",
   "id": "1d4e8f4e",
   "metadata": {},
   "source": [
    "## Scrapping Data From Jagran Josh"
   ]
  },
  {
   "cell_type": "code",
   "execution_count": 226,
   "id": "9a308827",
   "metadata": {},
   "outputs": [],
   "source": [
    "driver = webdriver.Chrome('chromedriver.exe')\n",
    "driver.get('https://www.jagranjosh.com/')"
   ]
  },
  {
   "cell_type": "code",
   "execution_count": 227,
   "id": "373b0f33",
   "metadata": {},
   "outputs": [],
   "source": [
    "gk = driver.find_element(By.XPATH,'/html/body/div[1]/div[1]/div/div[1]/div/div[6]/div/div[1]/header/div[3]/ul/li[9]/a')"
   ]
  },
  {
   "cell_type": "code",
   "execution_count": 228,
   "id": "0eab8696",
   "metadata": {},
   "outputs": [],
   "source": [
    "gk.click()"
   ]
  },
  {
   "cell_type": "code",
   "execution_count": 229,
   "id": "8677b672",
   "metadata": {},
   "outputs": [],
   "source": [
    "pm = driver.find_element(By.XPATH,'/html/body/div[1]/div/div/div[2]/div/div[10]/div/div/ul/li[2]/a')"
   ]
  },
  {
   "cell_type": "code",
   "execution_count": 230,
   "id": "be3da2d9",
   "metadata": {},
   "outputs": [],
   "source": [
    "pm.click()"
   ]
  },
  {
   "cell_type": "code",
   "execution_count": 239,
   "id": "2f96875e",
   "metadata": {},
   "outputs": [],
   "source": [
    "x_path= driver.find_elements(By.XPATH,'//td//p')"
   ]
  },
  {
   "cell_type": "code",
   "execution_count": 260,
   "id": "08d6aa78",
   "metadata": {},
   "outputs": [],
   "source": [
    "pm=[]"
   ]
  },
  {
   "cell_type": "code",
   "execution_count": 261,
   "id": "bc2b5faa",
   "metadata": {},
   "outputs": [],
   "source": [
    "for i in x_path[:]:\n",
    "    pm.append(i.text)"
   ]
  },
  {
   "cell_type": "code",
   "execution_count": 262,
   "id": "0d909187",
   "metadata": {},
   "outputs": [
    {
     "data": {
      "text/plain": [
       "['1.',\n",
       " 'Jawahar Lal Nehru',\n",
       " '(1889–1964)',\n",
       " '15 August 1947 to 27 May 1964',\n",
       " '16 years, 286 days',\n",
       " 'The first prime minister of India and the longest-serving PM of India, the first to die in office.',\n",
       " '2.',\n",
       " 'Gulzarilal Nanda (Acting)',\n",
       " '(1898-1998)',\n",
       " '27 May 1964 to 9 June 1964,',\n",
       " '13 days',\n",
       " 'First acting PM of India',\n",
       " '3.',\n",
       " 'Lal Bahadur Shastri',\n",
       " '(1904–1966)',\n",
       " '9 June 1964 to 11 January 1966',\n",
       " '1 year, 216 days',\n",
       " \"He has given the slogan of 'Jai Jawan Jai Kisan' during the Indo-Pak war of 1965\",\n",
       " '4. ',\n",
       " 'Gulzari Lal Nanda  (Acting)',\n",
       " '(1898-1998)',\n",
       " '11 January 1966 to 24 January 1966',\n",
       " '13 days',\n",
       " '-',\n",
       " '5.',\n",
       " 'Indira Gandhi',\n",
       " '(1917–1984)',\n",
       " '24 January 1966 to 24 March 1977',\n",
       " '11 years, 59 days',\n",
       " 'First female Prime Minister of India',\n",
       " '6.',\n",
       " 'Morarji Desai',\n",
       " '(1896–1995)',\n",
       " '24 March 1977 to  28 July 1979 ',\n",
       " '2 year, 126 days',\n",
       " 'Oldest to become PM (81 years old) and first to resign from office',\n",
       " '7.',\n",
       " 'Charan Singh',\n",
       " '(1902–1987)',\n",
       " '28 July 1979 to 14 January 1980',\n",
       " '170 days',\n",
       " 'Only PM who did not face the Parliament',\n",
       " '8.',\n",
       " 'Indira Gandhi',\n",
       " '(1917–1984)',\n",
       " '14 January 1980 to 31 October 1984',\n",
       " '4 years, 291 days',\n",
       " 'The first lady who served as PM for the second term',\n",
       " '9.',\n",
       " 'Rajiv Gandhi',\n",
       " '(1944–1991)',\n",
       " '31 October 1984 to 2 December 1989',\n",
       " '5 years, 32 days',\n",
       " 'Youngest to become PM (40 years old)',\n",
       " '10.',\n",
       " 'V. P. Singh',\n",
       " '(1931–2008)',\n",
       " '2 December 1989 to 10 November 1990',\n",
       " '343 days',\n",
       " 'First PM to step down after a vote of no confidence',\n",
       " '11.',\n",
       " 'Chandra Shekhar',\n",
       " '(1927–2007)',\n",
       " '10 November 1990 to 21 June 1991',\n",
       " '223 days',\n",
       " 'He belongs to  Samajwadi Janata Party',\n",
       " '12.',\n",
       " 'P. V. Narasimha Rao',\n",
       " '(1921–2004)',\n",
       " '21 June 1991 to 16 May 1996',\n",
       " '4 years, 330 days',\n",
       " 'First PM from south India',\n",
       " '13.',\n",
       " 'Atal Bihari Vajpayee',\n",
       " '(1924- 2018)',\n",
       " '16 May 1996 to 1 June 1996',\n",
       " '16 days',\n",
       " 'PM for shortest tenure',\n",
       " '14.',\n",
       " 'H. D. Deve Gowda',\n",
       " '(born 1933)',\n",
       " '1 June 1996 to 21 April 1997',\n",
       " '324 days',\n",
       " 'He belongs to  Janata Dal',\n",
       " '15.',\n",
       " 'Inder Kumar Gujral',\n",
       " '(1919–2012)',\n",
       " '21 April 1997 to 19 March 1998 ',\n",
       " '332 days',\n",
       " '------',\n",
       " '16.',\n",
       " 'Atal Bihari Vajpayee',\n",
       " '(1924-2018)',\n",
       " '19 March 1998 to 22 May 2004 ',\n",
       " '6 years, 64 days',\n",
       " ' The first non-congress PM who completed a full term as PM',\n",
       " '17.',\n",
       " 'Manmohan Singh',\n",
       " '(born 1932)',\n",
       " '22 May 2004 to 26 May 2014   ',\n",
       " '10 years, 4 days',\n",
       " ' First Sikh PM',\n",
       " '18.',\n",
       " 'Narendra Modi',\n",
       " '(born 1950)',\n",
       " '26 May 2014 - Present',\n",
       " '4th Prime Minister of India who served two consecutive tenures']"
      ]
     },
     "execution_count": 262,
     "metadata": {},
     "output_type": "execute_result"
    }
   ],
   "source": [
    "pm"
   ]
  },
  {
   "cell_type": "code",
   "execution_count": null,
   "id": "9ff6c33e",
   "metadata": {},
   "outputs": [],
   "source": []
  },
  {
   "cell_type": "code",
   "execution_count": null,
   "id": "000eb967",
   "metadata": {},
   "outputs": [],
   "source": []
  },
  {
   "cell_type": "code",
   "execution_count": null,
   "id": "605cd4b4",
   "metadata": {},
   "outputs": [],
   "source": []
  },
  {
   "cell_type": "code",
   "execution_count": null,
   "id": "e947a6e0",
   "metadata": {},
   "outputs": [],
   "source": []
  },
  {
   "cell_type": "code",
   "execution_count": null,
   "id": "aa487c45",
   "metadata": {},
   "outputs": [],
   "source": []
  },
  {
   "cell_type": "code",
   "execution_count": null,
   "id": "14591e6a",
   "metadata": {},
   "outputs": [],
   "source": []
  },
  {
   "cell_type": "code",
   "execution_count": null,
   "id": "e124df26",
   "metadata": {},
   "outputs": [],
   "source": []
  },
  {
   "cell_type": "code",
   "execution_count": null,
   "id": "b878c43a",
   "metadata": {},
   "outputs": [],
   "source": []
  },
  {
   "cell_type": "code",
   "execution_count": null,
   "id": "3dd39cd8",
   "metadata": {},
   "outputs": [],
   "source": []
  },
  {
   "cell_type": "code",
   "execution_count": null,
   "id": "2b5f26ce",
   "metadata": {},
   "outputs": [],
   "source": []
  },
  {
   "cell_type": "markdown",
   "id": "fbb297bb",
   "metadata": {},
   "source": [
    "## Scrapping Data From Motor1 Top 50 expensive cars"
   ]
  },
  {
   "cell_type": "code",
   "execution_count": 131,
   "id": "004540bb",
   "metadata": {},
   "outputs": [],
   "source": [
    "driver = webdriver.Chrome('chromedriver.exe')\n",
    "driver.get('https://www.motor1.com/')"
   ]
  },
  {
   "cell_type": "code",
   "execution_count": 134,
   "id": "4859b83d",
   "metadata": {},
   "outputs": [],
   "source": [
    "nav = driver.find_element(By.XPATH,'/html/body/div[3]/div[2]/div/div/div[1]/div')"
   ]
  },
  {
   "cell_type": "code",
   "execution_count": 135,
   "id": "6b987e37",
   "metadata": {},
   "outputs": [],
   "source": [
    "nav.click()"
   ]
  },
  {
   "cell_type": "code",
   "execution_count": 136,
   "id": "2b6d978f",
   "metadata": {},
   "outputs": [],
   "source": [
    "features = driver.find_element(By.XPATH,'/html/body/div[4]/div[1]/div[3]/ul/li[5]')"
   ]
  },
  {
   "cell_type": "code",
   "execution_count": 137,
   "id": "e7ebe452",
   "metadata": {},
   "outputs": [],
   "source": [
    "features.click()"
   ]
  },
  {
   "cell_type": "code",
   "execution_count": 138,
   "id": "4eb12db3",
   "metadata": {},
   "outputs": [],
   "source": [
    "lists  = driver.find_element(By.XPATH,\"/html/body/div[3]/div[8]/div/div[1]/div[1]/div[2]/div/div[1]/h3/a\")"
   ]
  },
  {
   "cell_type": "code",
   "execution_count": 139,
   "id": "d82fc239",
   "metadata": {},
   "outputs": [],
   "source": [
    "lists.click()"
   ]
  },
  {
   "cell_type": "code",
   "execution_count": 140,
   "id": "6186f555",
   "metadata": {},
   "outputs": [],
   "source": [
    "car_xpath = driver.find_elements(By.XPATH,)"
   ]
  },
  {
   "cell_type": "code",
   "execution_count": 143,
   "id": "aea10e8b",
   "metadata": {},
   "outputs": [],
   "source": [
    "car=[]\n",
    "price=[]\n",
    "des=[]"
   ]
  },
  {
   "cell_type": "code",
   "execution_count": 154,
   "id": "edd95ae8",
   "metadata": {},
   "outputs": [],
   "source": [
    "def cars():\n",
    "    car_xpath = driver.find_elements(By.XPATH,\"//h3[@class='subheader']\")\n",
    "    price_xpath = driver.find_elements(By.XPATH,'//h3[@class=\"subheader\"]')\n",
    "    des_xpath =  driver.find_elements(By.XPATH,'//div[@class=\"postBody description e-content\"]//p')\n",
    "    \n",
    "    for i in car_xpath[0:100]:\n",
    "        car.append(i.text)\n",
    "    for i in price_xpath[0:100]:\n",
    "        price.append(i.text)\n",
    "    for i in des_xpath[0:100]:\n",
    "        des.append(i.text)\n",
    "        \n",
    "    print(len(car))\n",
    "    print(len(price))\n",
    "    print(len(des))"
   ]
  },
  {
   "cell_type": "code",
   "execution_count": 155,
   "id": "9fa4c9e5",
   "metadata": {},
   "outputs": [
    {
     "name": "stdout",
     "output_type": "stream",
     "text": [
      "51\n",
      "51\n",
      "100\n"
     ]
    }
   ],
   "source": [
    "cars()"
   ]
  },
  {
   "cell_type": "code",
   "execution_count": 150,
   "id": "3d85fd10",
   "metadata": {},
   "outputs": [
    {
     "data": {
      "text/plain": [
       "['When it comes to high-end hypercars and super-fast supercars, a few companies should come to mind first: Bugatti, Ferrari, Koenigsegg, Rimac, and Pagani, among others. These manufacturers have cemented themselves as the top dogs in the supercar and hypercar space, extending to their wealthiest clientele the fastest, rarest, prettiest – and in this case – most expensive cars on the planet.',\n",
       " \"But in order to find out which of these unattainable-to-most vehicles is the priciest, we've scoured the invoice sheets and uncovered 40 cars all worth $1 million or more. The group includes hybrid Ferrari convertibles, an American speed king, a few electric Hypercars, and two a one-of-a-kind Rolls-Royce cars built for royalty.\",\n",
       " 'We should note, though: The prices listed here are the price of the vehicles when new. So we’re not counting auction cars like the Ferrari 250 GTO, or overpriced secondhand sales. But don’t worry, there’s still hundreds of millions worth of cars here to whet your appetite.',\n",
       " '',\n",
       " 'Price: $1.2 Million',\n",
       " 'The Drako GTE is a super sedan in every sense of the word. Packing 1,200 horsepower and a whopping 6,491 pound-feet of torque from a fully electric powertrain, the GTE can hit 60 in just about 2.0 seconds and tops out at 206 miles per hour. The cost for this family-friendly rocket is a cool $1.2 million.',\n",
       " 'Price: $1.3 Million',\n",
       " 'The De Tomaso P72 is basically the definition of beautiful. The shapely supercar debuted at the 2019 Goodwood Festival Of Speed with a supercharged Ford V8 boasting 700 horsepower. The P72 marked the return of the DeTomaso brand after nearly 30 years on hiatus, and if you want one, it will cost you at least $1.3 million.',\n",
       " 'Price: $1.4 Million',\n",
       " 'At $1.4 million new, the Ferrari LaFerrari is actually one of the most affordable supercars on this list. It’s a bargain compared to the most expensive vehicle here. Debuting in 2013 with 950 hybrid horses (708 kilowatts) and a top speed of around 220 miles per hour (354 kilometers per hour), this is still Ferrari’s fastest and most powerful production model to date. The company built just 499 examples of the coupe between 2013 and 2016.',\n",
       " 'Price: $1.4 Million',\n",
       " 'Inarguably one of the prettiest cars on this list, the Pagani Huayra cost a cool $1.4 million when new. Like the LaFerrari, Pagani built the Huayra in extremely limited numbers. The company hand-constructed just 100 units of the coupe between 2012 and 2018, with another 20 versions of the BC model (which makes our list further down) between 2017 and 2019. Powering each and every example was a Mercedes-AMG V12 capable of 720 horsepower (537 kilowatts).',\n",
       " 'Price: $1.7 Million',\n",
       " 'The McLaren Elva is one of the latest additions to the British supercar maker’s storied legacy. Even without a proper windshield (though, no option) or roof to rely on, the Elva produces 804 horsepower and 590 pound-feet of torque from its twin-turbocharged 4.0-liter V8. Originally McLaren announced just 399 units, but later the company dropped that to an even more scarce 249 examples. Either way, most of you will never get your hands on one – the Elva costs $1.7 million.',\n",
       " 'Price: $1.7 Million',\n",
       " 'You might not know the name Czinger yet, but this California-based boutique automaker is responsible for the $1.7 million 21C supercar. With 1,250 horsepower on tap thanks to a 2.9-liter twin-turbocharged V8, the 21C can rocket to 60 miles per hour in 1.9 seconds and a top speed of around 281 miles per hour.',\n",
       " 'Price: $1.7 Million',\n",
       " 'Much like the roof-less McLaren Elva, the Ferrari Monza SP1 and SP2 are all about al fresco motoring. As the name implies, the SP1 is the single-seater option while the SP2 has just enough room for you to bring along a friend. Both cars come powered by the same naturally aspirated 6.5-liter V12 engine capable of 809 horsepower and 530 pound-feet. Unfortunately for US buyers, neither of these models are street legal in the States. But f you have the funds to afford the car’s $1.75 million price tag, getting onto a track probably won’t be an issue anyway.',\n",
       " 'Price: $1.7 Million',\n",
       " \"The second and slightly more affordable supercar in the new Gordon Murray lineup is the T.33. With 607 horsepower courtesy of a naturally aspirated 3.9-liter V12, the T.33 revs to a ridiculous 10,500 RPM. With a price tag of around $1.7 million at current conversion rates, Gordon Murray automotive promises to sell this car globally, in both right- and left-hand-drive configurations. Too bad it's already sold out.\",\n",
       " 'Price: $1.7 Million',\n",
       " 'One of two Koenigsegg models on this list, the Gemera is actually the Swedish supercar maker’s first four-seater. But that doesn’t mean it’s some family car. With a twin-turbocharged 2.0-liter engine under the hood and three electric motors, the Gemera has 1,700 horsepower and will hit 60 in just 1.9 seconds. The company only plans to build 300 of them, each one costing at least $1.7 million.',\n",
       " 'Price: $1.7 Million',\n",
       " 'Hailing from Denmark, the Zenvo TSR-S debuted in 2018 at the Geneva Motor Show as the most extreme option in the supercar startup’s repertoire. Boasting a twin-charged 5.8-liter V8 engine, the TSR-S produces 1,177 horsepower and will hit 62 miles per hour in just 2.8 seconds. Expect to pay at least $1.7 million to get your hands on this powerful and limited supercar.',\n",
       " 'Price: $1.8 Million',\n",
       " 'The Hennessey Venom GT was a record-breaker, topping out at 265.7 miles per hour in a world record run. But the new F5 plans to beat its predecessor with an estimated top speed of 311 mph, and with that comes a higher price, too. The Venom F5 starts at $1.8 million, according to the company, which makes it just a bit pricier than its $1.2-million predecessor.',\n",
       " 'Price: $1.9 Million',\n",
       " 'With just 12 total units produced, the Bentley Bacalar makes some of the \"limited\" cars on this list look plentiful by comparison. Although the car’s opulent design may be the first thing to grab your attention, the Bacalar is no slouch in terms of performance either. With Bentley’s signature turbocharged 6.0-liter W12 turbocharged engine, this car delivers 650 horsepower and 664 pound-feet. If you have a spare $1.9 million lying around and are considering buying one, you’re already too late – Bentley says that every example is now in customer hands.',\n",
       " 'Price: $1.9 Million',\n",
       " \"To call the Hispano Suiza Carmen Boulogne beautiful would be... a stretch. But this interesting-looking supercar made its US debut at this year's Amelia Island Concours d'Elegance boasting a 1,114-horsepower electric powertrain and a 0-60 time of 2.6 seconds. The Boulogne version pictured here – the lighter and more powerful of the two – costs close to $1.9 million.\",\n",
       " 'Price: $2.0 Million',\n",
       " \"The electric onslaught is coming. Bentley says it will be a fully electric automaker by 2030. But before the luxury brand transitions to battery power fully, the Mulliner Batur helps send the iconic W12 engine off in style. With 710 horsepower from that twin-turbocharged engine, the Batur is the most powerful Bentley ever. And since it's limited to just 18 examples globally, the Batur costs a whopping $2.0 million.\",\n",
       " 'Price: $2.0 Million',\n",
       " 'The Deus Vayanne may not be a household name (yet), but the all-electric hypercar debuted earlier this year with 2,200 horsepower, a 0-60 time of just under 2.0 seconds, and an estimated top speed of 248 miles per hour. Deus plans to build 99 examples of the Vayanne, with the first few examples scheduled to go on sale in 2025.',\n",
       " 'Price: $2.0 Million*',\n",
       " 'Although initially cloaked in controversy, SSC did manage to hit 282.9 miles per hour with its Tuatara hypercar, breaking a world record. But not only is the Tuatara one of the fastest vehicles on the planet, it’s also one of the priciest. The cost for all that speed is estimated to be around $2.0 million for the base Tuatara, limited to just 100 units worldwide.',\n",
       " 'Price: $2.1 Million',\n",
       " 'With a new Emira sports car and an Eletre electric SUV, Lotus is on the brink of a comeback. The automaker plans to roll out a number of new products within the next few years, with part of that strategy including the range-topping Evija. This supercar comes in at a cool $2.1 million and produces nearly 2,000 horsepower via four electric motors. Lotus plans to build just 130 road-going examples of the Evija.',\n",
       " 'Price: $2.3 Million',\n",
       " 'As with a few other cars on this list, the Aston Martin Vulcan was a track-only special. The British supercar made its world debut in 2015, powered by a naturally aspirated 7.0-liter V12 that produced 820 horsepower, and limited to just 24 examples worldwide. An even more track-focused AMR Pro model followed, but even the base Vulcan was a pricey commodity, costing about $2.4-million from the factory.',\n",
       " 'Price: $2.3 Million',\n",
       " 'You may have heard of Delage before. In the early 1900s, this French automaker was competing on the track with Bugatti and Ferrari. Now Delage is back and with a beautiful new hypercar dubbed the D12. Powered by a 7.6-liter V12 engine, the new D12 produces upwards of 1,010 horsepower and costs a cool $2.3 million.',\n",
       " 'Price: $2.3 Million',\n",
       " \"What would you pay for the fastest production McLaren ever? Well, at least $2.3 million. With 1,035 horsepower courtesy of a gasoline-electric hybrid V8 powertrain, the Speedtail tops out at 250 miles per hour and is able to reach 186 mph in just 12.8 seconds – 2.7 seconds faster than the P1. Unfortunately, if you didn't get your hands on one new in 2020, you'll have to shell out serious cash on the used market. McLaren only built 106 examples.\",\n",
       " 'Price: $2.4 Million',\n",
       " 'The Rimac Nevera takes the title of most expensive EV with its $2.4 million price tag – but only by a few hundred thousand dollars over the next priciest electric supercar. Packing 1,914 horsepower and 1,740 pound-feet of torque, the Nevera can hit 60 in under 2.0 seconds and will continue on to a top speed of 258 miles per hour. Those lucky enough to order one should see it in their driveway before the end of 2022.',\n",
       " 'Price: $2.5 Million',\n",
       " 'First came the Zonda, then the Huayra, and now the Pagani Utopia. With 852 horsepower and an available seven-speed manual gearbox, the Utopia is the most powerful road-going Pagani ever produced and it’s limited to just 99 examples worldwide. The cost for one is a cool $2.5 million.',\n",
       " 'Price: $2.5 Million',\n",
       " 'Aptly named after the company’s founder, Battista Farina, the Pininfarina Battista delivers the kind of performance (and price!) to make its namesake proud. Revealed at the 2019 Geneva Motor Show, the Battista is completely electric, putting out 1,827 horsepower. If a normal supercar’s 0 to 60 time sounds too leisurely for you, the company says that the Battista will take you there in under 2.0 seconds. Pininfarina plans on building 150 examples of the Battista, costing $2.5 million each.',\n",
       " 'Price: $2.6 Million',\n",
       " \"Sure, you could buy a normal LaFerrari (which also makes the list further down), but why settle for a supercar so mundane when you can take home this track-only version instead? Granted, the Ferrari FXX K Evo came out in 2017, and it's well past the point of being sold out. But when it was new, this 1,036-horsepower Ferrari tore up the track with its naturally aspirated V12 and aggressive aerodynamics.\",\n",
       " 'Price: $2.6 Million',\n",
       " \"If the name Gordon Murray sounds familiar, it’s because he's the man behind the design of the iconic McLaren F1. These days, Mr. Murray has his own supercar venture, and the handsome T.50 is the crown jewel of the lineup. At $2.6 million, the T.50 packs a naturally aspirated 4.0-liter V12 that makes 654 horsepower. The car itself weighs a mere 2,174 pounds, and at 392 pounds, the T.50 has the lightest V12 on the road today.\",\n",
       " 'Price: $2.6 Million',\n",
       " \"The name Countach may be iconic, but is it worth $2.6 million? That's what Lamborghini hopes you will spend on its new Aventador-based model. Debuting in August of 2021, the Countach LPI 800-4 has a 6.5-liter V12 with a light hybrid assist that gives it a whopping 803 horsepower, allowing for a 60 time of 2.8 seconds and a top speed of more than 220 miles per hour.\",\n",
       " 'Price: $2.7 Million',\n",
       " 'Mercedes has promised a production version of the Project One hypercar for quite a while now. The first official announcement was in March of 2017 before the first concept debuted later that same year. But after nearly five years of teasing, it appears as if the Project One will finally hit public roads. And when it does, the hybrid hypercar will have over 1,200 horsepower (895 kilowatts) and a price tag of $2.7 million.',\n",
       " 'Price: $3.0 Million',\n",
       " 'The folks at Aston Martin know a thing or two about exclusive vehicles, and the Victor might be the most exclusive project for the British brand to date. Based on the One-77 platform, the Victor uses parts from several donor Astons including the track project Vulcan and the upcoming Valkyrie. And talking about limited production – the Victor is one-of-one and rumored to cost nearly $3 million.',\n",
       " '$3.0 Million',\n",
       " 'The same Hennessey Venom F5 hypercar we all know and love, but with less roof. The F5 Roadster has the same twin-turbocharged 6.6-liter V8 as the coupe, producing the same 1,817 horsepower and 1,193 pound-feet of torque. Hennessey estimates a top speed of over 300 miles per hour, but if you want one, it will cost you at least $3.0 million.',\n",
       " 'Price: $3.0 Million',\n",
       " \"The Koenigsegg Jesko, apart from being the fastest car the company has made to date, is also the most expensive. At $3.0 million out of the box, the handsome hypercar has 1,600-horsepower courtesy of the brand's ubiquitous twin-turbocharged 5.0-liter V8 engine. Opt for the Absolut model, and the Jesko, in theory, will be able to hit 300 miles per hour.\",\n",
       " 'Price: $3.2 Million',\n",
       " 'The upcoming Aston Martin hybrid hypercar hasn’t even hit the market yet, but already the $3.2 million Valkyrie has sold out. For what it’s worth, Aston Martin hasn’t officially released pricing. Estimates suggest the hypercar could go for anywhere between $2.6 and $3.9 million – but $3.2 million seems to be the magic number. Whatever the case, this machine is impressive. Its Cosworth-sourced 6.5-liter V12 produces 1,160 horsepower (865 kilowatts) and 664 pound-feet (900 Newton-meters) of torque, meaning its top speed should be well over 200 miles per hour (321 kilometers per hour). The company will build just 150 examples of the standard Valkyrie, with a limited 25-run AMR model arriving later.',\n",
       " 'Price: $3.4 Million',\n",
       " \"Dubai-based W Motors shocked the world with its edgy Lykan Hypersport supercar in 2013. With titanium LED headlights housing 420 15-carat diamonds and a holographic display in the center console, it's no surprise it was the third most expensive car ever when new. It falls to number six on our list here, but it's still a wild hypercar with a powerful heart; the twin-turbocharged 3.7-liter six-cylinder engine underhood produces 780 horsepower (581 kilowatts) and 708 (960 Newton-meters) of torque.\",\n",
       " '$3.5 Million',\n",
       " 'One seat, 829 horsepower, and a top speed of over 200 miles per hour. The new McLaren Solus is about as close as you can get to a Formula 1 car from the factory, powered by a naturally aspirated 5.2-liter V10 engine with a 0-62 mile-per-hour time of just 2.5 seconds. Estimates suggest a McLaren Solus will set you back about $3.5 million.',\n",
       " 'Price: $3.5 Million',\n",
       " 'Following Pagani’s past playbook, a roadster version of the ferocious Huayra BC was inevitable. Last year, the company made it official by showing off the Huayra Roadster BC, a topless monster with 800 horsepower (597 kilowatts) and 774 lb-ft of torque (1049 Newton-meters). Somewhat surprisingly, Pagani gave the roadster 50 more horsepower than its coupe sibling, by cranking up its AMG-sourced twin-turbocharged 6.0-liter V12. In addition to the joy of hearing the glorious engine note without a roof in the way, owners should take comfort in knowing that their car is ultra-rare. Pagani is limiting production to just 40 units, each with a sticker price of $3.5 million.',\n",
       " 'Price: $3.6 Million',\n",
       " 'Another showstopper from the Geneva Motor Show that never was, the Bugatti Chiron Pur Sport is a special edition Chiron with a focus on aerodynamics, weight reduction, and power distribution. It’s the same 8.0-liter quad-turbo W16 engine underneath the skin but it’s now mated to a recalibrated automatic gearbox. While the peak output remains unchanged at 1,500 horsepower (1,103 kilowatts), the rpm redline has been set 200 rpm higher, up to 6,900 rpm. The Pur Sport also features slightly revised bodywork, with a bigger rear wing and more aerodynamic front fascia. Beginning production in late 2020, the Bugatti starts at $3.6 million.',\n",
       " 'Price: $3.6 million',\n",
       " 'In several ways, the Sian represents a bridge to Lamborghini’s future. Though it’s based on the Aventador SVJ, this wild-looking Lambo is the brand’s first production electrified offering. In addition to the SVJ-sourced 6.5-liter V12, the Sian uses a 48-volt mild-hybrid system. Total system output is 819 horsepower (611 kilowatts), which also makes it the most powerful Lamborghini ever. As confirmed by the 63 stuck on either side of the Sian’s wing, Lamborghini will produce just 63 units. And each will cost far more than the Aventador SVJ, carrying a price of $3.6 million.',\n",
       " 'Price: $3.7 Million',\n",
       " 'The Koenigsegg CC850 was a surprise to be sure, but a welcomed one. Borrowing the twin-turbocharged 5.0-liter V8 from the Jesko, it notches that output up to 1,385 horsepower and 1,022 pound-feet of torque, with a so-called “TWMPAFMPC” transmission that shifts (pun intended) between manual and automatic functions. Of course, all that performance technology will cost you; the CC850 starts at $3.7 million.',\n",
       " 'Price: $3.9 Million',\n",
       " 'Earlier this year, Bugatti captured the collective attention of the automotive world by announcing that it broke the 300 miles per hour barrier with a modified version of the Chiron. The Super Sport 300 + is a road-going version of that car, meant to celebrate the occasion. Limited to just 30 units, the Super Sport 300+ is a beautiful version of the Chiron, with flowing, slippery bodywork and a sweet stripe motif. Even with 300 in the name, Bugatti is limiting the top speed of each car to \"just\" 277 mph. Production starts this year.',\n",
       " 'Price: $4.5 Million',\n",
       " \"Lamborghini built just 14 examples of the Aventador-based Veneno between 2014 and 2015. Each one cost around $4.5 million, depending on how it was spec'd, and was available in both convertible and coupe configurations. Underhood Lamborghini fitted a more-powerful iteration of the Aventador's 6.5-liter V12, now producing 740 horsepower (552 kilowatts) and 509 pound-feet (609 Newton-meters) of torque, which gave it the ability to sprint to 60 miles per hour (96 kilometers per hour) in a blistering 2.9 seconds. To date, it’s the most expensive new Lamborghini ever.\",\n",
       " 'Price: $4.7 Million',\n",
       " \"Produced in extremely limited numbers atop the body of a Chiron, it's no wonder Bugatti's one-of-40 Bolide track car is this pricey. At $4.7 million, the 1,824-horsepower hypercar has more power than the Chiron Super Sport 300+, and more extreme bodywork that allow it to lap tracks like the Nurburgring in record time (in theory). Bugatti says the Bolide would be able to conquer the ‘Ring in record time.\",\n",
       " 'Price: $5.0 Million',\n",
       " 'The Bugatti Mistral sends the iconic W16 engine off in style. With 1,577 horsepower and no roof, the Mistral takes the best bits of the Chiron and borrows elements from the Bolide and Divo to create a truly unique roadster. Of course, Bugatti plans to build just 99 examples of the Mistral at the cost of around $5.0 million in the US – and all of them are already accounted for.',\n",
       " 'Price: $5.4 Million',\n",
       " 'Even though the new Utopia marks the next big step for Pagani, the Huayra Imola packs nearly as much power with a twin-turbocharged 6.0-liter V12 engine producing 827 horsepower and 811 pound-feet of torque. The Huayra Imola is estimated to cost around $5.4 million new, which would make it the second most expensive Pagani of all time.',\n",
       " 'Price: $5.8 Million',\n",
       " 'Among Bugatti’s recently debuted vehicles, the Divo is a staff favorite. Though it shares much in common with its cheaper (!) sibling the Chiron, the Divo has a lot going for it to justify the extra money. By adding lighter wheels, a carbon fiber intercooler and removing some sound deadening, Bugatti made the Divo 77 pounds lighter than the Chiron. Though power is unchanged from the Chiron’s 1,500 ponies (1,119 kilowatts), The Divo features a different aerodynamic setup, which makes it 8 seconds quicker around the Nardo test track. Finally, the moment you’ve been waiting for: Bugatti is making 40 examples of the car, each costing $5.8 million.',\n",
       " 'Price: $6.4 Million',\n",
       " \"SP Automotive (short for Spyros Panopoulos) is a new name in the world of hypercars, but the brand's 2,000-horsepower, $6.4-million, aptly named Chaos has already made an impact. With a twin-turbocharged 4.0-liter V10, the base SP Automotive Chaos is one of the most expensive cars on this list – beating out many Lambos and Bugattis – but there's an even pricier version of this car that costs an eye-watering $14.4 million. That version reportedly packs 3,000 hp.\",\n",
       " 'Price: $7.4 Million',\n",
       " 'The long list of pricey (new) Paganis ends with the Codualunga. Inspired by 1960s Italian coachbuilding, the stunning exterior and steampunk-esque interior – while equally stunning – are only part of what makes this Pagani so pricey. Under the hood is a twin-turbocharged 6.0-liter V12 producing 829 horsepower and 809 pound-feet of torque, paired to a seven-speed sequential transmission for a real race-car–like feel. The cost for this one-of-five Pagani is $7.4 million.',\n",
       " 'Price: $8.0 Million',\n",
       " \"Like many others before it, the Mercedes-Benz Maybach Exelero is a one-off. Commissioned by Fulda, a German subsidiary of Goodyear, to test its new tires, the Exlero debuted in 2004. Mercedes built the Exelero on the bones of a Maybach, and gave it the same twin-turbo V12 engine producing 690 horsepower (510 kilowatts) and 752 pound-feet (1,020 Newton-meters) of torque. Top speed is listed at 218 miles per hour (350 kilometers per hour) and adjusted for inflation, the Exelero would cost more than $10 million in today's money.\",\n",
       " 'Price: $9.0 Million',\n",
       " 'Bugatti debuted the Centodieci at last year’s Pebble Beach car week, showing off yet another ultra-rare, super-expensive model to the world. Limited to just 10 – dieci – units, the car is a modern throwback to the Bugatti EB110. At the same time, it’s meant to celebrate Bugatti’s momentous 110-year anniversary. Its unique styling cues won’t make everyone fall in love, but at least you won’t have to worry about seeing another one on the road. Carrying a price just shy of $9 million, the Centodiece is one of the most exclusive cars ever made.',\n",
       " 'Price: $12.8 Million',\n",
       " \"Rolls-Royce, expectedly, takes two of the top three spots on this list, with the stunning Sweptail one-off from 2017 coming in at number three. With a monumental price tag of $13.0 million, it was, at the time of its debut, the most expensive new car ever. It's been outpriced since then, but the 453-horsepower luxury car is still a jaw-dropper.\"]"
      ]
     },
     "execution_count": 150,
     "metadata": {},
     "output_type": "execute_result"
    }
   ],
   "source": [
    "des"
   ]
  },
  {
   "cell_type": "code",
   "execution_count": 156,
   "id": "e654a1e6",
   "metadata": {},
   "outputs": [],
   "source": [
    "des.remove('Top Videos:')"
   ]
  },
  {
   "cell_type": "code",
   "execution_count": 157,
   "id": "8a9b85c2",
   "metadata": {},
   "outputs": [
    {
     "data": {
      "text/plain": [
       "['When it comes to high-end hypercars and super-fast supercars, a few companies should come to mind first: Bugatti, Ferrari, Koenigsegg, Rimac, and Pagani, among others. These manufacturers have cemented themselves as the top dogs in the supercar and hypercar space, extending to their wealthiest clientele the fastest, rarest, prettiest – and in this case – most expensive cars on the planet.',\n",
       " \"But in order to find out which of these unattainable-to-most vehicles is the priciest, we've scoured the invoice sheets and uncovered 40 cars all worth $1 million or more. The group includes hybrid Ferrari convertibles, an American speed king, a few electric Hypercars, and two a one-of-a-kind Rolls-Royce cars built for royalty.\",\n",
       " 'We should note, though: The prices listed here are the price of the vehicles when new. So we’re not counting auction cars like the Ferrari 250 GTO, or overpriced secondhand sales. But don’t worry, there’s still hundreds of millions worth of cars here to whet your appetite.',\n",
       " 'Price: $1.2 Million',\n",
       " 'The Drako GTE is a super sedan in every sense of the word. Packing 1,200 horsepower and a whopping 6,491 pound-feet of torque from a fully electric powertrain, the GTE can hit 60 in just about 2.0 seconds and tops out at 206 miles per hour. The cost for this family-friendly rocket is a cool $1.2 million.',\n",
       " 'Price: $1.3 Million',\n",
       " 'The De Tomaso P72 is basically the definition of beautiful. The shapely supercar debuted at the 2019 Goodwood Festival Of Speed with a supercharged Ford V8 boasting 700 horsepower. The P72 marked the return of the DeTomaso brand after nearly 30 years on hiatus, and if you want one, it will cost you at least $1.3 million.',\n",
       " 'Price: $1.4 Million',\n",
       " 'At $1.4 million new, the Ferrari LaFerrari is actually one of the most affordable supercars on this list. It’s a bargain compared to the most expensive vehicle here. Debuting in 2013 with 950 hybrid horses (708 kilowatts) and a top speed of around 220 miles per hour (354 kilometers per hour), this is still Ferrari’s fastest and most powerful production model to date. The company built just 499 examples of the coupe between 2013 and 2016.',\n",
       " 'Price: $1.4 Million',\n",
       " 'Inarguably one of the prettiest cars on this list, the Pagani Huayra cost a cool $1.4 million when new. Like the LaFerrari, Pagani built the Huayra in extremely limited numbers. The company hand-constructed just 100 units of the coupe between 2012 and 2018, with another 20 versions of the BC model (which makes our list further down) between 2017 and 2019. Powering each and every example was a Mercedes-AMG V12 capable of 720 horsepower (537 kilowatts).',\n",
       " 'Price: $1.7 Million',\n",
       " 'The McLaren Elva is one of the latest additions to the British supercar maker’s storied legacy. Even without a proper windshield (though, no option) or roof to rely on, the Elva produces 804 horsepower and 590 pound-feet of torque from its twin-turbocharged 4.0-liter V8. Originally McLaren announced just 399 units, but later the company dropped that to an even more scarce 249 examples. Either way, most of you will never get your hands on one – the Elva costs $1.7 million.',\n",
       " 'Price: $1.7 Million',\n",
       " 'You might not know the name Czinger yet, but this California-based boutique automaker is responsible for the $1.7 million 21C supercar. With 1,250 horsepower on tap thanks to a 2.9-liter twin-turbocharged V8, the 21C can rocket to 60 miles per hour in 1.9 seconds and a top speed of around 281 miles per hour.',\n",
       " 'Price: $1.7 Million',\n",
       " 'Much like the roof-less McLaren Elva, the Ferrari Monza SP1 and SP2 are all about al fresco motoring. As the name implies, the SP1 is the single-seater option while the SP2 has just enough room for you to bring along a friend. Both cars come powered by the same naturally aspirated 6.5-liter V12 engine capable of 809 horsepower and 530 pound-feet. Unfortunately for US buyers, neither of these models are street legal in the States. But f you have the funds to afford the car’s $1.75 million price tag, getting onto a track probably won’t be an issue anyway.',\n",
       " 'Price: $1.7 Million',\n",
       " \"The second and slightly more affordable supercar in the new Gordon Murray lineup is the T.33. With 607 horsepower courtesy of a naturally aspirated 3.9-liter V12, the T.33 revs to a ridiculous 10,500 RPM. With a price tag of around $1.7 million at current conversion rates, Gordon Murray automotive promises to sell this car globally, in both right- and left-hand-drive configurations. Too bad it's already sold out.\",\n",
       " 'Price: $1.7 Million',\n",
       " 'One of two Koenigsegg models on this list, the Gemera is actually the Swedish supercar maker’s first four-seater. But that doesn’t mean it’s some family car. With a twin-turbocharged 2.0-liter engine under the hood and three electric motors, the Gemera has 1,700 horsepower and will hit 60 in just 1.9 seconds. The company only plans to build 300 of them, each one costing at least $1.7 million.',\n",
       " 'Price: $1.7 Million',\n",
       " 'Hailing from Denmark, the Zenvo TSR-S debuted in 2018 at the Geneva Motor Show as the most extreme option in the supercar startup’s repertoire. Boasting a twin-charged 5.8-liter V8 engine, the TSR-S produces 1,177 horsepower and will hit 62 miles per hour in just 2.8 seconds. Expect to pay at least $1.7 million to get your hands on this powerful and limited supercar.',\n",
       " 'Price: $1.8 Million',\n",
       " 'The Hennessey Venom GT was a record-breaker, topping out at 265.7 miles per hour in a world record run. But the new F5 plans to beat its predecessor with an estimated top speed of 311 mph, and with that comes a higher price, too. The Venom F5 starts at $1.8 million, according to the company, which makes it just a bit pricier than its $1.2-million predecessor.',\n",
       " 'Price: $1.9 Million',\n",
       " 'With just 12 total units produced, the Bentley Bacalar makes some of the \"limited\" cars on this list look plentiful by comparison. Although the car’s opulent design may be the first thing to grab your attention, the Bacalar is no slouch in terms of performance either. With Bentley’s signature turbocharged 6.0-liter W12 turbocharged engine, this car delivers 650 horsepower and 664 pound-feet. If you have a spare $1.9 million lying around and are considering buying one, you’re already too late – Bentley says that every example is now in customer hands.',\n",
       " 'Price: $1.9 Million',\n",
       " \"To call the Hispano Suiza Carmen Boulogne beautiful would be... a stretch. But this interesting-looking supercar made its US debut at this year's Amelia Island Concours d'Elegance boasting a 1,114-horsepower electric powertrain and a 0-60 time of 2.6 seconds. The Boulogne version pictured here – the lighter and more powerful of the two – costs close to $1.9 million.\",\n",
       " 'Price: $2.0 Million',\n",
       " \"The electric onslaught is coming. Bentley says it will be a fully electric automaker by 2030. But before the luxury brand transitions to battery power fully, the Mulliner Batur helps send the iconic W12 engine off in style. With 710 horsepower from that twin-turbocharged engine, the Batur is the most powerful Bentley ever. And since it's limited to just 18 examples globally, the Batur costs a whopping $2.0 million.\",\n",
       " 'Price: $2.0 Million',\n",
       " 'The Deus Vayanne may not be a household name (yet), but the all-electric hypercar debuted earlier this year with 2,200 horsepower, a 0-60 time of just under 2.0 seconds, and an estimated top speed of 248 miles per hour. Deus plans to build 99 examples of the Vayanne, with the first few examples scheduled to go on sale in 2025.',\n",
       " 'Price: $2.0 Million*',\n",
       " 'Although initially cloaked in controversy, SSC did manage to hit 282.9 miles per hour with its Tuatara hypercar, breaking a world record. But not only is the Tuatara one of the fastest vehicles on the planet, it’s also one of the priciest. The cost for all that speed is estimated to be around $2.0 million for the base Tuatara, limited to just 100 units worldwide.',\n",
       " 'Price: $2.1 Million',\n",
       " 'With a new Emira sports car and an Eletre electric SUV, Lotus is on the brink of a comeback. The automaker plans to roll out a number of new products within the next few years, with part of that strategy including the range-topping Evija. This supercar comes in at a cool $2.1 million and produces nearly 2,000 horsepower via four electric motors. Lotus plans to build just 130 road-going examples of the Evija.',\n",
       " 'Price: $2.3 Million',\n",
       " 'As with a few other cars on this list, the Aston Martin Vulcan was a track-only special. The British supercar made its world debut in 2015, powered by a naturally aspirated 7.0-liter V12 that produced 820 horsepower, and limited to just 24 examples worldwide. An even more track-focused AMR Pro model followed, but even the base Vulcan was a pricey commodity, costing about $2.4-million from the factory.',\n",
       " 'Price: $2.3 Million',\n",
       " 'You may have heard of Delage before. In the early 1900s, this French automaker was competing on the track with Bugatti and Ferrari. Now Delage is back and with a beautiful new hypercar dubbed the D12. Powered by a 7.6-liter V12 engine, the new D12 produces upwards of 1,010 horsepower and costs a cool $2.3 million.',\n",
       " 'Price: $2.3 Million',\n",
       " \"What would you pay for the fastest production McLaren ever? Well, at least $2.3 million. With 1,035 horsepower courtesy of a gasoline-electric hybrid V8 powertrain, the Speedtail tops out at 250 miles per hour and is able to reach 186 mph in just 12.8 seconds – 2.7 seconds faster than the P1. Unfortunately, if you didn't get your hands on one new in 2020, you'll have to shell out serious cash on the used market. McLaren only built 106 examples.\",\n",
       " 'Price: $2.4 Million',\n",
       " 'The Rimac Nevera takes the title of most expensive EV with its $2.4 million price tag – but only by a few hundred thousand dollars over the next priciest electric supercar. Packing 1,914 horsepower and 1,740 pound-feet of torque, the Nevera can hit 60 in under 2.0 seconds and will continue on to a top speed of 258 miles per hour. Those lucky enough to order one should see it in their driveway before the end of 2022.',\n",
       " 'Price: $2.5 Million',\n",
       " 'First came the Zonda, then the Huayra, and now the Pagani Utopia. With 852 horsepower and an available seven-speed manual gearbox, the Utopia is the most powerful road-going Pagani ever produced and it’s limited to just 99 examples worldwide. The cost for one is a cool $2.5 million.',\n",
       " 'Price: $2.5 Million',\n",
       " 'Aptly named after the company’s founder, Battista Farina, the Pininfarina Battista delivers the kind of performance (and price!) to make its namesake proud. Revealed at the 2019 Geneva Motor Show, the Battista is completely electric, putting out 1,827 horsepower. If a normal supercar’s 0 to 60 time sounds too leisurely for you, the company says that the Battista will take you there in under 2.0 seconds. Pininfarina plans on building 150 examples of the Battista, costing $2.5 million each.',\n",
       " 'Price: $2.6 Million',\n",
       " \"Sure, you could buy a normal LaFerrari (which also makes the list further down), but why settle for a supercar so mundane when you can take home this track-only version instead? Granted, the Ferrari FXX K Evo came out in 2017, and it's well past the point of being sold out. But when it was new, this 1,036-horsepower Ferrari tore up the track with its naturally aspirated V12 and aggressive aerodynamics.\",\n",
       " 'Price: $2.6 Million',\n",
       " \"If the name Gordon Murray sounds familiar, it’s because he's the man behind the design of the iconic McLaren F1. These days, Mr. Murray has his own supercar venture, and the handsome T.50 is the crown jewel of the lineup. At $2.6 million, the T.50 packs a naturally aspirated 4.0-liter V12 that makes 654 horsepower. The car itself weighs a mere 2,174 pounds, and at 392 pounds, the T.50 has the lightest V12 on the road today.\",\n",
       " 'Price: $2.6 Million',\n",
       " \"The name Countach may be iconic, but is it worth $2.6 million? That's what Lamborghini hopes you will spend on its new Aventador-based model. Debuting in August of 2021, the Countach LPI 800-4 has a 6.5-liter V12 with a light hybrid assist that gives it a whopping 803 horsepower, allowing for a 60 time of 2.8 seconds and a top speed of more than 220 miles per hour.\",\n",
       " 'Price: $2.7 Million',\n",
       " 'Mercedes has promised a production version of the Project One hypercar for quite a while now. The first official announcement was in March of 2017 before the first concept debuted later that same year. But after nearly five years of teasing, it appears as if the Project One will finally hit public roads. And when it does, the hybrid hypercar will have over 1,200 horsepower (895 kilowatts) and a price tag of $2.7 million.',\n",
       " 'Price: $3.0 Million',\n",
       " 'The folks at Aston Martin know a thing or two about exclusive vehicles, and the Victor might be the most exclusive project for the British brand to date. Based on the One-77 platform, the Victor uses parts from several donor Astons including the track project Vulcan and the upcoming Valkyrie. And talking about limited production – the Victor is one-of-one and rumored to cost nearly $3 million.',\n",
       " '$3.0 Million',\n",
       " 'The same Hennessey Venom F5 hypercar we all know and love, but with less roof. The F5 Roadster has the same twin-turbocharged 6.6-liter V8 as the coupe, producing the same 1,817 horsepower and 1,193 pound-feet of torque. Hennessey estimates a top speed of over 300 miles per hour, but if you want one, it will cost you at least $3.0 million.',\n",
       " 'Price: $3.0 Million',\n",
       " \"The Koenigsegg Jesko, apart from being the fastest car the company has made to date, is also the most expensive. At $3.0 million out of the box, the handsome hypercar has 1,600-horsepower courtesy of the brand's ubiquitous twin-turbocharged 5.0-liter V8 engine. Opt for the Absolut model, and the Jesko, in theory, will be able to hit 300 miles per hour.\",\n",
       " 'Price: $3.2 Million',\n",
       " 'The upcoming Aston Martin hybrid hypercar hasn’t even hit the market yet, but already the $3.2 million Valkyrie has sold out. For what it’s worth, Aston Martin hasn’t officially released pricing. Estimates suggest the hypercar could go for anywhere between $2.6 and $3.9 million – but $3.2 million seems to be the magic number. Whatever the case, this machine is impressive. Its Cosworth-sourced 6.5-liter V12 produces 1,160 horsepower (865 kilowatts) and 664 pound-feet (900 Newton-meters) of torque, meaning its top speed should be well over 200 miles per hour (321 kilometers per hour). The company will build just 150 examples of the standard Valkyrie, with a limited 25-run AMR model arriving later.',\n",
       " 'Price: $3.4 Million',\n",
       " \"Dubai-based W Motors shocked the world with its edgy Lykan Hypersport supercar in 2013. With titanium LED headlights housing 420 15-carat diamonds and a holographic display in the center console, it's no surprise it was the third most expensive car ever when new. It falls to number six on our list here, but it's still a wild hypercar with a powerful heart; the twin-turbocharged 3.7-liter six-cylinder engine underhood produces 780 horsepower (581 kilowatts) and 708 (960 Newton-meters) of torque.\",\n",
       " '$3.5 Million',\n",
       " 'One seat, 829 horsepower, and a top speed of over 200 miles per hour. The new McLaren Solus is about as close as you can get to a Formula 1 car from the factory, powered by a naturally aspirated 5.2-liter V10 engine with a 0-62 mile-per-hour time of just 2.5 seconds. Estimates suggest a McLaren Solus will set you back about $3.5 million.',\n",
       " 'Price: $3.5 Million',\n",
       " 'Following Pagani’s past playbook, a roadster version of the ferocious Huayra BC was inevitable. Last year, the company made it official by showing off the Huayra Roadster BC, a topless monster with 800 horsepower (597 kilowatts) and 774 lb-ft of torque (1049 Newton-meters). Somewhat surprisingly, Pagani gave the roadster 50 more horsepower than its coupe sibling, by cranking up its AMG-sourced twin-turbocharged 6.0-liter V12. In addition to the joy of hearing the glorious engine note without a roof in the way, owners should take comfort in knowing that their car is ultra-rare. Pagani is limiting production to just 40 units, each with a sticker price of $3.5 million.',\n",
       " 'Price: $3.6 Million',\n",
       " 'Another showstopper from the Geneva Motor Show that never was, the Bugatti Chiron Pur Sport is a special edition Chiron with a focus on aerodynamics, weight reduction, and power distribution. It’s the same 8.0-liter quad-turbo W16 engine underneath the skin but it’s now mated to a recalibrated automatic gearbox. While the peak output remains unchanged at 1,500 horsepower (1,103 kilowatts), the rpm redline has been set 200 rpm higher, up to 6,900 rpm. The Pur Sport also features slightly revised bodywork, with a bigger rear wing and more aerodynamic front fascia. Beginning production in late 2020, the Bugatti starts at $3.6 million.',\n",
       " 'Price: $3.6 million',\n",
       " 'In several ways, the Sian represents a bridge to Lamborghini’s future. Though it’s based on the Aventador SVJ, this wild-looking Lambo is the brand’s first production electrified offering. In addition to the SVJ-sourced 6.5-liter V12, the Sian uses a 48-volt mild-hybrid system. Total system output is 819 horsepower (611 kilowatts), which also makes it the most powerful Lamborghini ever. As confirmed by the 63 stuck on either side of the Sian’s wing, Lamborghini will produce just 63 units. And each will cost far more than the Aventador SVJ, carrying a price of $3.6 million.',\n",
       " 'Price: $3.7 Million',\n",
       " 'The Koenigsegg CC850 was a surprise to be sure, but a welcomed one. Borrowing the twin-turbocharged 5.0-liter V8 from the Jesko, it notches that output up to 1,385 horsepower and 1,022 pound-feet of torque, with a so-called “TWMPAFMPC” transmission that shifts (pun intended) between manual and automatic functions. Of course, all that performance technology will cost you; the CC850 starts at $3.7 million.',\n",
       " 'Price: $3.9 Million',\n",
       " 'Earlier this year, Bugatti captured the collective attention of the automotive world by announcing that it broke the 300 miles per hour barrier with a modified version of the Chiron. The Super Sport 300 + is a road-going version of that car, meant to celebrate the occasion. Limited to just 30 units, the Super Sport 300+ is a beautiful version of the Chiron, with flowing, slippery bodywork and a sweet stripe motif. Even with 300 in the name, Bugatti is limiting the top speed of each car to \"just\" 277 mph. Production starts this year.',\n",
       " 'Price: $4.5 Million',\n",
       " \"Lamborghini built just 14 examples of the Aventador-based Veneno between 2014 and 2015. Each one cost around $4.5 million, depending on how it was spec'd, and was available in both convertible and coupe configurations. Underhood Lamborghini fitted a more-powerful iteration of the Aventador's 6.5-liter V12, now producing 740 horsepower (552 kilowatts) and 509 pound-feet (609 Newton-meters) of torque, which gave it the ability to sprint to 60 miles per hour (96 kilometers per hour) in a blistering 2.9 seconds. To date, it’s the most expensive new Lamborghini ever.\",\n",
       " 'Price: $4.7 Million',\n",
       " \"Produced in extremely limited numbers atop the body of a Chiron, it's no wonder Bugatti's one-of-40 Bolide track car is this pricey. At $4.7 million, the 1,824-horsepower hypercar has more power than the Chiron Super Sport 300+, and more extreme bodywork that allow it to lap tracks like the Nurburgring in record time (in theory). Bugatti says the Bolide would be able to conquer the ‘Ring in record time.\",\n",
       " 'Price: $5.0 Million',\n",
       " 'The Bugatti Mistral sends the iconic W16 engine off in style. With 1,577 horsepower and no roof, the Mistral takes the best bits of the Chiron and borrows elements from the Bolide and Divo to create a truly unique roadster. Of course, Bugatti plans to build just 99 examples of the Mistral at the cost of around $5.0 million in the US – and all of them are already accounted for.',\n",
       " 'Price: $5.4 Million',\n",
       " 'Even though the new Utopia marks the next big step for Pagani, the Huayra Imola packs nearly as much power with a twin-turbocharged 6.0-liter V12 engine producing 827 horsepower and 811 pound-feet of torque. The Huayra Imola is estimated to cost around $5.4 million new, which would make it the second most expensive Pagani of all time.',\n",
       " 'Price: $5.8 Million',\n",
       " 'Among Bugatti’s recently debuted vehicles, the Divo is a staff favorite. Though it shares much in common with its cheaper (!) sibling the Chiron, the Divo has a lot going for it to justify the extra money. By adding lighter wheels, a carbon fiber intercooler and removing some sound deadening, Bugatti made the Divo 77 pounds lighter than the Chiron. Though power is unchanged from the Chiron’s 1,500 ponies (1,119 kilowatts), The Divo features a different aerodynamic setup, which makes it 8 seconds quicker around the Nardo test track. Finally, the moment you’ve been waiting for: Bugatti is making 40 examples of the car, each costing $5.8 million.',\n",
       " 'Price: $6.4 Million',\n",
       " \"SP Automotive (short for Spyros Panopoulos) is a new name in the world of hypercars, but the brand's 2,000-horsepower, $6.4-million, aptly named Chaos has already made an impact. With a twin-turbocharged 4.0-liter V10, the base SP Automotive Chaos is one of the most expensive cars on this list – beating out many Lambos and Bugattis – but there's an even pricier version of this car that costs an eye-watering $14.4 million. That version reportedly packs 3,000 hp.\",\n",
       " 'Price: $7.4 Million',\n",
       " 'The long list of pricey (new) Paganis ends with the Codualunga. Inspired by 1960s Italian coachbuilding, the stunning exterior and steampunk-esque interior – while equally stunning – are only part of what makes this Pagani so pricey. Under the hood is a twin-turbocharged 6.0-liter V12 producing 829 horsepower and 809 pound-feet of torque, paired to a seven-speed sequential transmission for a real race-car–like feel. The cost for this one-of-five Pagani is $7.4 million.',\n",
       " 'Price: $8.0 Million',\n",
       " \"Like many others before it, the Mercedes-Benz Maybach Exelero is a one-off. Commissioned by Fulda, a German subsidiary of Goodyear, to test its new tires, the Exlero debuted in 2004. Mercedes built the Exelero on the bones of a Maybach, and gave it the same twin-turbo V12 engine producing 690 horsepower (510 kilowatts) and 752 pound-feet (1,020 Newton-meters) of torque. Top speed is listed at 218 miles per hour (350 kilometers per hour) and adjusted for inflation, the Exelero would cost more than $10 million in today's money.\",\n",
       " 'Price: $9.0 Million',\n",
       " 'Bugatti debuted the Centodieci at last year’s Pebble Beach car week, showing off yet another ultra-rare, super-expensive model to the world. Limited to just 10 – dieci – units, the car is a modern throwback to the Bugatti EB110. At the same time, it’s meant to celebrate Bugatti’s momentous 110-year anniversary. Its unique styling cues won’t make everyone fall in love, but at least you won’t have to worry about seeing another one on the road. Carrying a price just shy of $9 million, the Centodiece is one of the most exclusive cars ever made.',\n",
       " 'Price: $12.8 Million',\n",
       " \"Rolls-Royce, expectedly, takes two of the top three spots on this list, with the stunning Sweptail one-off from 2017 coming in at number three. With a monumental price tag of $13.0 million, it was, at the time of its debut, the most expensive new car ever. It's been outpriced since then, but the 453-horsepower luxury car is still a jaw-dropper.\"]"
      ]
     },
     "execution_count": 157,
     "metadata": {},
     "output_type": "execute_result"
    }
   ],
   "source": [
    "des"
   ]
  },
  {
   "cell_type": "code",
   "execution_count": 160,
   "id": "7f667dc9",
   "metadata": {},
   "outputs": [],
   "source": [
    "del des[0]"
   ]
  },
  {
   "cell_type": "code",
   "execution_count": 161,
   "id": "b6268f83",
   "metadata": {},
   "outputs": [],
   "source": [
    "del des[1]"
   ]
  },
  {
   "cell_type": "code",
   "execution_count": 162,
   "id": "f2dc30a2",
   "metadata": {},
   "outputs": [
    {
     "data": {
      "text/plain": [
       "[\"But in order to find out which of these unattainable-to-most vehicles is the priciest, we've scoured the invoice sheets and uncovered 40 cars all worth $1 million or more. The group includes hybrid Ferrari convertibles, an American speed king, a few electric Hypercars, and two a one-of-a-kind Rolls-Royce cars built for royalty.\",\n",
       " 'Price: $1.2 Million',\n",
       " 'The Drako GTE is a super sedan in every sense of the word. Packing 1,200 horsepower and a whopping 6,491 pound-feet of torque from a fully electric powertrain, the GTE can hit 60 in just about 2.0 seconds and tops out at 206 miles per hour. The cost for this family-friendly rocket is a cool $1.2 million.',\n",
       " 'Price: $1.3 Million',\n",
       " 'The De Tomaso P72 is basically the definition of beautiful. The shapely supercar debuted at the 2019 Goodwood Festival Of Speed with a supercharged Ford V8 boasting 700 horsepower. The P72 marked the return of the DeTomaso brand after nearly 30 years on hiatus, and if you want one, it will cost you at least $1.3 million.',\n",
       " 'Price: $1.4 Million',\n",
       " 'At $1.4 million new, the Ferrari LaFerrari is actually one of the most affordable supercars on this list. It’s a bargain compared to the most expensive vehicle here. Debuting in 2013 with 950 hybrid horses (708 kilowatts) and a top speed of around 220 miles per hour (354 kilometers per hour), this is still Ferrari’s fastest and most powerful production model to date. The company built just 499 examples of the coupe between 2013 and 2016.',\n",
       " 'Price: $1.4 Million',\n",
       " 'Inarguably one of the prettiest cars on this list, the Pagani Huayra cost a cool $1.4 million when new. Like the LaFerrari, Pagani built the Huayra in extremely limited numbers. The company hand-constructed just 100 units of the coupe between 2012 and 2018, with another 20 versions of the BC model (which makes our list further down) between 2017 and 2019. Powering each and every example was a Mercedes-AMG V12 capable of 720 horsepower (537 kilowatts).',\n",
       " 'Price: $1.7 Million',\n",
       " 'The McLaren Elva is one of the latest additions to the British supercar maker’s storied legacy. Even without a proper windshield (though, no option) or roof to rely on, the Elva produces 804 horsepower and 590 pound-feet of torque from its twin-turbocharged 4.0-liter V8. Originally McLaren announced just 399 units, but later the company dropped that to an even more scarce 249 examples. Either way, most of you will never get your hands on one – the Elva costs $1.7 million.',\n",
       " 'Price: $1.7 Million',\n",
       " 'You might not know the name Czinger yet, but this California-based boutique automaker is responsible for the $1.7 million 21C supercar. With 1,250 horsepower on tap thanks to a 2.9-liter twin-turbocharged V8, the 21C can rocket to 60 miles per hour in 1.9 seconds and a top speed of around 281 miles per hour.',\n",
       " 'Price: $1.7 Million',\n",
       " 'Much like the roof-less McLaren Elva, the Ferrari Monza SP1 and SP2 are all about al fresco motoring. As the name implies, the SP1 is the single-seater option while the SP2 has just enough room for you to bring along a friend. Both cars come powered by the same naturally aspirated 6.5-liter V12 engine capable of 809 horsepower and 530 pound-feet. Unfortunately for US buyers, neither of these models are street legal in the States. But f you have the funds to afford the car’s $1.75 million price tag, getting onto a track probably won’t be an issue anyway.',\n",
       " 'Price: $1.7 Million',\n",
       " \"The second and slightly more affordable supercar in the new Gordon Murray lineup is the T.33. With 607 horsepower courtesy of a naturally aspirated 3.9-liter V12, the T.33 revs to a ridiculous 10,500 RPM. With a price tag of around $1.7 million at current conversion rates, Gordon Murray automotive promises to sell this car globally, in both right- and left-hand-drive configurations. Too bad it's already sold out.\",\n",
       " 'Price: $1.7 Million',\n",
       " 'One of two Koenigsegg models on this list, the Gemera is actually the Swedish supercar maker’s first four-seater. But that doesn’t mean it’s some family car. With a twin-turbocharged 2.0-liter engine under the hood and three electric motors, the Gemera has 1,700 horsepower and will hit 60 in just 1.9 seconds. The company only plans to build 300 of them, each one costing at least $1.7 million.',\n",
       " 'Price: $1.7 Million',\n",
       " 'Hailing from Denmark, the Zenvo TSR-S debuted in 2018 at the Geneva Motor Show as the most extreme option in the supercar startup’s repertoire. Boasting a twin-charged 5.8-liter V8 engine, the TSR-S produces 1,177 horsepower and will hit 62 miles per hour in just 2.8 seconds. Expect to pay at least $1.7 million to get your hands on this powerful and limited supercar.',\n",
       " 'Price: $1.8 Million',\n",
       " 'The Hennessey Venom GT was a record-breaker, topping out at 265.7 miles per hour in a world record run. But the new F5 plans to beat its predecessor with an estimated top speed of 311 mph, and with that comes a higher price, too. The Venom F5 starts at $1.8 million, according to the company, which makes it just a bit pricier than its $1.2-million predecessor.',\n",
       " 'Price: $1.9 Million',\n",
       " 'With just 12 total units produced, the Bentley Bacalar makes some of the \"limited\" cars on this list look plentiful by comparison. Although the car’s opulent design may be the first thing to grab your attention, the Bacalar is no slouch in terms of performance either. With Bentley’s signature turbocharged 6.0-liter W12 turbocharged engine, this car delivers 650 horsepower and 664 pound-feet. If you have a spare $1.9 million lying around and are considering buying one, you’re already too late – Bentley says that every example is now in customer hands.',\n",
       " 'Price: $1.9 Million',\n",
       " \"To call the Hispano Suiza Carmen Boulogne beautiful would be... a stretch. But this interesting-looking supercar made its US debut at this year's Amelia Island Concours d'Elegance boasting a 1,114-horsepower electric powertrain and a 0-60 time of 2.6 seconds. The Boulogne version pictured here – the lighter and more powerful of the two – costs close to $1.9 million.\",\n",
       " 'Price: $2.0 Million',\n",
       " \"The electric onslaught is coming. Bentley says it will be a fully electric automaker by 2030. But before the luxury brand transitions to battery power fully, the Mulliner Batur helps send the iconic W12 engine off in style. With 710 horsepower from that twin-turbocharged engine, the Batur is the most powerful Bentley ever. And since it's limited to just 18 examples globally, the Batur costs a whopping $2.0 million.\",\n",
       " 'Price: $2.0 Million',\n",
       " 'The Deus Vayanne may not be a household name (yet), but the all-electric hypercar debuted earlier this year with 2,200 horsepower, a 0-60 time of just under 2.0 seconds, and an estimated top speed of 248 miles per hour. Deus plans to build 99 examples of the Vayanne, with the first few examples scheduled to go on sale in 2025.',\n",
       " 'Price: $2.0 Million*',\n",
       " 'Although initially cloaked in controversy, SSC did manage to hit 282.9 miles per hour with its Tuatara hypercar, breaking a world record. But not only is the Tuatara one of the fastest vehicles on the planet, it’s also one of the priciest. The cost for all that speed is estimated to be around $2.0 million for the base Tuatara, limited to just 100 units worldwide.',\n",
       " 'Price: $2.1 Million',\n",
       " 'With a new Emira sports car and an Eletre electric SUV, Lotus is on the brink of a comeback. The automaker plans to roll out a number of new products within the next few years, with part of that strategy including the range-topping Evija. This supercar comes in at a cool $2.1 million and produces nearly 2,000 horsepower via four electric motors. Lotus plans to build just 130 road-going examples of the Evija.',\n",
       " 'Price: $2.3 Million',\n",
       " 'As with a few other cars on this list, the Aston Martin Vulcan was a track-only special. The British supercar made its world debut in 2015, powered by a naturally aspirated 7.0-liter V12 that produced 820 horsepower, and limited to just 24 examples worldwide. An even more track-focused AMR Pro model followed, but even the base Vulcan was a pricey commodity, costing about $2.4-million from the factory.',\n",
       " 'Price: $2.3 Million',\n",
       " 'You may have heard of Delage before. In the early 1900s, this French automaker was competing on the track with Bugatti and Ferrari. Now Delage is back and with a beautiful new hypercar dubbed the D12. Powered by a 7.6-liter V12 engine, the new D12 produces upwards of 1,010 horsepower and costs a cool $2.3 million.',\n",
       " 'Price: $2.3 Million',\n",
       " \"What would you pay for the fastest production McLaren ever? Well, at least $2.3 million. With 1,035 horsepower courtesy of a gasoline-electric hybrid V8 powertrain, the Speedtail tops out at 250 miles per hour and is able to reach 186 mph in just 12.8 seconds – 2.7 seconds faster than the P1. Unfortunately, if you didn't get your hands on one new in 2020, you'll have to shell out serious cash on the used market. McLaren only built 106 examples.\",\n",
       " 'Price: $2.4 Million',\n",
       " 'The Rimac Nevera takes the title of most expensive EV with its $2.4 million price tag – but only by a few hundred thousand dollars over the next priciest electric supercar. Packing 1,914 horsepower and 1,740 pound-feet of torque, the Nevera can hit 60 in under 2.0 seconds and will continue on to a top speed of 258 miles per hour. Those lucky enough to order one should see it in their driveway before the end of 2022.',\n",
       " 'Price: $2.5 Million',\n",
       " 'First came the Zonda, then the Huayra, and now the Pagani Utopia. With 852 horsepower and an available seven-speed manual gearbox, the Utopia is the most powerful road-going Pagani ever produced and it’s limited to just 99 examples worldwide. The cost for one is a cool $2.5 million.',\n",
       " 'Price: $2.5 Million',\n",
       " 'Aptly named after the company’s founder, Battista Farina, the Pininfarina Battista delivers the kind of performance (and price!) to make its namesake proud. Revealed at the 2019 Geneva Motor Show, the Battista is completely electric, putting out 1,827 horsepower. If a normal supercar’s 0 to 60 time sounds too leisurely for you, the company says that the Battista will take you there in under 2.0 seconds. Pininfarina plans on building 150 examples of the Battista, costing $2.5 million each.',\n",
       " 'Price: $2.6 Million',\n",
       " \"Sure, you could buy a normal LaFerrari (which also makes the list further down), but why settle for a supercar so mundane when you can take home this track-only version instead? Granted, the Ferrari FXX K Evo came out in 2017, and it's well past the point of being sold out. But when it was new, this 1,036-horsepower Ferrari tore up the track with its naturally aspirated V12 and aggressive aerodynamics.\",\n",
       " 'Price: $2.6 Million',\n",
       " \"If the name Gordon Murray sounds familiar, it’s because he's the man behind the design of the iconic McLaren F1. These days, Mr. Murray has his own supercar venture, and the handsome T.50 is the crown jewel of the lineup. At $2.6 million, the T.50 packs a naturally aspirated 4.0-liter V12 that makes 654 horsepower. The car itself weighs a mere 2,174 pounds, and at 392 pounds, the T.50 has the lightest V12 on the road today.\",\n",
       " 'Price: $2.6 Million',\n",
       " \"The name Countach may be iconic, but is it worth $2.6 million? That's what Lamborghini hopes you will spend on its new Aventador-based model. Debuting in August of 2021, the Countach LPI 800-4 has a 6.5-liter V12 with a light hybrid assist that gives it a whopping 803 horsepower, allowing for a 60 time of 2.8 seconds and a top speed of more than 220 miles per hour.\",\n",
       " 'Price: $2.7 Million',\n",
       " 'Mercedes has promised a production version of the Project One hypercar for quite a while now. The first official announcement was in March of 2017 before the first concept debuted later that same year. But after nearly five years of teasing, it appears as if the Project One will finally hit public roads. And when it does, the hybrid hypercar will have over 1,200 horsepower (895 kilowatts) and a price tag of $2.7 million.',\n",
       " 'Price: $3.0 Million',\n",
       " 'The folks at Aston Martin know a thing or two about exclusive vehicles, and the Victor might be the most exclusive project for the British brand to date. Based on the One-77 platform, the Victor uses parts from several donor Astons including the track project Vulcan and the upcoming Valkyrie. And talking about limited production – the Victor is one-of-one and rumored to cost nearly $3 million.',\n",
       " '$3.0 Million',\n",
       " 'The same Hennessey Venom F5 hypercar we all know and love, but with less roof. The F5 Roadster has the same twin-turbocharged 6.6-liter V8 as the coupe, producing the same 1,817 horsepower and 1,193 pound-feet of torque. Hennessey estimates a top speed of over 300 miles per hour, but if you want one, it will cost you at least $3.0 million.',\n",
       " 'Price: $3.0 Million',\n",
       " \"The Koenigsegg Jesko, apart from being the fastest car the company has made to date, is also the most expensive. At $3.0 million out of the box, the handsome hypercar has 1,600-horsepower courtesy of the brand's ubiquitous twin-turbocharged 5.0-liter V8 engine. Opt for the Absolut model, and the Jesko, in theory, will be able to hit 300 miles per hour.\",\n",
       " 'Price: $3.2 Million',\n",
       " 'The upcoming Aston Martin hybrid hypercar hasn’t even hit the market yet, but already the $3.2 million Valkyrie has sold out. For what it’s worth, Aston Martin hasn’t officially released pricing. Estimates suggest the hypercar could go for anywhere between $2.6 and $3.9 million – but $3.2 million seems to be the magic number. Whatever the case, this machine is impressive. Its Cosworth-sourced 6.5-liter V12 produces 1,160 horsepower (865 kilowatts) and 664 pound-feet (900 Newton-meters) of torque, meaning its top speed should be well over 200 miles per hour (321 kilometers per hour). The company will build just 150 examples of the standard Valkyrie, with a limited 25-run AMR model arriving later.',\n",
       " 'Price: $3.4 Million',\n",
       " \"Dubai-based W Motors shocked the world with its edgy Lykan Hypersport supercar in 2013. With titanium LED headlights housing 420 15-carat diamonds and a holographic display in the center console, it's no surprise it was the third most expensive car ever when new. It falls to number six on our list here, but it's still a wild hypercar with a powerful heart; the twin-turbocharged 3.7-liter six-cylinder engine underhood produces 780 horsepower (581 kilowatts) and 708 (960 Newton-meters) of torque.\",\n",
       " '$3.5 Million',\n",
       " 'One seat, 829 horsepower, and a top speed of over 200 miles per hour. The new McLaren Solus is about as close as you can get to a Formula 1 car from the factory, powered by a naturally aspirated 5.2-liter V10 engine with a 0-62 mile-per-hour time of just 2.5 seconds. Estimates suggest a McLaren Solus will set you back about $3.5 million.',\n",
       " 'Price: $3.5 Million',\n",
       " 'Following Pagani’s past playbook, a roadster version of the ferocious Huayra BC was inevitable. Last year, the company made it official by showing off the Huayra Roadster BC, a topless monster with 800 horsepower (597 kilowatts) and 774 lb-ft of torque (1049 Newton-meters). Somewhat surprisingly, Pagani gave the roadster 50 more horsepower than its coupe sibling, by cranking up its AMG-sourced twin-turbocharged 6.0-liter V12. In addition to the joy of hearing the glorious engine note without a roof in the way, owners should take comfort in knowing that their car is ultra-rare. Pagani is limiting production to just 40 units, each with a sticker price of $3.5 million.',\n",
       " 'Price: $3.6 Million',\n",
       " 'Another showstopper from the Geneva Motor Show that never was, the Bugatti Chiron Pur Sport is a special edition Chiron with a focus on aerodynamics, weight reduction, and power distribution. It’s the same 8.0-liter quad-turbo W16 engine underneath the skin but it’s now mated to a recalibrated automatic gearbox. While the peak output remains unchanged at 1,500 horsepower (1,103 kilowatts), the rpm redline has been set 200 rpm higher, up to 6,900 rpm. The Pur Sport also features slightly revised bodywork, with a bigger rear wing and more aerodynamic front fascia. Beginning production in late 2020, the Bugatti starts at $3.6 million.',\n",
       " 'Price: $3.6 million',\n",
       " 'In several ways, the Sian represents a bridge to Lamborghini’s future. Though it’s based on the Aventador SVJ, this wild-looking Lambo is the brand’s first production electrified offering. In addition to the SVJ-sourced 6.5-liter V12, the Sian uses a 48-volt mild-hybrid system. Total system output is 819 horsepower (611 kilowatts), which also makes it the most powerful Lamborghini ever. As confirmed by the 63 stuck on either side of the Sian’s wing, Lamborghini will produce just 63 units. And each will cost far more than the Aventador SVJ, carrying a price of $3.6 million.',\n",
       " 'Price: $3.7 Million',\n",
       " 'The Koenigsegg CC850 was a surprise to be sure, but a welcomed one. Borrowing the twin-turbocharged 5.0-liter V8 from the Jesko, it notches that output up to 1,385 horsepower and 1,022 pound-feet of torque, with a so-called “TWMPAFMPC” transmission that shifts (pun intended) between manual and automatic functions. Of course, all that performance technology will cost you; the CC850 starts at $3.7 million.',\n",
       " 'Price: $3.9 Million',\n",
       " 'Earlier this year, Bugatti captured the collective attention of the automotive world by announcing that it broke the 300 miles per hour barrier with a modified version of the Chiron. The Super Sport 300 + is a road-going version of that car, meant to celebrate the occasion. Limited to just 30 units, the Super Sport 300+ is a beautiful version of the Chiron, with flowing, slippery bodywork and a sweet stripe motif. Even with 300 in the name, Bugatti is limiting the top speed of each car to \"just\" 277 mph. Production starts this year.',\n",
       " 'Price: $4.5 Million',\n",
       " \"Lamborghini built just 14 examples of the Aventador-based Veneno between 2014 and 2015. Each one cost around $4.5 million, depending on how it was spec'd, and was available in both convertible and coupe configurations. Underhood Lamborghini fitted a more-powerful iteration of the Aventador's 6.5-liter V12, now producing 740 horsepower (552 kilowatts) and 509 pound-feet (609 Newton-meters) of torque, which gave it the ability to sprint to 60 miles per hour (96 kilometers per hour) in a blistering 2.9 seconds. To date, it’s the most expensive new Lamborghini ever.\",\n",
       " 'Price: $4.7 Million',\n",
       " \"Produced in extremely limited numbers atop the body of a Chiron, it's no wonder Bugatti's one-of-40 Bolide track car is this pricey. At $4.7 million, the 1,824-horsepower hypercar has more power than the Chiron Super Sport 300+, and more extreme bodywork that allow it to lap tracks like the Nurburgring in record time (in theory). Bugatti says the Bolide would be able to conquer the ‘Ring in record time.\",\n",
       " 'Price: $5.0 Million',\n",
       " 'The Bugatti Mistral sends the iconic W16 engine off in style. With 1,577 horsepower and no roof, the Mistral takes the best bits of the Chiron and borrows elements from the Bolide and Divo to create a truly unique roadster. Of course, Bugatti plans to build just 99 examples of the Mistral at the cost of around $5.0 million in the US – and all of them are already accounted for.',\n",
       " 'Price: $5.4 Million',\n",
       " 'Even though the new Utopia marks the next big step for Pagani, the Huayra Imola packs nearly as much power with a twin-turbocharged 6.0-liter V12 engine producing 827 horsepower and 811 pound-feet of torque. The Huayra Imola is estimated to cost around $5.4 million new, which would make it the second most expensive Pagani of all time.',\n",
       " 'Price: $5.8 Million',\n",
       " 'Among Bugatti’s recently debuted vehicles, the Divo is a staff favorite. Though it shares much in common with its cheaper (!) sibling the Chiron, the Divo has a lot going for it to justify the extra money. By adding lighter wheels, a carbon fiber intercooler and removing some sound deadening, Bugatti made the Divo 77 pounds lighter than the Chiron. Though power is unchanged from the Chiron’s 1,500 ponies (1,119 kilowatts), The Divo features a different aerodynamic setup, which makes it 8 seconds quicker around the Nardo test track. Finally, the moment you’ve been waiting for: Bugatti is making 40 examples of the car, each costing $5.8 million.',\n",
       " 'Price: $6.4 Million',\n",
       " \"SP Automotive (short for Spyros Panopoulos) is a new name in the world of hypercars, but the brand's 2,000-horsepower, $6.4-million, aptly named Chaos has already made an impact. With a twin-turbocharged 4.0-liter V10, the base SP Automotive Chaos is one of the most expensive cars on this list – beating out many Lambos and Bugattis – but there's an even pricier version of this car that costs an eye-watering $14.4 million. That version reportedly packs 3,000 hp.\",\n",
       " 'Price: $7.4 Million',\n",
       " 'The long list of pricey (new) Paganis ends with the Codualunga. Inspired by 1960s Italian coachbuilding, the stunning exterior and steampunk-esque interior – while equally stunning – are only part of what makes this Pagani so pricey. Under the hood is a twin-turbocharged 6.0-liter V12 producing 829 horsepower and 809 pound-feet of torque, paired to a seven-speed sequential transmission for a real race-car–like feel. The cost for this one-of-five Pagani is $7.4 million.',\n",
       " 'Price: $8.0 Million',\n",
       " \"Like many others before it, the Mercedes-Benz Maybach Exelero is a one-off. Commissioned by Fulda, a German subsidiary of Goodyear, to test its new tires, the Exlero debuted in 2004. Mercedes built the Exelero on the bones of a Maybach, and gave it the same twin-turbo V12 engine producing 690 horsepower (510 kilowatts) and 752 pound-feet (1,020 Newton-meters) of torque. Top speed is listed at 218 miles per hour (350 kilometers per hour) and adjusted for inflation, the Exelero would cost more than $10 million in today's money.\",\n",
       " 'Price: $9.0 Million',\n",
       " 'Bugatti debuted the Centodieci at last year’s Pebble Beach car week, showing off yet another ultra-rare, super-expensive model to the world. Limited to just 10 – dieci – units, the car is a modern throwback to the Bugatti EB110. At the same time, it’s meant to celebrate Bugatti’s momentous 110-year anniversary. Its unique styling cues won’t make everyone fall in love, but at least you won’t have to worry about seeing another one on the road. Carrying a price just shy of $9 million, the Centodiece is one of the most exclusive cars ever made.',\n",
       " 'Price: $12.8 Million',\n",
       " \"Rolls-Royce, expectedly, takes two of the top three spots on this list, with the stunning Sweptail one-off from 2017 coming in at number three. With a monumental price tag of $13.0 million, it was, at the time of its debut, the most expensive new car ever. It's been outpriced since then, but the 453-horsepower luxury car is still a jaw-dropper.\"]"
      ]
     },
     "execution_count": 162,
     "metadata": {},
     "output_type": "execute_result"
    }
   ],
   "source": [
    "des"
   ]
  },
  {
   "cell_type": "code",
   "execution_count": 163,
   "id": "7ef42652",
   "metadata": {},
   "outputs": [],
   "source": [
    "del des[0]"
   ]
  },
  {
   "cell_type": "code",
   "execution_count": 164,
   "id": "604882ce",
   "metadata": {},
   "outputs": [
    {
     "data": {
      "text/plain": [
       "['Price: $1.2 Million',\n",
       " 'The Drako GTE is a super sedan in every sense of the word. Packing 1,200 horsepower and a whopping 6,491 pound-feet of torque from a fully electric powertrain, the GTE can hit 60 in just about 2.0 seconds and tops out at 206 miles per hour. The cost for this family-friendly rocket is a cool $1.2 million.',\n",
       " 'Price: $1.3 Million',\n",
       " 'The De Tomaso P72 is basically the definition of beautiful. The shapely supercar debuted at the 2019 Goodwood Festival Of Speed with a supercharged Ford V8 boasting 700 horsepower. The P72 marked the return of the DeTomaso brand after nearly 30 years on hiatus, and if you want one, it will cost you at least $1.3 million.',\n",
       " 'Price: $1.4 Million',\n",
       " 'At $1.4 million new, the Ferrari LaFerrari is actually one of the most affordable supercars on this list. It’s a bargain compared to the most expensive vehicle here. Debuting in 2013 with 950 hybrid horses (708 kilowatts) and a top speed of around 220 miles per hour (354 kilometers per hour), this is still Ferrari’s fastest and most powerful production model to date. The company built just 499 examples of the coupe between 2013 and 2016.',\n",
       " 'Price: $1.4 Million',\n",
       " 'Inarguably one of the prettiest cars on this list, the Pagani Huayra cost a cool $1.4 million when new. Like the LaFerrari, Pagani built the Huayra in extremely limited numbers. The company hand-constructed just 100 units of the coupe between 2012 and 2018, with another 20 versions of the BC model (which makes our list further down) between 2017 and 2019. Powering each and every example was a Mercedes-AMG V12 capable of 720 horsepower (537 kilowatts).',\n",
       " 'Price: $1.7 Million',\n",
       " 'The McLaren Elva is one of the latest additions to the British supercar maker’s storied legacy. Even without a proper windshield (though, no option) or roof to rely on, the Elva produces 804 horsepower and 590 pound-feet of torque from its twin-turbocharged 4.0-liter V8. Originally McLaren announced just 399 units, but later the company dropped that to an even more scarce 249 examples. Either way, most of you will never get your hands on one – the Elva costs $1.7 million.',\n",
       " 'Price: $1.7 Million',\n",
       " 'You might not know the name Czinger yet, but this California-based boutique automaker is responsible for the $1.7 million 21C supercar. With 1,250 horsepower on tap thanks to a 2.9-liter twin-turbocharged V8, the 21C can rocket to 60 miles per hour in 1.9 seconds and a top speed of around 281 miles per hour.',\n",
       " 'Price: $1.7 Million',\n",
       " 'Much like the roof-less McLaren Elva, the Ferrari Monza SP1 and SP2 are all about al fresco motoring. As the name implies, the SP1 is the single-seater option while the SP2 has just enough room for you to bring along a friend. Both cars come powered by the same naturally aspirated 6.5-liter V12 engine capable of 809 horsepower and 530 pound-feet. Unfortunately for US buyers, neither of these models are street legal in the States. But f you have the funds to afford the car’s $1.75 million price tag, getting onto a track probably won’t be an issue anyway.',\n",
       " 'Price: $1.7 Million',\n",
       " \"The second and slightly more affordable supercar in the new Gordon Murray lineup is the T.33. With 607 horsepower courtesy of a naturally aspirated 3.9-liter V12, the T.33 revs to a ridiculous 10,500 RPM. With a price tag of around $1.7 million at current conversion rates, Gordon Murray automotive promises to sell this car globally, in both right- and left-hand-drive configurations. Too bad it's already sold out.\",\n",
       " 'Price: $1.7 Million',\n",
       " 'One of two Koenigsegg models on this list, the Gemera is actually the Swedish supercar maker’s first four-seater. But that doesn’t mean it’s some family car. With a twin-turbocharged 2.0-liter engine under the hood and three electric motors, the Gemera has 1,700 horsepower and will hit 60 in just 1.9 seconds. The company only plans to build 300 of them, each one costing at least $1.7 million.',\n",
       " 'Price: $1.7 Million',\n",
       " 'Hailing from Denmark, the Zenvo TSR-S debuted in 2018 at the Geneva Motor Show as the most extreme option in the supercar startup’s repertoire. Boasting a twin-charged 5.8-liter V8 engine, the TSR-S produces 1,177 horsepower and will hit 62 miles per hour in just 2.8 seconds. Expect to pay at least $1.7 million to get your hands on this powerful and limited supercar.',\n",
       " 'Price: $1.8 Million',\n",
       " 'The Hennessey Venom GT was a record-breaker, topping out at 265.7 miles per hour in a world record run. But the new F5 plans to beat its predecessor with an estimated top speed of 311 mph, and with that comes a higher price, too. The Venom F5 starts at $1.8 million, according to the company, which makes it just a bit pricier than its $1.2-million predecessor.',\n",
       " 'Price: $1.9 Million',\n",
       " 'With just 12 total units produced, the Bentley Bacalar makes some of the \"limited\" cars on this list look plentiful by comparison. Although the car’s opulent design may be the first thing to grab your attention, the Bacalar is no slouch in terms of performance either. With Bentley’s signature turbocharged 6.0-liter W12 turbocharged engine, this car delivers 650 horsepower and 664 pound-feet. If you have a spare $1.9 million lying around and are considering buying one, you’re already too late – Bentley says that every example is now in customer hands.',\n",
       " 'Price: $1.9 Million',\n",
       " \"To call the Hispano Suiza Carmen Boulogne beautiful would be... a stretch. But this interesting-looking supercar made its US debut at this year's Amelia Island Concours d'Elegance boasting a 1,114-horsepower electric powertrain and a 0-60 time of 2.6 seconds. The Boulogne version pictured here – the lighter and more powerful of the two – costs close to $1.9 million.\",\n",
       " 'Price: $2.0 Million',\n",
       " \"The electric onslaught is coming. Bentley says it will be a fully electric automaker by 2030. But before the luxury brand transitions to battery power fully, the Mulliner Batur helps send the iconic W12 engine off in style. With 710 horsepower from that twin-turbocharged engine, the Batur is the most powerful Bentley ever. And since it's limited to just 18 examples globally, the Batur costs a whopping $2.0 million.\",\n",
       " 'Price: $2.0 Million',\n",
       " 'The Deus Vayanne may not be a household name (yet), but the all-electric hypercar debuted earlier this year with 2,200 horsepower, a 0-60 time of just under 2.0 seconds, and an estimated top speed of 248 miles per hour. Deus plans to build 99 examples of the Vayanne, with the first few examples scheduled to go on sale in 2025.',\n",
       " 'Price: $2.0 Million*',\n",
       " 'Although initially cloaked in controversy, SSC did manage to hit 282.9 miles per hour with its Tuatara hypercar, breaking a world record. But not only is the Tuatara one of the fastest vehicles on the planet, it’s also one of the priciest. The cost for all that speed is estimated to be around $2.0 million for the base Tuatara, limited to just 100 units worldwide.',\n",
       " 'Price: $2.1 Million',\n",
       " 'With a new Emira sports car and an Eletre electric SUV, Lotus is on the brink of a comeback. The automaker plans to roll out a number of new products within the next few years, with part of that strategy including the range-topping Evija. This supercar comes in at a cool $2.1 million and produces nearly 2,000 horsepower via four electric motors. Lotus plans to build just 130 road-going examples of the Evija.',\n",
       " 'Price: $2.3 Million',\n",
       " 'As with a few other cars on this list, the Aston Martin Vulcan was a track-only special. The British supercar made its world debut in 2015, powered by a naturally aspirated 7.0-liter V12 that produced 820 horsepower, and limited to just 24 examples worldwide. An even more track-focused AMR Pro model followed, but even the base Vulcan was a pricey commodity, costing about $2.4-million from the factory.',\n",
       " 'Price: $2.3 Million',\n",
       " 'You may have heard of Delage before. In the early 1900s, this French automaker was competing on the track with Bugatti and Ferrari. Now Delage is back and with a beautiful new hypercar dubbed the D12. Powered by a 7.6-liter V12 engine, the new D12 produces upwards of 1,010 horsepower and costs a cool $2.3 million.',\n",
       " 'Price: $2.3 Million',\n",
       " \"What would you pay for the fastest production McLaren ever? Well, at least $2.3 million. With 1,035 horsepower courtesy of a gasoline-electric hybrid V8 powertrain, the Speedtail tops out at 250 miles per hour and is able to reach 186 mph in just 12.8 seconds – 2.7 seconds faster than the P1. Unfortunately, if you didn't get your hands on one new in 2020, you'll have to shell out serious cash on the used market. McLaren only built 106 examples.\",\n",
       " 'Price: $2.4 Million',\n",
       " 'The Rimac Nevera takes the title of most expensive EV with its $2.4 million price tag – but only by a few hundred thousand dollars over the next priciest electric supercar. Packing 1,914 horsepower and 1,740 pound-feet of torque, the Nevera can hit 60 in under 2.0 seconds and will continue on to a top speed of 258 miles per hour. Those lucky enough to order one should see it in their driveway before the end of 2022.',\n",
       " 'Price: $2.5 Million',\n",
       " 'First came the Zonda, then the Huayra, and now the Pagani Utopia. With 852 horsepower and an available seven-speed manual gearbox, the Utopia is the most powerful road-going Pagani ever produced and it’s limited to just 99 examples worldwide. The cost for one is a cool $2.5 million.',\n",
       " 'Price: $2.5 Million',\n",
       " 'Aptly named after the company’s founder, Battista Farina, the Pininfarina Battista delivers the kind of performance (and price!) to make its namesake proud. Revealed at the 2019 Geneva Motor Show, the Battista is completely electric, putting out 1,827 horsepower. If a normal supercar’s 0 to 60 time sounds too leisurely for you, the company says that the Battista will take you there in under 2.0 seconds. Pininfarina plans on building 150 examples of the Battista, costing $2.5 million each.',\n",
       " 'Price: $2.6 Million',\n",
       " \"Sure, you could buy a normal LaFerrari (which also makes the list further down), but why settle for a supercar so mundane when you can take home this track-only version instead? Granted, the Ferrari FXX K Evo came out in 2017, and it's well past the point of being sold out. But when it was new, this 1,036-horsepower Ferrari tore up the track with its naturally aspirated V12 and aggressive aerodynamics.\",\n",
       " 'Price: $2.6 Million',\n",
       " \"If the name Gordon Murray sounds familiar, it’s because he's the man behind the design of the iconic McLaren F1. These days, Mr. Murray has his own supercar venture, and the handsome T.50 is the crown jewel of the lineup. At $2.6 million, the T.50 packs a naturally aspirated 4.0-liter V12 that makes 654 horsepower. The car itself weighs a mere 2,174 pounds, and at 392 pounds, the T.50 has the lightest V12 on the road today.\",\n",
       " 'Price: $2.6 Million',\n",
       " \"The name Countach may be iconic, but is it worth $2.6 million? That's what Lamborghini hopes you will spend on its new Aventador-based model. Debuting in August of 2021, the Countach LPI 800-4 has a 6.5-liter V12 with a light hybrid assist that gives it a whopping 803 horsepower, allowing for a 60 time of 2.8 seconds and a top speed of more than 220 miles per hour.\",\n",
       " 'Price: $2.7 Million',\n",
       " 'Mercedes has promised a production version of the Project One hypercar for quite a while now. The first official announcement was in March of 2017 before the first concept debuted later that same year. But after nearly five years of teasing, it appears as if the Project One will finally hit public roads. And when it does, the hybrid hypercar will have over 1,200 horsepower (895 kilowatts) and a price tag of $2.7 million.',\n",
       " 'Price: $3.0 Million',\n",
       " 'The folks at Aston Martin know a thing or two about exclusive vehicles, and the Victor might be the most exclusive project for the British brand to date. Based on the One-77 platform, the Victor uses parts from several donor Astons including the track project Vulcan and the upcoming Valkyrie. And talking about limited production – the Victor is one-of-one and rumored to cost nearly $3 million.',\n",
       " '$3.0 Million',\n",
       " 'The same Hennessey Venom F5 hypercar we all know and love, but with less roof. The F5 Roadster has the same twin-turbocharged 6.6-liter V8 as the coupe, producing the same 1,817 horsepower and 1,193 pound-feet of torque. Hennessey estimates a top speed of over 300 miles per hour, but if you want one, it will cost you at least $3.0 million.',\n",
       " 'Price: $3.0 Million',\n",
       " \"The Koenigsegg Jesko, apart from being the fastest car the company has made to date, is also the most expensive. At $3.0 million out of the box, the handsome hypercar has 1,600-horsepower courtesy of the brand's ubiquitous twin-turbocharged 5.0-liter V8 engine. Opt for the Absolut model, and the Jesko, in theory, will be able to hit 300 miles per hour.\",\n",
       " 'Price: $3.2 Million',\n",
       " 'The upcoming Aston Martin hybrid hypercar hasn’t even hit the market yet, but already the $3.2 million Valkyrie has sold out. For what it’s worth, Aston Martin hasn’t officially released pricing. Estimates suggest the hypercar could go for anywhere between $2.6 and $3.9 million – but $3.2 million seems to be the magic number. Whatever the case, this machine is impressive. Its Cosworth-sourced 6.5-liter V12 produces 1,160 horsepower (865 kilowatts) and 664 pound-feet (900 Newton-meters) of torque, meaning its top speed should be well over 200 miles per hour (321 kilometers per hour). The company will build just 150 examples of the standard Valkyrie, with a limited 25-run AMR model arriving later.',\n",
       " 'Price: $3.4 Million',\n",
       " \"Dubai-based W Motors shocked the world with its edgy Lykan Hypersport supercar in 2013. With titanium LED headlights housing 420 15-carat diamonds and a holographic display in the center console, it's no surprise it was the third most expensive car ever when new. It falls to number six on our list here, but it's still a wild hypercar with a powerful heart; the twin-turbocharged 3.7-liter six-cylinder engine underhood produces 780 horsepower (581 kilowatts) and 708 (960 Newton-meters) of torque.\",\n",
       " '$3.5 Million',\n",
       " 'One seat, 829 horsepower, and a top speed of over 200 miles per hour. The new McLaren Solus is about as close as you can get to a Formula 1 car from the factory, powered by a naturally aspirated 5.2-liter V10 engine with a 0-62 mile-per-hour time of just 2.5 seconds. Estimates suggest a McLaren Solus will set you back about $3.5 million.',\n",
       " 'Price: $3.5 Million',\n",
       " 'Following Pagani’s past playbook, a roadster version of the ferocious Huayra BC was inevitable. Last year, the company made it official by showing off the Huayra Roadster BC, a topless monster with 800 horsepower (597 kilowatts) and 774 lb-ft of torque (1049 Newton-meters). Somewhat surprisingly, Pagani gave the roadster 50 more horsepower than its coupe sibling, by cranking up its AMG-sourced twin-turbocharged 6.0-liter V12. In addition to the joy of hearing the glorious engine note without a roof in the way, owners should take comfort in knowing that their car is ultra-rare. Pagani is limiting production to just 40 units, each with a sticker price of $3.5 million.',\n",
       " 'Price: $3.6 Million',\n",
       " 'Another showstopper from the Geneva Motor Show that never was, the Bugatti Chiron Pur Sport is a special edition Chiron with a focus on aerodynamics, weight reduction, and power distribution. It’s the same 8.0-liter quad-turbo W16 engine underneath the skin but it’s now mated to a recalibrated automatic gearbox. While the peak output remains unchanged at 1,500 horsepower (1,103 kilowatts), the rpm redline has been set 200 rpm higher, up to 6,900 rpm. The Pur Sport also features slightly revised bodywork, with a bigger rear wing and more aerodynamic front fascia. Beginning production in late 2020, the Bugatti starts at $3.6 million.',\n",
       " 'Price: $3.6 million',\n",
       " 'In several ways, the Sian represents a bridge to Lamborghini’s future. Though it’s based on the Aventador SVJ, this wild-looking Lambo is the brand’s first production electrified offering. In addition to the SVJ-sourced 6.5-liter V12, the Sian uses a 48-volt mild-hybrid system. Total system output is 819 horsepower (611 kilowatts), which also makes it the most powerful Lamborghini ever. As confirmed by the 63 stuck on either side of the Sian’s wing, Lamborghini will produce just 63 units. And each will cost far more than the Aventador SVJ, carrying a price of $3.6 million.',\n",
       " 'Price: $3.7 Million',\n",
       " 'The Koenigsegg CC850 was a surprise to be sure, but a welcomed one. Borrowing the twin-turbocharged 5.0-liter V8 from the Jesko, it notches that output up to 1,385 horsepower and 1,022 pound-feet of torque, with a so-called “TWMPAFMPC” transmission that shifts (pun intended) between manual and automatic functions. Of course, all that performance technology will cost you; the CC850 starts at $3.7 million.',\n",
       " 'Price: $3.9 Million',\n",
       " 'Earlier this year, Bugatti captured the collective attention of the automotive world by announcing that it broke the 300 miles per hour barrier with a modified version of the Chiron. The Super Sport 300 + is a road-going version of that car, meant to celebrate the occasion. Limited to just 30 units, the Super Sport 300+ is a beautiful version of the Chiron, with flowing, slippery bodywork and a sweet stripe motif. Even with 300 in the name, Bugatti is limiting the top speed of each car to \"just\" 277 mph. Production starts this year.',\n",
       " 'Price: $4.5 Million',\n",
       " \"Lamborghini built just 14 examples of the Aventador-based Veneno between 2014 and 2015. Each one cost around $4.5 million, depending on how it was spec'd, and was available in both convertible and coupe configurations. Underhood Lamborghini fitted a more-powerful iteration of the Aventador's 6.5-liter V12, now producing 740 horsepower (552 kilowatts) and 509 pound-feet (609 Newton-meters) of torque, which gave it the ability to sprint to 60 miles per hour (96 kilometers per hour) in a blistering 2.9 seconds. To date, it’s the most expensive new Lamborghini ever.\",\n",
       " 'Price: $4.7 Million',\n",
       " \"Produced in extremely limited numbers atop the body of a Chiron, it's no wonder Bugatti's one-of-40 Bolide track car is this pricey. At $4.7 million, the 1,824-horsepower hypercar has more power than the Chiron Super Sport 300+, and more extreme bodywork that allow it to lap tracks like the Nurburgring in record time (in theory). Bugatti says the Bolide would be able to conquer the ‘Ring in record time.\",\n",
       " 'Price: $5.0 Million',\n",
       " 'The Bugatti Mistral sends the iconic W16 engine off in style. With 1,577 horsepower and no roof, the Mistral takes the best bits of the Chiron and borrows elements from the Bolide and Divo to create a truly unique roadster. Of course, Bugatti plans to build just 99 examples of the Mistral at the cost of around $5.0 million in the US – and all of them are already accounted for.',\n",
       " 'Price: $5.4 Million',\n",
       " 'Even though the new Utopia marks the next big step for Pagani, the Huayra Imola packs nearly as much power with a twin-turbocharged 6.0-liter V12 engine producing 827 horsepower and 811 pound-feet of torque. The Huayra Imola is estimated to cost around $5.4 million new, which would make it the second most expensive Pagani of all time.',\n",
       " 'Price: $5.8 Million',\n",
       " 'Among Bugatti’s recently debuted vehicles, the Divo is a staff favorite. Though it shares much in common with its cheaper (!) sibling the Chiron, the Divo has a lot going for it to justify the extra money. By adding lighter wheels, a carbon fiber intercooler and removing some sound deadening, Bugatti made the Divo 77 pounds lighter than the Chiron. Though power is unchanged from the Chiron’s 1,500 ponies (1,119 kilowatts), The Divo features a different aerodynamic setup, which makes it 8 seconds quicker around the Nardo test track. Finally, the moment you’ve been waiting for: Bugatti is making 40 examples of the car, each costing $5.8 million.',\n",
       " 'Price: $6.4 Million',\n",
       " \"SP Automotive (short for Spyros Panopoulos) is a new name in the world of hypercars, but the brand's 2,000-horsepower, $6.4-million, aptly named Chaos has already made an impact. With a twin-turbocharged 4.0-liter V10, the base SP Automotive Chaos is one of the most expensive cars on this list – beating out many Lambos and Bugattis – but there's an even pricier version of this car that costs an eye-watering $14.4 million. That version reportedly packs 3,000 hp.\",\n",
       " 'Price: $7.4 Million',\n",
       " 'The long list of pricey (new) Paganis ends with the Codualunga. Inspired by 1960s Italian coachbuilding, the stunning exterior and steampunk-esque interior – while equally stunning – are only part of what makes this Pagani so pricey. Under the hood is a twin-turbocharged 6.0-liter V12 producing 829 horsepower and 809 pound-feet of torque, paired to a seven-speed sequential transmission for a real race-car–like feel. The cost for this one-of-five Pagani is $7.4 million.',\n",
       " 'Price: $8.0 Million',\n",
       " \"Like many others before it, the Mercedes-Benz Maybach Exelero is a one-off. Commissioned by Fulda, a German subsidiary of Goodyear, to test its new tires, the Exlero debuted in 2004. Mercedes built the Exelero on the bones of a Maybach, and gave it the same twin-turbo V12 engine producing 690 horsepower (510 kilowatts) and 752 pound-feet (1,020 Newton-meters) of torque. Top speed is listed at 218 miles per hour (350 kilometers per hour) and adjusted for inflation, the Exelero would cost more than $10 million in today's money.\",\n",
       " 'Price: $9.0 Million',\n",
       " 'Bugatti debuted the Centodieci at last year’s Pebble Beach car week, showing off yet another ultra-rare, super-expensive model to the world. Limited to just 10 – dieci – units, the car is a modern throwback to the Bugatti EB110. At the same time, it’s meant to celebrate Bugatti’s momentous 110-year anniversary. Its unique styling cues won’t make everyone fall in love, but at least you won’t have to worry about seeing another one on the road. Carrying a price just shy of $9 million, the Centodiece is one of the most exclusive cars ever made.',\n",
       " 'Price: $12.8 Million',\n",
       " \"Rolls-Royce, expectedly, takes two of the top three spots on this list, with the stunning Sweptail one-off from 2017 coming in at number three. With a monumental price tag of $13.0 million, it was, at the time of its debut, the most expensive new car ever. It's been outpriced since then, but the 453-horsepower luxury car is still a jaw-dropper.\"]"
      ]
     },
     "execution_count": 164,
     "metadata": {},
     "output_type": "execute_result"
    }
   ],
   "source": [
    "des"
   ]
  },
  {
   "cell_type": "code",
   "execution_count": 165,
   "id": "11476e42",
   "metadata": {},
   "outputs": [],
   "source": [
    "del des[0]"
   ]
  },
  {
   "cell_type": "code",
   "execution_count": 166,
   "id": "6bea695a",
   "metadata": {},
   "outputs": [
    {
     "data": {
      "text/plain": [
       "['The Drako GTE is a super sedan in every sense of the word. Packing 1,200 horsepower and a whopping 6,491 pound-feet of torque from a fully electric powertrain, the GTE can hit 60 in just about 2.0 seconds and tops out at 206 miles per hour. The cost for this family-friendly rocket is a cool $1.2 million.',\n",
       " 'Price: $1.3 Million',\n",
       " 'The De Tomaso P72 is basically the definition of beautiful. The shapely supercar debuted at the 2019 Goodwood Festival Of Speed with a supercharged Ford V8 boasting 700 horsepower. The P72 marked the return of the DeTomaso brand after nearly 30 years on hiatus, and if you want one, it will cost you at least $1.3 million.',\n",
       " 'Price: $1.4 Million',\n",
       " 'At $1.4 million new, the Ferrari LaFerrari is actually one of the most affordable supercars on this list. It’s a bargain compared to the most expensive vehicle here. Debuting in 2013 with 950 hybrid horses (708 kilowatts) and a top speed of around 220 miles per hour (354 kilometers per hour), this is still Ferrari’s fastest and most powerful production model to date. The company built just 499 examples of the coupe between 2013 and 2016.',\n",
       " 'Price: $1.4 Million',\n",
       " 'Inarguably one of the prettiest cars on this list, the Pagani Huayra cost a cool $1.4 million when new. Like the LaFerrari, Pagani built the Huayra in extremely limited numbers. The company hand-constructed just 100 units of the coupe between 2012 and 2018, with another 20 versions of the BC model (which makes our list further down) between 2017 and 2019. Powering each and every example was a Mercedes-AMG V12 capable of 720 horsepower (537 kilowatts).',\n",
       " 'Price: $1.7 Million',\n",
       " 'The McLaren Elva is one of the latest additions to the British supercar maker’s storied legacy. Even without a proper windshield (though, no option) or roof to rely on, the Elva produces 804 horsepower and 590 pound-feet of torque from its twin-turbocharged 4.0-liter V8. Originally McLaren announced just 399 units, but later the company dropped that to an even more scarce 249 examples. Either way, most of you will never get your hands on one – the Elva costs $1.7 million.',\n",
       " 'Price: $1.7 Million',\n",
       " 'You might not know the name Czinger yet, but this California-based boutique automaker is responsible for the $1.7 million 21C supercar. With 1,250 horsepower on tap thanks to a 2.9-liter twin-turbocharged V8, the 21C can rocket to 60 miles per hour in 1.9 seconds and a top speed of around 281 miles per hour.',\n",
       " 'Price: $1.7 Million',\n",
       " 'Much like the roof-less McLaren Elva, the Ferrari Monza SP1 and SP2 are all about al fresco motoring. As the name implies, the SP1 is the single-seater option while the SP2 has just enough room for you to bring along a friend. Both cars come powered by the same naturally aspirated 6.5-liter V12 engine capable of 809 horsepower and 530 pound-feet. Unfortunately for US buyers, neither of these models are street legal in the States. But f you have the funds to afford the car’s $1.75 million price tag, getting onto a track probably won’t be an issue anyway.',\n",
       " 'Price: $1.7 Million',\n",
       " \"The second and slightly more affordable supercar in the new Gordon Murray lineup is the T.33. With 607 horsepower courtesy of a naturally aspirated 3.9-liter V12, the T.33 revs to a ridiculous 10,500 RPM. With a price tag of around $1.7 million at current conversion rates, Gordon Murray automotive promises to sell this car globally, in both right- and left-hand-drive configurations. Too bad it's already sold out.\",\n",
       " 'Price: $1.7 Million',\n",
       " 'One of two Koenigsegg models on this list, the Gemera is actually the Swedish supercar maker’s first four-seater. But that doesn’t mean it’s some family car. With a twin-turbocharged 2.0-liter engine under the hood and three electric motors, the Gemera has 1,700 horsepower and will hit 60 in just 1.9 seconds. The company only plans to build 300 of them, each one costing at least $1.7 million.',\n",
       " 'Price: $1.7 Million',\n",
       " 'Hailing from Denmark, the Zenvo TSR-S debuted in 2018 at the Geneva Motor Show as the most extreme option in the supercar startup’s repertoire. Boasting a twin-charged 5.8-liter V8 engine, the TSR-S produces 1,177 horsepower and will hit 62 miles per hour in just 2.8 seconds. Expect to pay at least $1.7 million to get your hands on this powerful and limited supercar.',\n",
       " 'Price: $1.8 Million',\n",
       " 'The Hennessey Venom GT was a record-breaker, topping out at 265.7 miles per hour in a world record run. But the new F5 plans to beat its predecessor with an estimated top speed of 311 mph, and with that comes a higher price, too. The Venom F5 starts at $1.8 million, according to the company, which makes it just a bit pricier than its $1.2-million predecessor.',\n",
       " 'Price: $1.9 Million',\n",
       " 'With just 12 total units produced, the Bentley Bacalar makes some of the \"limited\" cars on this list look plentiful by comparison. Although the car’s opulent design may be the first thing to grab your attention, the Bacalar is no slouch in terms of performance either. With Bentley’s signature turbocharged 6.0-liter W12 turbocharged engine, this car delivers 650 horsepower and 664 pound-feet. If you have a spare $1.9 million lying around and are considering buying one, you’re already too late – Bentley says that every example is now in customer hands.',\n",
       " 'Price: $1.9 Million',\n",
       " \"To call the Hispano Suiza Carmen Boulogne beautiful would be... a stretch. But this interesting-looking supercar made its US debut at this year's Amelia Island Concours d'Elegance boasting a 1,114-horsepower electric powertrain and a 0-60 time of 2.6 seconds. The Boulogne version pictured here – the lighter and more powerful of the two – costs close to $1.9 million.\",\n",
       " 'Price: $2.0 Million',\n",
       " \"The electric onslaught is coming. Bentley says it will be a fully electric automaker by 2030. But before the luxury brand transitions to battery power fully, the Mulliner Batur helps send the iconic W12 engine off in style. With 710 horsepower from that twin-turbocharged engine, the Batur is the most powerful Bentley ever. And since it's limited to just 18 examples globally, the Batur costs a whopping $2.0 million.\",\n",
       " 'Price: $2.0 Million',\n",
       " 'The Deus Vayanne may not be a household name (yet), but the all-electric hypercar debuted earlier this year with 2,200 horsepower, a 0-60 time of just under 2.0 seconds, and an estimated top speed of 248 miles per hour. Deus plans to build 99 examples of the Vayanne, with the first few examples scheduled to go on sale in 2025.',\n",
       " 'Price: $2.0 Million*',\n",
       " 'Although initially cloaked in controversy, SSC did manage to hit 282.9 miles per hour with its Tuatara hypercar, breaking a world record. But not only is the Tuatara one of the fastest vehicles on the planet, it’s also one of the priciest. The cost for all that speed is estimated to be around $2.0 million for the base Tuatara, limited to just 100 units worldwide.',\n",
       " 'Price: $2.1 Million',\n",
       " 'With a new Emira sports car and an Eletre electric SUV, Lotus is on the brink of a comeback. The automaker plans to roll out a number of new products within the next few years, with part of that strategy including the range-topping Evija. This supercar comes in at a cool $2.1 million and produces nearly 2,000 horsepower via four electric motors. Lotus plans to build just 130 road-going examples of the Evija.',\n",
       " 'Price: $2.3 Million',\n",
       " 'As with a few other cars on this list, the Aston Martin Vulcan was a track-only special. The British supercar made its world debut in 2015, powered by a naturally aspirated 7.0-liter V12 that produced 820 horsepower, and limited to just 24 examples worldwide. An even more track-focused AMR Pro model followed, but even the base Vulcan was a pricey commodity, costing about $2.4-million from the factory.',\n",
       " 'Price: $2.3 Million',\n",
       " 'You may have heard of Delage before. In the early 1900s, this French automaker was competing on the track with Bugatti and Ferrari. Now Delage is back and with a beautiful new hypercar dubbed the D12. Powered by a 7.6-liter V12 engine, the new D12 produces upwards of 1,010 horsepower and costs a cool $2.3 million.',\n",
       " 'Price: $2.3 Million',\n",
       " \"What would you pay for the fastest production McLaren ever? Well, at least $2.3 million. With 1,035 horsepower courtesy of a gasoline-electric hybrid V8 powertrain, the Speedtail tops out at 250 miles per hour and is able to reach 186 mph in just 12.8 seconds – 2.7 seconds faster than the P1. Unfortunately, if you didn't get your hands on one new in 2020, you'll have to shell out serious cash on the used market. McLaren only built 106 examples.\",\n",
       " 'Price: $2.4 Million',\n",
       " 'The Rimac Nevera takes the title of most expensive EV with its $2.4 million price tag – but only by a few hundred thousand dollars over the next priciest electric supercar. Packing 1,914 horsepower and 1,740 pound-feet of torque, the Nevera can hit 60 in under 2.0 seconds and will continue on to a top speed of 258 miles per hour. Those lucky enough to order one should see it in their driveway before the end of 2022.',\n",
       " 'Price: $2.5 Million',\n",
       " 'First came the Zonda, then the Huayra, and now the Pagani Utopia. With 852 horsepower and an available seven-speed manual gearbox, the Utopia is the most powerful road-going Pagani ever produced and it’s limited to just 99 examples worldwide. The cost for one is a cool $2.5 million.',\n",
       " 'Price: $2.5 Million',\n",
       " 'Aptly named after the company’s founder, Battista Farina, the Pininfarina Battista delivers the kind of performance (and price!) to make its namesake proud. Revealed at the 2019 Geneva Motor Show, the Battista is completely electric, putting out 1,827 horsepower. If a normal supercar’s 0 to 60 time sounds too leisurely for you, the company says that the Battista will take you there in under 2.0 seconds. Pininfarina plans on building 150 examples of the Battista, costing $2.5 million each.',\n",
       " 'Price: $2.6 Million',\n",
       " \"Sure, you could buy a normal LaFerrari (which also makes the list further down), but why settle for a supercar so mundane when you can take home this track-only version instead? Granted, the Ferrari FXX K Evo came out in 2017, and it's well past the point of being sold out. But when it was new, this 1,036-horsepower Ferrari tore up the track with its naturally aspirated V12 and aggressive aerodynamics.\",\n",
       " 'Price: $2.6 Million',\n",
       " \"If the name Gordon Murray sounds familiar, it’s because he's the man behind the design of the iconic McLaren F1. These days, Mr. Murray has his own supercar venture, and the handsome T.50 is the crown jewel of the lineup. At $2.6 million, the T.50 packs a naturally aspirated 4.0-liter V12 that makes 654 horsepower. The car itself weighs a mere 2,174 pounds, and at 392 pounds, the T.50 has the lightest V12 on the road today.\",\n",
       " 'Price: $2.6 Million',\n",
       " \"The name Countach may be iconic, but is it worth $2.6 million? That's what Lamborghini hopes you will spend on its new Aventador-based model. Debuting in August of 2021, the Countach LPI 800-4 has a 6.5-liter V12 with a light hybrid assist that gives it a whopping 803 horsepower, allowing for a 60 time of 2.8 seconds and a top speed of more than 220 miles per hour.\",\n",
       " 'Price: $2.7 Million',\n",
       " 'Mercedes has promised a production version of the Project One hypercar for quite a while now. The first official announcement was in March of 2017 before the first concept debuted later that same year. But after nearly five years of teasing, it appears as if the Project One will finally hit public roads. And when it does, the hybrid hypercar will have over 1,200 horsepower (895 kilowatts) and a price tag of $2.7 million.',\n",
       " 'Price: $3.0 Million',\n",
       " 'The folks at Aston Martin know a thing or two about exclusive vehicles, and the Victor might be the most exclusive project for the British brand to date. Based on the One-77 platform, the Victor uses parts from several donor Astons including the track project Vulcan and the upcoming Valkyrie. And talking about limited production – the Victor is one-of-one and rumored to cost nearly $3 million.',\n",
       " '$3.0 Million',\n",
       " 'The same Hennessey Venom F5 hypercar we all know and love, but with less roof. The F5 Roadster has the same twin-turbocharged 6.6-liter V8 as the coupe, producing the same 1,817 horsepower and 1,193 pound-feet of torque. Hennessey estimates a top speed of over 300 miles per hour, but if you want one, it will cost you at least $3.0 million.',\n",
       " 'Price: $3.0 Million',\n",
       " \"The Koenigsegg Jesko, apart from being the fastest car the company has made to date, is also the most expensive. At $3.0 million out of the box, the handsome hypercar has 1,600-horsepower courtesy of the brand's ubiquitous twin-turbocharged 5.0-liter V8 engine. Opt for the Absolut model, and the Jesko, in theory, will be able to hit 300 miles per hour.\",\n",
       " 'Price: $3.2 Million',\n",
       " 'The upcoming Aston Martin hybrid hypercar hasn’t even hit the market yet, but already the $3.2 million Valkyrie has sold out. For what it’s worth, Aston Martin hasn’t officially released pricing. Estimates suggest the hypercar could go for anywhere between $2.6 and $3.9 million – but $3.2 million seems to be the magic number. Whatever the case, this machine is impressive. Its Cosworth-sourced 6.5-liter V12 produces 1,160 horsepower (865 kilowatts) and 664 pound-feet (900 Newton-meters) of torque, meaning its top speed should be well over 200 miles per hour (321 kilometers per hour). The company will build just 150 examples of the standard Valkyrie, with a limited 25-run AMR model arriving later.',\n",
       " 'Price: $3.4 Million',\n",
       " \"Dubai-based W Motors shocked the world with its edgy Lykan Hypersport supercar in 2013. With titanium LED headlights housing 420 15-carat diamonds and a holographic display in the center console, it's no surprise it was the third most expensive car ever when new. It falls to number six on our list here, but it's still a wild hypercar with a powerful heart; the twin-turbocharged 3.7-liter six-cylinder engine underhood produces 780 horsepower (581 kilowatts) and 708 (960 Newton-meters) of torque.\",\n",
       " '$3.5 Million',\n",
       " 'One seat, 829 horsepower, and a top speed of over 200 miles per hour. The new McLaren Solus is about as close as you can get to a Formula 1 car from the factory, powered by a naturally aspirated 5.2-liter V10 engine with a 0-62 mile-per-hour time of just 2.5 seconds. Estimates suggest a McLaren Solus will set you back about $3.5 million.',\n",
       " 'Price: $3.5 Million',\n",
       " 'Following Pagani’s past playbook, a roadster version of the ferocious Huayra BC was inevitable. Last year, the company made it official by showing off the Huayra Roadster BC, a topless monster with 800 horsepower (597 kilowatts) and 774 lb-ft of torque (1049 Newton-meters). Somewhat surprisingly, Pagani gave the roadster 50 more horsepower than its coupe sibling, by cranking up its AMG-sourced twin-turbocharged 6.0-liter V12. In addition to the joy of hearing the glorious engine note without a roof in the way, owners should take comfort in knowing that their car is ultra-rare. Pagani is limiting production to just 40 units, each with a sticker price of $3.5 million.',\n",
       " 'Price: $3.6 Million',\n",
       " 'Another showstopper from the Geneva Motor Show that never was, the Bugatti Chiron Pur Sport is a special edition Chiron with a focus on aerodynamics, weight reduction, and power distribution. It’s the same 8.0-liter quad-turbo W16 engine underneath the skin but it’s now mated to a recalibrated automatic gearbox. While the peak output remains unchanged at 1,500 horsepower (1,103 kilowatts), the rpm redline has been set 200 rpm higher, up to 6,900 rpm. The Pur Sport also features slightly revised bodywork, with a bigger rear wing and more aerodynamic front fascia. Beginning production in late 2020, the Bugatti starts at $3.6 million.',\n",
       " 'Price: $3.6 million',\n",
       " 'In several ways, the Sian represents a bridge to Lamborghini’s future. Though it’s based on the Aventador SVJ, this wild-looking Lambo is the brand’s first production electrified offering. In addition to the SVJ-sourced 6.5-liter V12, the Sian uses a 48-volt mild-hybrid system. Total system output is 819 horsepower (611 kilowatts), which also makes it the most powerful Lamborghini ever. As confirmed by the 63 stuck on either side of the Sian’s wing, Lamborghini will produce just 63 units. And each will cost far more than the Aventador SVJ, carrying a price of $3.6 million.',\n",
       " 'Price: $3.7 Million',\n",
       " 'The Koenigsegg CC850 was a surprise to be sure, but a welcomed one. Borrowing the twin-turbocharged 5.0-liter V8 from the Jesko, it notches that output up to 1,385 horsepower and 1,022 pound-feet of torque, with a so-called “TWMPAFMPC” transmission that shifts (pun intended) between manual and automatic functions. Of course, all that performance technology will cost you; the CC850 starts at $3.7 million.',\n",
       " 'Price: $3.9 Million',\n",
       " 'Earlier this year, Bugatti captured the collective attention of the automotive world by announcing that it broke the 300 miles per hour barrier with a modified version of the Chiron. The Super Sport 300 + is a road-going version of that car, meant to celebrate the occasion. Limited to just 30 units, the Super Sport 300+ is a beautiful version of the Chiron, with flowing, slippery bodywork and a sweet stripe motif. Even with 300 in the name, Bugatti is limiting the top speed of each car to \"just\" 277 mph. Production starts this year.',\n",
       " 'Price: $4.5 Million',\n",
       " \"Lamborghini built just 14 examples of the Aventador-based Veneno between 2014 and 2015. Each one cost around $4.5 million, depending on how it was spec'd, and was available in both convertible and coupe configurations. Underhood Lamborghini fitted a more-powerful iteration of the Aventador's 6.5-liter V12, now producing 740 horsepower (552 kilowatts) and 509 pound-feet (609 Newton-meters) of torque, which gave it the ability to sprint to 60 miles per hour (96 kilometers per hour) in a blistering 2.9 seconds. To date, it’s the most expensive new Lamborghini ever.\",\n",
       " 'Price: $4.7 Million',\n",
       " \"Produced in extremely limited numbers atop the body of a Chiron, it's no wonder Bugatti's one-of-40 Bolide track car is this pricey. At $4.7 million, the 1,824-horsepower hypercar has more power than the Chiron Super Sport 300+, and more extreme bodywork that allow it to lap tracks like the Nurburgring in record time (in theory). Bugatti says the Bolide would be able to conquer the ‘Ring in record time.\",\n",
       " 'Price: $5.0 Million',\n",
       " 'The Bugatti Mistral sends the iconic W16 engine off in style. With 1,577 horsepower and no roof, the Mistral takes the best bits of the Chiron and borrows elements from the Bolide and Divo to create a truly unique roadster. Of course, Bugatti plans to build just 99 examples of the Mistral at the cost of around $5.0 million in the US – and all of them are already accounted for.',\n",
       " 'Price: $5.4 Million',\n",
       " 'Even though the new Utopia marks the next big step for Pagani, the Huayra Imola packs nearly as much power with a twin-turbocharged 6.0-liter V12 engine producing 827 horsepower and 811 pound-feet of torque. The Huayra Imola is estimated to cost around $5.4 million new, which would make it the second most expensive Pagani of all time.',\n",
       " 'Price: $5.8 Million',\n",
       " 'Among Bugatti’s recently debuted vehicles, the Divo is a staff favorite. Though it shares much in common with its cheaper (!) sibling the Chiron, the Divo has a lot going for it to justify the extra money. By adding lighter wheels, a carbon fiber intercooler and removing some sound deadening, Bugatti made the Divo 77 pounds lighter than the Chiron. Though power is unchanged from the Chiron’s 1,500 ponies (1,119 kilowatts), The Divo features a different aerodynamic setup, which makes it 8 seconds quicker around the Nardo test track. Finally, the moment you’ve been waiting for: Bugatti is making 40 examples of the car, each costing $5.8 million.',\n",
       " 'Price: $6.4 Million',\n",
       " \"SP Automotive (short for Spyros Panopoulos) is a new name in the world of hypercars, but the brand's 2,000-horsepower, $6.4-million, aptly named Chaos has already made an impact. With a twin-turbocharged 4.0-liter V10, the base SP Automotive Chaos is one of the most expensive cars on this list – beating out many Lambos and Bugattis – but there's an even pricier version of this car that costs an eye-watering $14.4 million. That version reportedly packs 3,000 hp.\",\n",
       " 'Price: $7.4 Million',\n",
       " 'The long list of pricey (new) Paganis ends with the Codualunga. Inspired by 1960s Italian coachbuilding, the stunning exterior and steampunk-esque interior – while equally stunning – are only part of what makes this Pagani so pricey. Under the hood is a twin-turbocharged 6.0-liter V12 producing 829 horsepower and 809 pound-feet of torque, paired to a seven-speed sequential transmission for a real race-car–like feel. The cost for this one-of-five Pagani is $7.4 million.',\n",
       " 'Price: $8.0 Million',\n",
       " \"Like many others before it, the Mercedes-Benz Maybach Exelero is a one-off. Commissioned by Fulda, a German subsidiary of Goodyear, to test its new tires, the Exlero debuted in 2004. Mercedes built the Exelero on the bones of a Maybach, and gave it the same twin-turbo V12 engine producing 690 horsepower (510 kilowatts) and 752 pound-feet (1,020 Newton-meters) of torque. Top speed is listed at 218 miles per hour (350 kilometers per hour) and adjusted for inflation, the Exelero would cost more than $10 million in today's money.\",\n",
       " 'Price: $9.0 Million',\n",
       " 'Bugatti debuted the Centodieci at last year’s Pebble Beach car week, showing off yet another ultra-rare, super-expensive model to the world. Limited to just 10 – dieci – units, the car is a modern throwback to the Bugatti EB110. At the same time, it’s meant to celebrate Bugatti’s momentous 110-year anniversary. Its unique styling cues won’t make everyone fall in love, but at least you won’t have to worry about seeing another one on the road. Carrying a price just shy of $9 million, the Centodiece is one of the most exclusive cars ever made.',\n",
       " 'Price: $12.8 Million',\n",
       " \"Rolls-Royce, expectedly, takes two of the top three spots on this list, with the stunning Sweptail one-off from 2017 coming in at number three. With a monumental price tag of $13.0 million, it was, at the time of its debut, the most expensive new car ever. It's been outpriced since then, but the 453-horsepower luxury car is still a jaw-dropper.\"]"
      ]
     },
     "execution_count": 166,
     "metadata": {},
     "output_type": "execute_result"
    }
   ],
   "source": [
    "des"
   ]
  },
  {
   "cell_type": "code",
   "execution_count": 174,
   "id": "27c467b0",
   "metadata": {},
   "outputs": [],
   "source": [
    "des2 = []\n",
    "i=0\n",
    "\n",
    "while(i < len(des)):\n",
    "    if(i % 2 == 0):\n",
    "        des3 = des2.append(des[i])\n",
    "    i = i + 1\n",
    "    "
   ]
  },
  {
   "cell_type": "code",
   "execution_count": 189,
   "id": "ec1a8fd2",
   "metadata": {},
   "outputs": [],
   "source": [
    "price2 = []\n",
    "i=0\n",
    "\n",
    "while(i < len(des)):\n",
    "    if(i % 2 == 1):\n",
    "        des3 = price2.append(des[i])\n",
    "    i = i + 1\n",
    "    "
   ]
  },
  {
   "cell_type": "code",
   "execution_count": 192,
   "id": "6a57598c",
   "metadata": {},
   "outputs": [
    {
     "data": {
      "text/plain": [
       "\"With a price tag of $13.4 million, the one-off Bugatti La Voiture Noire is officially the most expensive new Bugatti ever made. And understandably so. A modern interpretation of Jean Bugatti's personal Type 57 SC Atlantic, the La Voiture Noire uses the same quad-turbocharged 8.0-liter W16 engine as the Chiron, producing 1,479 horsepower. It has six – that's right, six exhaust tips, radical new wheels, an aggressive, bespoke fascia, and a gigantic light-up badge in the rear that spells out the name of the brand. Of course, this one-of-one Bugatti already has a home.\""
      ]
     },
     "execution_count": 192,
     "metadata": {},
     "output_type": "execute_result"
    }
   ],
   "source": [
    "price2.pop()"
   ]
  },
  {
   "cell_type": "code",
   "execution_count": 197,
   "id": "343c844c",
   "metadata": {},
   "outputs": [],
   "source": [
    "price2 = [i.replace('Price: ','') for i in price2]"
   ]
  },
  {
   "cell_type": "code",
   "execution_count": 199,
   "id": "85a81b8e",
   "metadata": {},
   "outputs": [
    {
     "data": {
      "text/plain": [
       "['$1.3 Million',\n",
       " '$1.4 Million',\n",
       " '$1.4 Million',\n",
       " '$1.7 Million',\n",
       " '$1.7 Million',\n",
       " '$1.7 Million',\n",
       " '$1.7 Million',\n",
       " '$1.7 Million',\n",
       " '$1.7 Million',\n",
       " '$1.8 Million',\n",
       " '$1.9 Million',\n",
       " '$1.9 Million',\n",
       " '$2.0 Million',\n",
       " '$2.0 Million',\n",
       " '$2.0 Million*',\n",
       " '$2.1 Million',\n",
       " '$2.3 Million',\n",
       " '$2.3 Million',\n",
       " '$2.3 Million',\n",
       " '$2.4 Million',\n",
       " '$2.5 Million',\n",
       " '$2.5 Million',\n",
       " '$2.6 Million',\n",
       " '$2.6 Million',\n",
       " '$2.6 Million',\n",
       " '$2.7 Million',\n",
       " '$3.0 Million',\n",
       " '$3.0 Million',\n",
       " '$3.0 Million',\n",
       " '$3.2 Million',\n",
       " '$3.4 Million',\n",
       " '$3.5 Million',\n",
       " '$3.5 Million',\n",
       " '$3.6 Million',\n",
       " '$3.6 million',\n",
       " '$3.7 Million',\n",
       " '$3.9 Million',\n",
       " '$4.5 Million',\n",
       " '$4.7 Million',\n",
       " '$5.0 Million',\n",
       " '$5.4 Million',\n",
       " '$5.8 Million',\n",
       " '$6.4 Million',\n",
       " '$7.4 Million',\n",
       " '$8.0 Million',\n",
       " '$9.0 Million',\n",
       " '$12.8 Million']"
      ]
     },
     "execution_count": 199,
     "metadata": {},
     "output_type": "execute_result"
    }
   ],
   "source": [
    "price2"
   ]
  },
  {
   "cell_type": "code",
   "execution_count": 200,
   "id": "35545eff",
   "metadata": {},
   "outputs": [
    {
     "data": {
      "text/plain": [
       "47"
      ]
     },
     "execution_count": 200,
     "metadata": {},
     "output_type": "execute_result"
    }
   ],
   "source": [
    "len(price2)"
   ]
  },
  {
   "cell_type": "code",
   "execution_count": 175,
   "id": "a9393f95",
   "metadata": {},
   "outputs": [
    {
     "data": {
      "text/plain": [
       "['The Drako GTE is a super sedan in every sense of the word. Packing 1,200 horsepower and a whopping 6,491 pound-feet of torque from a fully electric powertrain, the GTE can hit 60 in just about 2.0 seconds and tops out at 206 miles per hour. The cost for this family-friendly rocket is a cool $1.2 million.',\n",
       " 'The De Tomaso P72 is basically the definition of beautiful. The shapely supercar debuted at the 2019 Goodwood Festival Of Speed with a supercharged Ford V8 boasting 700 horsepower. The P72 marked the return of the DeTomaso brand after nearly 30 years on hiatus, and if you want one, it will cost you at least $1.3 million.',\n",
       " 'At $1.4 million new, the Ferrari LaFerrari is actually one of the most affordable supercars on this list. It’s a bargain compared to the most expensive vehicle here. Debuting in 2013 with 950 hybrid horses (708 kilowatts) and a top speed of around 220 miles per hour (354 kilometers per hour), this is still Ferrari’s fastest and most powerful production model to date. The company built just 499 examples of the coupe between 2013 and 2016.',\n",
       " 'Inarguably one of the prettiest cars on this list, the Pagani Huayra cost a cool $1.4 million when new. Like the LaFerrari, Pagani built the Huayra in extremely limited numbers. The company hand-constructed just 100 units of the coupe between 2012 and 2018, with another 20 versions of the BC model (which makes our list further down) between 2017 and 2019. Powering each and every example was a Mercedes-AMG V12 capable of 720 horsepower (537 kilowatts).',\n",
       " 'The McLaren Elva is one of the latest additions to the British supercar maker’s storied legacy. Even without a proper windshield (though, no option) or roof to rely on, the Elva produces 804 horsepower and 590 pound-feet of torque from its twin-turbocharged 4.0-liter V8. Originally McLaren announced just 399 units, but later the company dropped that to an even more scarce 249 examples. Either way, most of you will never get your hands on one – the Elva costs $1.7 million.',\n",
       " 'You might not know the name Czinger yet, but this California-based boutique automaker is responsible for the $1.7 million 21C supercar. With 1,250 horsepower on tap thanks to a 2.9-liter twin-turbocharged V8, the 21C can rocket to 60 miles per hour in 1.9 seconds and a top speed of around 281 miles per hour.',\n",
       " 'Much like the roof-less McLaren Elva, the Ferrari Monza SP1 and SP2 are all about al fresco motoring. As the name implies, the SP1 is the single-seater option while the SP2 has just enough room for you to bring along a friend. Both cars come powered by the same naturally aspirated 6.5-liter V12 engine capable of 809 horsepower and 530 pound-feet. Unfortunately for US buyers, neither of these models are street legal in the States. But f you have the funds to afford the car’s $1.75 million price tag, getting onto a track probably won’t be an issue anyway.',\n",
       " \"The second and slightly more affordable supercar in the new Gordon Murray lineup is the T.33. With 607 horsepower courtesy of a naturally aspirated 3.9-liter V12, the T.33 revs to a ridiculous 10,500 RPM. With a price tag of around $1.7 million at current conversion rates, Gordon Murray automotive promises to sell this car globally, in both right- and left-hand-drive configurations. Too bad it's already sold out.\",\n",
       " 'One of two Koenigsegg models on this list, the Gemera is actually the Swedish supercar maker’s first four-seater. But that doesn’t mean it’s some family car. With a twin-turbocharged 2.0-liter engine under the hood and three electric motors, the Gemera has 1,700 horsepower and will hit 60 in just 1.9 seconds. The company only plans to build 300 of them, each one costing at least $1.7 million.',\n",
       " 'Hailing from Denmark, the Zenvo TSR-S debuted in 2018 at the Geneva Motor Show as the most extreme option in the supercar startup’s repertoire. Boasting a twin-charged 5.8-liter V8 engine, the TSR-S produces 1,177 horsepower and will hit 62 miles per hour in just 2.8 seconds. Expect to pay at least $1.7 million to get your hands on this powerful and limited supercar.',\n",
       " 'The Hennessey Venom GT was a record-breaker, topping out at 265.7 miles per hour in a world record run. But the new F5 plans to beat its predecessor with an estimated top speed of 311 mph, and with that comes a higher price, too. The Venom F5 starts at $1.8 million, according to the company, which makes it just a bit pricier than its $1.2-million predecessor.',\n",
       " 'With just 12 total units produced, the Bentley Bacalar makes some of the \"limited\" cars on this list look plentiful by comparison. Although the car’s opulent design may be the first thing to grab your attention, the Bacalar is no slouch in terms of performance either. With Bentley’s signature turbocharged 6.0-liter W12 turbocharged engine, this car delivers 650 horsepower and 664 pound-feet. If you have a spare $1.9 million lying around and are considering buying one, you’re already too late – Bentley says that every example is now in customer hands.',\n",
       " \"To call the Hispano Suiza Carmen Boulogne beautiful would be... a stretch. But this interesting-looking supercar made its US debut at this year's Amelia Island Concours d'Elegance boasting a 1,114-horsepower electric powertrain and a 0-60 time of 2.6 seconds. The Boulogne version pictured here – the lighter and more powerful of the two – costs close to $1.9 million.\",\n",
       " \"The electric onslaught is coming. Bentley says it will be a fully electric automaker by 2030. But before the luxury brand transitions to battery power fully, the Mulliner Batur helps send the iconic W12 engine off in style. With 710 horsepower from that twin-turbocharged engine, the Batur is the most powerful Bentley ever. And since it's limited to just 18 examples globally, the Batur costs a whopping $2.0 million.\",\n",
       " 'The Deus Vayanne may not be a household name (yet), but the all-electric hypercar debuted earlier this year with 2,200 horsepower, a 0-60 time of just under 2.0 seconds, and an estimated top speed of 248 miles per hour. Deus plans to build 99 examples of the Vayanne, with the first few examples scheduled to go on sale in 2025.',\n",
       " 'Although initially cloaked in controversy, SSC did manage to hit 282.9 miles per hour with its Tuatara hypercar, breaking a world record. But not only is the Tuatara one of the fastest vehicles on the planet, it’s also one of the priciest. The cost for all that speed is estimated to be around $2.0 million for the base Tuatara, limited to just 100 units worldwide.',\n",
       " 'With a new Emira sports car and an Eletre electric SUV, Lotus is on the brink of a comeback. The automaker plans to roll out a number of new products within the next few years, with part of that strategy including the range-topping Evija. This supercar comes in at a cool $2.1 million and produces nearly 2,000 horsepower via four electric motors. Lotus plans to build just 130 road-going examples of the Evija.',\n",
       " 'As with a few other cars on this list, the Aston Martin Vulcan was a track-only special. The British supercar made its world debut in 2015, powered by a naturally aspirated 7.0-liter V12 that produced 820 horsepower, and limited to just 24 examples worldwide. An even more track-focused AMR Pro model followed, but even the base Vulcan was a pricey commodity, costing about $2.4-million from the factory.',\n",
       " 'You may have heard of Delage before. In the early 1900s, this French automaker was competing on the track with Bugatti and Ferrari. Now Delage is back and with a beautiful new hypercar dubbed the D12. Powered by a 7.6-liter V12 engine, the new D12 produces upwards of 1,010 horsepower and costs a cool $2.3 million.',\n",
       " \"What would you pay for the fastest production McLaren ever? Well, at least $2.3 million. With 1,035 horsepower courtesy of a gasoline-electric hybrid V8 powertrain, the Speedtail tops out at 250 miles per hour and is able to reach 186 mph in just 12.8 seconds – 2.7 seconds faster than the P1. Unfortunately, if you didn't get your hands on one new in 2020, you'll have to shell out serious cash on the used market. McLaren only built 106 examples.\",\n",
       " 'The Rimac Nevera takes the title of most expensive EV with its $2.4 million price tag – but only by a few hundred thousand dollars over the next priciest electric supercar. Packing 1,914 horsepower and 1,740 pound-feet of torque, the Nevera can hit 60 in under 2.0 seconds and will continue on to a top speed of 258 miles per hour. Those lucky enough to order one should see it in their driveway before the end of 2022.',\n",
       " 'First came the Zonda, then the Huayra, and now the Pagani Utopia. With 852 horsepower and an available seven-speed manual gearbox, the Utopia is the most powerful road-going Pagani ever produced and it’s limited to just 99 examples worldwide. The cost for one is a cool $2.5 million.',\n",
       " 'Aptly named after the company’s founder, Battista Farina, the Pininfarina Battista delivers the kind of performance (and price!) to make its namesake proud. Revealed at the 2019 Geneva Motor Show, the Battista is completely electric, putting out 1,827 horsepower. If a normal supercar’s 0 to 60 time sounds too leisurely for you, the company says that the Battista will take you there in under 2.0 seconds. Pininfarina plans on building 150 examples of the Battista, costing $2.5 million each.',\n",
       " \"Sure, you could buy a normal LaFerrari (which also makes the list further down), but why settle for a supercar so mundane when you can take home this track-only version instead? Granted, the Ferrari FXX K Evo came out in 2017, and it's well past the point of being sold out. But when it was new, this 1,036-horsepower Ferrari tore up the track with its naturally aspirated V12 and aggressive aerodynamics.\",\n",
       " \"If the name Gordon Murray sounds familiar, it’s because he's the man behind the design of the iconic McLaren F1. These days, Mr. Murray has his own supercar venture, and the handsome T.50 is the crown jewel of the lineup. At $2.6 million, the T.50 packs a naturally aspirated 4.0-liter V12 that makes 654 horsepower. The car itself weighs a mere 2,174 pounds, and at 392 pounds, the T.50 has the lightest V12 on the road today.\",\n",
       " \"The name Countach may be iconic, but is it worth $2.6 million? That's what Lamborghini hopes you will spend on its new Aventador-based model. Debuting in August of 2021, the Countach LPI 800-4 has a 6.5-liter V12 with a light hybrid assist that gives it a whopping 803 horsepower, allowing for a 60 time of 2.8 seconds and a top speed of more than 220 miles per hour.\",\n",
       " 'Mercedes has promised a production version of the Project One hypercar for quite a while now. The first official announcement was in March of 2017 before the first concept debuted later that same year. But after nearly five years of teasing, it appears as if the Project One will finally hit public roads. And when it does, the hybrid hypercar will have over 1,200 horsepower (895 kilowatts) and a price tag of $2.7 million.',\n",
       " 'The folks at Aston Martin know a thing or two about exclusive vehicles, and the Victor might be the most exclusive project for the British brand to date. Based on the One-77 platform, the Victor uses parts from several donor Astons including the track project Vulcan and the upcoming Valkyrie. And talking about limited production – the Victor is one-of-one and rumored to cost nearly $3 million.',\n",
       " 'The same Hennessey Venom F5 hypercar we all know and love, but with less roof. The F5 Roadster has the same twin-turbocharged 6.6-liter V8 as the coupe, producing the same 1,817 horsepower and 1,193 pound-feet of torque. Hennessey estimates a top speed of over 300 miles per hour, but if you want one, it will cost you at least $3.0 million.',\n",
       " \"The Koenigsegg Jesko, apart from being the fastest car the company has made to date, is also the most expensive. At $3.0 million out of the box, the handsome hypercar has 1,600-horsepower courtesy of the brand's ubiquitous twin-turbocharged 5.0-liter V8 engine. Opt for the Absolut model, and the Jesko, in theory, will be able to hit 300 miles per hour.\",\n",
       " 'The upcoming Aston Martin hybrid hypercar hasn’t even hit the market yet, but already the $3.2 million Valkyrie has sold out. For what it’s worth, Aston Martin hasn’t officially released pricing. Estimates suggest the hypercar could go for anywhere between $2.6 and $3.9 million – but $3.2 million seems to be the magic number. Whatever the case, this machine is impressive. Its Cosworth-sourced 6.5-liter V12 produces 1,160 horsepower (865 kilowatts) and 664 pound-feet (900 Newton-meters) of torque, meaning its top speed should be well over 200 miles per hour (321 kilometers per hour). The company will build just 150 examples of the standard Valkyrie, with a limited 25-run AMR model arriving later.',\n",
       " \"Dubai-based W Motors shocked the world with its edgy Lykan Hypersport supercar in 2013. With titanium LED headlights housing 420 15-carat diamonds and a holographic display in the center console, it's no surprise it was the third most expensive car ever when new. It falls to number six on our list here, but it's still a wild hypercar with a powerful heart; the twin-turbocharged 3.7-liter six-cylinder engine underhood produces 780 horsepower (581 kilowatts) and 708 (960 Newton-meters) of torque.\",\n",
       " 'One seat, 829 horsepower, and a top speed of over 200 miles per hour. The new McLaren Solus is about as close as you can get to a Formula 1 car from the factory, powered by a naturally aspirated 5.2-liter V10 engine with a 0-62 mile-per-hour time of just 2.5 seconds. Estimates suggest a McLaren Solus will set you back about $3.5 million.',\n",
       " 'Following Pagani’s past playbook, a roadster version of the ferocious Huayra BC was inevitable. Last year, the company made it official by showing off the Huayra Roadster BC, a topless monster with 800 horsepower (597 kilowatts) and 774 lb-ft of torque (1049 Newton-meters). Somewhat surprisingly, Pagani gave the roadster 50 more horsepower than its coupe sibling, by cranking up its AMG-sourced twin-turbocharged 6.0-liter V12. In addition to the joy of hearing the glorious engine note without a roof in the way, owners should take comfort in knowing that their car is ultra-rare. Pagani is limiting production to just 40 units, each with a sticker price of $3.5 million.',\n",
       " 'Another showstopper from the Geneva Motor Show that never was, the Bugatti Chiron Pur Sport is a special edition Chiron with a focus on aerodynamics, weight reduction, and power distribution. It’s the same 8.0-liter quad-turbo W16 engine underneath the skin but it’s now mated to a recalibrated automatic gearbox. While the peak output remains unchanged at 1,500 horsepower (1,103 kilowatts), the rpm redline has been set 200 rpm higher, up to 6,900 rpm. The Pur Sport also features slightly revised bodywork, with a bigger rear wing and more aerodynamic front fascia. Beginning production in late 2020, the Bugatti starts at $3.6 million.',\n",
       " 'In several ways, the Sian represents a bridge to Lamborghini’s future. Though it’s based on the Aventador SVJ, this wild-looking Lambo is the brand’s first production electrified offering. In addition to the SVJ-sourced 6.5-liter V12, the Sian uses a 48-volt mild-hybrid system. Total system output is 819 horsepower (611 kilowatts), which also makes it the most powerful Lamborghini ever. As confirmed by the 63 stuck on either side of the Sian’s wing, Lamborghini will produce just 63 units. And each will cost far more than the Aventador SVJ, carrying a price of $3.6 million.',\n",
       " 'The Koenigsegg CC850 was a surprise to be sure, but a welcomed one. Borrowing the twin-turbocharged 5.0-liter V8 from the Jesko, it notches that output up to 1,385 horsepower and 1,022 pound-feet of torque, with a so-called “TWMPAFMPC” transmission that shifts (pun intended) between manual and automatic functions. Of course, all that performance technology will cost you; the CC850 starts at $3.7 million.',\n",
       " 'Earlier this year, Bugatti captured the collective attention of the automotive world by announcing that it broke the 300 miles per hour barrier with a modified version of the Chiron. The Super Sport 300 + is a road-going version of that car, meant to celebrate the occasion. Limited to just 30 units, the Super Sport 300+ is a beautiful version of the Chiron, with flowing, slippery bodywork and a sweet stripe motif. Even with 300 in the name, Bugatti is limiting the top speed of each car to \"just\" 277 mph. Production starts this year.',\n",
       " \"Lamborghini built just 14 examples of the Aventador-based Veneno between 2014 and 2015. Each one cost around $4.5 million, depending on how it was spec'd, and was available in both convertible and coupe configurations. Underhood Lamborghini fitted a more-powerful iteration of the Aventador's 6.5-liter V12, now producing 740 horsepower (552 kilowatts) and 509 pound-feet (609 Newton-meters) of torque, which gave it the ability to sprint to 60 miles per hour (96 kilometers per hour) in a blistering 2.9 seconds. To date, it’s the most expensive new Lamborghini ever.\",\n",
       " \"Produced in extremely limited numbers atop the body of a Chiron, it's no wonder Bugatti's one-of-40 Bolide track car is this pricey. At $4.7 million, the 1,824-horsepower hypercar has more power than the Chiron Super Sport 300+, and more extreme bodywork that allow it to lap tracks like the Nurburgring in record time (in theory). Bugatti says the Bolide would be able to conquer the ‘Ring in record time.\",\n",
       " 'The Bugatti Mistral sends the iconic W16 engine off in style. With 1,577 horsepower and no roof, the Mistral takes the best bits of the Chiron and borrows elements from the Bolide and Divo to create a truly unique roadster. Of course, Bugatti plans to build just 99 examples of the Mistral at the cost of around $5.0 million in the US – and all of them are already accounted for.',\n",
       " 'Even though the new Utopia marks the next big step for Pagani, the Huayra Imola packs nearly as much power with a twin-turbocharged 6.0-liter V12 engine producing 827 horsepower and 811 pound-feet of torque. The Huayra Imola is estimated to cost around $5.4 million new, which would make it the second most expensive Pagani of all time.',\n",
       " 'Among Bugatti’s recently debuted vehicles, the Divo is a staff favorite. Though it shares much in common with its cheaper (!) sibling the Chiron, the Divo has a lot going for it to justify the extra money. By adding lighter wheels, a carbon fiber intercooler and removing some sound deadening, Bugatti made the Divo 77 pounds lighter than the Chiron. Though power is unchanged from the Chiron’s 1,500 ponies (1,119 kilowatts), The Divo features a different aerodynamic setup, which makes it 8 seconds quicker around the Nardo test track. Finally, the moment you’ve been waiting for: Bugatti is making 40 examples of the car, each costing $5.8 million.',\n",
       " \"SP Automotive (short for Spyros Panopoulos) is a new name in the world of hypercars, but the brand's 2,000-horsepower, $6.4-million, aptly named Chaos has already made an impact. With a twin-turbocharged 4.0-liter V10, the base SP Automotive Chaos is one of the most expensive cars on this list – beating out many Lambos and Bugattis – but there's an even pricier version of this car that costs an eye-watering $14.4 million. That version reportedly packs 3,000 hp.\",\n",
       " 'The long list of pricey (new) Paganis ends with the Codualunga. Inspired by 1960s Italian coachbuilding, the stunning exterior and steampunk-esque interior – while equally stunning – are only part of what makes this Pagani so pricey. Under the hood is a twin-turbocharged 6.0-liter V12 producing 829 horsepower and 809 pound-feet of torque, paired to a seven-speed sequential transmission for a real race-car–like feel. The cost for this one-of-five Pagani is $7.4 million.',\n",
       " \"Like many others before it, the Mercedes-Benz Maybach Exelero is a one-off. Commissioned by Fulda, a German subsidiary of Goodyear, to test its new tires, the Exlero debuted in 2004. Mercedes built the Exelero on the bones of a Maybach, and gave it the same twin-turbo V12 engine producing 690 horsepower (510 kilowatts) and 752 pound-feet (1,020 Newton-meters) of torque. Top speed is listed at 218 miles per hour (350 kilometers per hour) and adjusted for inflation, the Exelero would cost more than $10 million in today's money.\",\n",
       " 'Bugatti debuted the Centodieci at last year’s Pebble Beach car week, showing off yet another ultra-rare, super-expensive model to the world. Limited to just 10 – dieci – units, the car is a modern throwback to the Bugatti EB110. At the same time, it’s meant to celebrate Bugatti’s momentous 110-year anniversary. Its unique styling cues won’t make everyone fall in love, but at least you won’t have to worry about seeing another one on the road. Carrying a price just shy of $9 million, the Centodiece is one of the most exclusive cars ever made.',\n",
       " \"Rolls-Royce, expectedly, takes two of the top three spots on this list, with the stunning Sweptail one-off from 2017 coming in at number three. With a monumental price tag of $13.0 million, it was, at the time of its debut, the most expensive new car ever. It's been outpriced since then, but the 453-horsepower luxury car is still a jaw-dropper.\"]"
      ]
     },
     "execution_count": 175,
     "metadata": {},
     "output_type": "execute_result"
    }
   ],
   "source": [
    "des2"
   ]
  },
  {
   "cell_type": "code",
   "execution_count": 176,
   "id": "8b45254f",
   "metadata": {},
   "outputs": [
    {
     "data": {
      "text/plain": [
       "48"
      ]
     },
     "execution_count": 176,
     "metadata": {},
     "output_type": "execute_result"
    }
   ],
   "source": [
    "len(des2)"
   ]
  },
  {
   "cell_type": "code",
   "execution_count": 178,
   "id": "6963391f",
   "metadata": {},
   "outputs": [],
   "source": [
    "des_xpath49= driver.find_element(By.XPATH,'(//div[@class=\"postBody description e-content\"]//p)[102]')"
   ]
  },
  {
   "cell_type": "code",
   "execution_count": 182,
   "id": "150f5216",
   "metadata": {},
   "outputs": [],
   "source": [
    "des2.append(des_xpath49.text)"
   ]
  },
  {
   "cell_type": "code",
   "execution_count": 180,
   "id": "42970e8c",
   "metadata": {},
   "outputs": [],
   "source": [
    "des_xpath50= driver.find_element(By.XPATH,'(//div[@class=\"postBody description e-content\"]//p)[104]')"
   ]
  },
  {
   "cell_type": "code",
   "execution_count": 183,
   "id": "2cecec42",
   "metadata": {},
   "outputs": [],
   "source": [
    "des2.append(des_xpath50.text)"
   ]
  },
  {
   "cell_type": "code",
   "execution_count": 185,
   "id": "967db515",
   "metadata": {},
   "outputs": [
    {
     "data": {
      "text/plain": [
       "50"
      ]
     },
     "execution_count": 185,
     "metadata": {},
     "output_type": "execute_result"
    }
   ],
   "source": [
    "len(des2)"
   ]
  },
  {
   "cell_type": "code",
   "execution_count": 187,
   "id": "797d219e",
   "metadata": {},
   "outputs": [
    {
     "data": {
      "text/plain": [
       "['Drako GTE',\n",
       " 'De Tomaso P72',\n",
       " 'Ferrari LaFerrari',\n",
       " 'Pagani Huayra',\n",
       " 'McLaren Elva',\n",
       " 'Czinger 21C',\n",
       " 'Ferrari Monza',\n",
       " 'Gordon Murray T.33',\n",
       " 'Koenigsegg Gemera',\n",
       " 'Zenvo TSR-S',\n",
       " 'Hennessey Venom F5',\n",
       " 'Bentley Bacalar',\n",
       " 'Hispano Suiza Carmen Boulogne',\n",
       " 'Bentley Mulliner Batur',\n",
       " 'Deus Vayanne',\n",
       " 'SSC Tuatara',\n",
       " 'Lotus Evija',\n",
       " 'Aston Martin Vulcan',\n",
       " 'Delage D12',\n",
       " 'McLaren Speedtail',\n",
       " 'Rimac Nevera',\n",
       " 'Pagani Utopia',\n",
       " 'Pininfarina Battista',\n",
       " 'Ferrari FXX K Evo',\n",
       " 'Gordon Murray T.50',\n",
       " 'Lamborghini Countach',\n",
       " 'Mercedes-AMG Project One',\n",
       " 'Aston Martin Victor',\n",
       " 'Hennessey Venom F5 Roadster',\n",
       " 'Koenigsegg Jesko',\n",
       " 'Aston Martin Valkyrie',\n",
       " 'W Motors Lykan Hypersport',\n",
       " 'McLaren Solus',\n",
       " 'Pagani Huayra Roadster BC',\n",
       " 'Bugatti Chiron Pur Sport',\n",
       " 'Lamborghini Sian',\n",
       " 'Koenigsegg CC850',\n",
       " 'Bugatti Chiron Super Sport 300+',\n",
       " 'Lamborghini Veneno',\n",
       " 'Bugatti Bolide',\n",
       " 'Bugatti Mistral',\n",
       " 'Pagani Huayra Imola',\n",
       " 'Bugatti Divo',\n",
       " 'SP Automotive Chaos',\n",
       " 'Pagani Codalunga',\n",
       " 'Mercedes-Maybach Exelero',\n",
       " 'Bugatti Centodieci',\n",
       " 'Rolls-Royce Sweptail',\n",
       " 'Bugatti La Voiture Noire',\n",
       " 'Rolls-Royce Boat Tail*',\n",
       " 'Most Expensive Cars In The World']"
      ]
     },
     "execution_count": 187,
     "metadata": {},
     "output_type": "execute_result"
    }
   ],
   "source": [
    "price"
   ]
  },
  {
   "cell_type": "code",
   "execution_count": 188,
   "id": "0e66ace1",
   "metadata": {},
   "outputs": [
    {
     "data": {
      "text/plain": [
       "['Drako GTE',\n",
       " 'De Tomaso P72',\n",
       " 'Ferrari LaFerrari',\n",
       " 'Pagani Huayra',\n",
       " 'McLaren Elva',\n",
       " 'Czinger 21C',\n",
       " 'Ferrari Monza',\n",
       " 'Gordon Murray T.33',\n",
       " 'Koenigsegg Gemera',\n",
       " 'Zenvo TSR-S',\n",
       " 'Hennessey Venom F5',\n",
       " 'Bentley Bacalar',\n",
       " 'Hispano Suiza Carmen Boulogne',\n",
       " 'Bentley Mulliner Batur',\n",
       " 'Deus Vayanne',\n",
       " 'SSC Tuatara',\n",
       " 'Lotus Evija',\n",
       " 'Aston Martin Vulcan',\n",
       " 'Delage D12',\n",
       " 'McLaren Speedtail',\n",
       " 'Rimac Nevera',\n",
       " 'Pagani Utopia',\n",
       " 'Pininfarina Battista',\n",
       " 'Ferrari FXX K Evo',\n",
       " 'Gordon Murray T.50',\n",
       " 'Lamborghini Countach',\n",
       " 'Mercedes-AMG Project One',\n",
       " 'Aston Martin Victor',\n",
       " 'Hennessey Venom F5 Roadster',\n",
       " 'Koenigsegg Jesko',\n",
       " 'Aston Martin Valkyrie',\n",
       " 'W Motors Lykan Hypersport',\n",
       " 'McLaren Solus',\n",
       " 'Pagani Huayra Roadster BC',\n",
       " 'Bugatti Chiron Pur Sport',\n",
       " 'Lamborghini Sian',\n",
       " 'Koenigsegg CC850',\n",
       " 'Bugatti Chiron Super Sport 300+',\n",
       " 'Lamborghini Veneno',\n",
       " 'Bugatti Bolide',\n",
       " 'Bugatti Mistral',\n",
       " 'Pagani Huayra Imola',\n",
       " 'Bugatti Divo',\n",
       " 'SP Automotive Chaos',\n",
       " 'Pagani Codalunga',\n",
       " 'Mercedes-Maybach Exelero',\n",
       " 'Bugatti Centodieci',\n",
       " 'Rolls-Royce Sweptail',\n",
       " 'Bugatti La Voiture Noire',\n",
       " 'Rolls-Royce Boat Tail*',\n",
       " 'Most Expensive Cars In The World']"
      ]
     },
     "execution_count": 188,
     "metadata": {},
     "output_type": "execute_result"
    }
   ],
   "source": [
    "car"
   ]
  },
  {
   "cell_type": "code",
   "execution_count": 205,
   "id": "49945b3a",
   "metadata": {},
   "outputs": [],
   "source": [
    "price1 =  driver.find_element(By.XPATH,'/html/body/div[3]/div[7]/div[2]/div[1]/div[2]/div[1]/p[4]')\n",
    "price49 = driver.find_element(By.XPATH,'/html/body/div[3]/div[7]/div[2]/div[1]/div[2]/div[1]/p[100]')\n",
    "price50 =  driver.find_element(By.XPATH,'/html/body/div[3]/div[7]/div[2]/div[1]/div[2]/div[1]/p[102]')"
   ]
  },
  {
   "cell_type": "code",
   "execution_count": 206,
   "id": "8a1295f0",
   "metadata": {},
   "outputs": [],
   "source": [
    "car_price = []"
   ]
  },
  {
   "cell_type": "code",
   "execution_count": 207,
   "id": "e92b843e",
   "metadata": {},
   "outputs": [],
   "source": [
    "car_price.append(price1.text)"
   ]
  },
  {
   "cell_type": "code",
   "execution_count": 208,
   "id": "a2e3bb14",
   "metadata": {},
   "outputs": [],
   "source": [
    "for i in price2 :\n",
    "    car_price.append(i)"
   ]
  },
  {
   "cell_type": "code",
   "execution_count": 209,
   "id": "9b2f1b4e",
   "metadata": {},
   "outputs": [
    {
     "data": {
      "text/plain": [
       "['Price: $1.2 Million',\n",
       " '$1.3 Million',\n",
       " '$1.4 Million',\n",
       " '$1.4 Million',\n",
       " '$1.7 Million',\n",
       " '$1.7 Million',\n",
       " '$1.7 Million',\n",
       " '$1.7 Million',\n",
       " '$1.7 Million',\n",
       " '$1.7 Million',\n",
       " '$1.8 Million',\n",
       " '$1.9 Million',\n",
       " '$1.9 Million',\n",
       " '$2.0 Million',\n",
       " '$2.0 Million',\n",
       " '$2.0 Million*',\n",
       " '$2.1 Million',\n",
       " '$2.3 Million',\n",
       " '$2.3 Million',\n",
       " '$2.3 Million',\n",
       " '$2.4 Million',\n",
       " '$2.5 Million',\n",
       " '$2.5 Million',\n",
       " '$2.6 Million',\n",
       " '$2.6 Million',\n",
       " '$2.6 Million',\n",
       " '$2.7 Million',\n",
       " '$3.0 Million',\n",
       " '$3.0 Million',\n",
       " '$3.0 Million',\n",
       " '$3.2 Million',\n",
       " '$3.4 Million',\n",
       " '$3.5 Million',\n",
       " '$3.5 Million',\n",
       " '$3.6 Million',\n",
       " '$3.6 million',\n",
       " '$3.7 Million',\n",
       " '$3.9 Million',\n",
       " '$4.5 Million',\n",
       " '$4.7 Million',\n",
       " '$5.0 Million',\n",
       " '$5.4 Million',\n",
       " '$5.8 Million',\n",
       " '$6.4 Million',\n",
       " '$7.4 Million',\n",
       " '$8.0 Million',\n",
       " '$9.0 Million',\n",
       " '$12.8 Million']"
      ]
     },
     "execution_count": 209,
     "metadata": {},
     "output_type": "execute_result"
    }
   ],
   "source": [
    "car_price"
   ]
  },
  {
   "cell_type": "code",
   "execution_count": 210,
   "id": "b9e35a69",
   "metadata": {},
   "outputs": [
    {
     "data": {
      "text/plain": [
       "48"
      ]
     },
     "execution_count": 210,
     "metadata": {},
     "output_type": "execute_result"
    }
   ],
   "source": [
    "len(car_price)"
   ]
  },
  {
   "cell_type": "code",
   "execution_count": 211,
   "id": "0bc3eaec",
   "metadata": {},
   "outputs": [],
   "source": [
    "car_price.append(price49.text)"
   ]
  },
  {
   "cell_type": "code",
   "execution_count": 212,
   "id": "5a14f3d0",
   "metadata": {},
   "outputs": [],
   "source": [
    "car_price.append(price50.text)"
   ]
  },
  {
   "cell_type": "code",
   "execution_count": 213,
   "id": "f2afd947",
   "metadata": {},
   "outputs": [
    {
     "data": {
      "text/plain": [
       "50"
      ]
     },
     "execution_count": 213,
     "metadata": {},
     "output_type": "execute_result"
    }
   ],
   "source": [
    "len(car_price)"
   ]
  },
  {
   "cell_type": "code",
   "execution_count": 214,
   "id": "0362d555",
   "metadata": {},
   "outputs": [],
   "source": [
    "car_price = [i.replace('Price: ','') for i in car_price]"
   ]
  },
  {
   "cell_type": "code",
   "execution_count": 215,
   "id": "04bd9621",
   "metadata": {},
   "outputs": [
    {
     "data": {
      "text/plain": [
       "['$1.2 Million',\n",
       " '$1.3 Million',\n",
       " '$1.4 Million',\n",
       " '$1.4 Million',\n",
       " '$1.7 Million',\n",
       " '$1.7 Million',\n",
       " '$1.7 Million',\n",
       " '$1.7 Million',\n",
       " '$1.7 Million',\n",
       " '$1.7 Million',\n",
       " '$1.8 Million',\n",
       " '$1.9 Million',\n",
       " '$1.9 Million',\n",
       " '$2.0 Million',\n",
       " '$2.0 Million',\n",
       " '$2.0 Million*',\n",
       " '$2.1 Million',\n",
       " '$2.3 Million',\n",
       " '$2.3 Million',\n",
       " '$2.3 Million',\n",
       " '$2.4 Million',\n",
       " '$2.5 Million',\n",
       " '$2.5 Million',\n",
       " '$2.6 Million',\n",
       " '$2.6 Million',\n",
       " '$2.6 Million',\n",
       " '$2.7 Million',\n",
       " '$3.0 Million',\n",
       " '$3.0 Million',\n",
       " '$3.0 Million',\n",
       " '$3.2 Million',\n",
       " '$3.4 Million',\n",
       " '$3.5 Million',\n",
       " '$3.5 Million',\n",
       " '$3.6 Million',\n",
       " '$3.6 million',\n",
       " '$3.7 Million',\n",
       " '$3.9 Million',\n",
       " '$4.5 Million',\n",
       " '$4.7 Million',\n",
       " '$5.0 Million',\n",
       " '$5.4 Million',\n",
       " '$5.8 Million',\n",
       " '$6.4 Million',\n",
       " '$7.4 Million',\n",
       " '$8.0 Million',\n",
       " '$9.0 Million',\n",
       " '$12.8 Million',\n",
       " '$13.4 Million',\n",
       " '$28.0 Million (est.)']"
      ]
     },
     "execution_count": 215,
     "metadata": {},
     "output_type": "execute_result"
    }
   ],
   "source": [
    "car_price"
   ]
  },
  {
   "cell_type": "code",
   "execution_count": 216,
   "id": "10215454",
   "metadata": {},
   "outputs": [],
   "source": [
    "car_price = [i.replace('(est.)','') for i in car_price]"
   ]
  },
  {
   "cell_type": "code",
   "execution_count": 217,
   "id": "97830c31",
   "metadata": {},
   "outputs": [
    {
     "data": {
      "text/plain": [
       "['$1.2 Million',\n",
       " '$1.3 Million',\n",
       " '$1.4 Million',\n",
       " '$1.4 Million',\n",
       " '$1.7 Million',\n",
       " '$1.7 Million',\n",
       " '$1.7 Million',\n",
       " '$1.7 Million',\n",
       " '$1.7 Million',\n",
       " '$1.7 Million',\n",
       " '$1.8 Million',\n",
       " '$1.9 Million',\n",
       " '$1.9 Million',\n",
       " '$2.0 Million',\n",
       " '$2.0 Million',\n",
       " '$2.0 Million*',\n",
       " '$2.1 Million',\n",
       " '$2.3 Million',\n",
       " '$2.3 Million',\n",
       " '$2.3 Million',\n",
       " '$2.4 Million',\n",
       " '$2.5 Million',\n",
       " '$2.5 Million',\n",
       " '$2.6 Million',\n",
       " '$2.6 Million',\n",
       " '$2.6 Million',\n",
       " '$2.7 Million',\n",
       " '$3.0 Million',\n",
       " '$3.0 Million',\n",
       " '$3.0 Million',\n",
       " '$3.2 Million',\n",
       " '$3.4 Million',\n",
       " '$3.5 Million',\n",
       " '$3.5 Million',\n",
       " '$3.6 Million',\n",
       " '$3.6 million',\n",
       " '$3.7 Million',\n",
       " '$3.9 Million',\n",
       " '$4.5 Million',\n",
       " '$4.7 Million',\n",
       " '$5.0 Million',\n",
       " '$5.4 Million',\n",
       " '$5.8 Million',\n",
       " '$6.4 Million',\n",
       " '$7.4 Million',\n",
       " '$8.0 Million',\n",
       " '$9.0 Million',\n",
       " '$12.8 Million',\n",
       " '$13.4 Million',\n",
       " '$28.0 Million ']"
      ]
     },
     "execution_count": 217,
     "metadata": {},
     "output_type": "execute_result"
    }
   ],
   "source": [
    "car_price"
   ]
  },
  {
   "cell_type": "code",
   "execution_count": 218,
   "id": "8282fecb",
   "metadata": {},
   "outputs": [
    {
     "name": "stdout",
     "output_type": "stream",
     "text": [
      "51\n",
      "50\n",
      "50\n"
     ]
    }
   ],
   "source": [
    "print(len(car))\n",
    "print(len(car_price))\n",
    "print(len(des2))"
   ]
  },
  {
   "cell_type": "code",
   "execution_count": 219,
   "id": "30793282",
   "metadata": {},
   "outputs": [
    {
     "data": {
      "text/plain": [
       "['Drako GTE',\n",
       " 'De Tomaso P72',\n",
       " 'Ferrari LaFerrari',\n",
       " 'Pagani Huayra',\n",
       " 'McLaren Elva',\n",
       " 'Czinger 21C',\n",
       " 'Ferrari Monza',\n",
       " 'Gordon Murray T.33',\n",
       " 'Koenigsegg Gemera',\n",
       " 'Zenvo TSR-S',\n",
       " 'Hennessey Venom F5',\n",
       " 'Bentley Bacalar',\n",
       " 'Hispano Suiza Carmen Boulogne',\n",
       " 'Bentley Mulliner Batur',\n",
       " 'Deus Vayanne',\n",
       " 'SSC Tuatara',\n",
       " 'Lotus Evija',\n",
       " 'Aston Martin Vulcan',\n",
       " 'Delage D12',\n",
       " 'McLaren Speedtail',\n",
       " 'Rimac Nevera',\n",
       " 'Pagani Utopia',\n",
       " 'Pininfarina Battista',\n",
       " 'Ferrari FXX K Evo',\n",
       " 'Gordon Murray T.50',\n",
       " 'Lamborghini Countach',\n",
       " 'Mercedes-AMG Project One',\n",
       " 'Aston Martin Victor',\n",
       " 'Hennessey Venom F5 Roadster',\n",
       " 'Koenigsegg Jesko',\n",
       " 'Aston Martin Valkyrie',\n",
       " 'W Motors Lykan Hypersport',\n",
       " 'McLaren Solus',\n",
       " 'Pagani Huayra Roadster BC',\n",
       " 'Bugatti Chiron Pur Sport',\n",
       " 'Lamborghini Sian',\n",
       " 'Koenigsegg CC850',\n",
       " 'Bugatti Chiron Super Sport 300+',\n",
       " 'Lamborghini Veneno',\n",
       " 'Bugatti Bolide',\n",
       " 'Bugatti Mistral',\n",
       " 'Pagani Huayra Imola',\n",
       " 'Bugatti Divo',\n",
       " 'SP Automotive Chaos',\n",
       " 'Pagani Codalunga',\n",
       " 'Mercedes-Maybach Exelero',\n",
       " 'Bugatti Centodieci',\n",
       " 'Rolls-Royce Sweptail',\n",
       " 'Bugatti La Voiture Noire',\n",
       " 'Rolls-Royce Boat Tail*',\n",
       " 'Most Expensive Cars In The World']"
      ]
     },
     "execution_count": 219,
     "metadata": {},
     "output_type": "execute_result"
    }
   ],
   "source": [
    "car"
   ]
  },
  {
   "cell_type": "code",
   "execution_count": 220,
   "id": "1112a642",
   "metadata": {},
   "outputs": [
    {
     "data": {
      "text/plain": [
       "'Most Expensive Cars In The World'"
      ]
     },
     "execution_count": 220,
     "metadata": {},
     "output_type": "execute_result"
    }
   ],
   "source": [
    "car.pop()"
   ]
  },
  {
   "cell_type": "code",
   "execution_count": 221,
   "id": "75973656",
   "metadata": {},
   "outputs": [
    {
     "name": "stdout",
     "output_type": "stream",
     "text": [
      "50\n",
      "50\n",
      "50\n"
     ]
    }
   ],
   "source": [
    "print(len(car))\n",
    "print(len(car_price))\n",
    "print(len(des2))"
   ]
  },
  {
   "cell_type": "code",
   "execution_count": 222,
   "id": "184cc1fe",
   "metadata": {},
   "outputs": [],
   "source": [
    "cars_data = pd.DataFrame({\"CAR\":car,\"PRICE\":car_price,\"DESCRIPTION\":des2})"
   ]
  },
  {
   "cell_type": "code",
   "execution_count": 224,
   "id": "a02303b0",
   "metadata": {},
   "outputs": [
    {
     "data": {
      "text/html": [
       "<div>\n",
       "<style scoped>\n",
       "    .dataframe tbody tr th:only-of-type {\n",
       "        vertical-align: middle;\n",
       "    }\n",
       "\n",
       "    .dataframe tbody tr th {\n",
       "        vertical-align: top;\n",
       "    }\n",
       "\n",
       "    .dataframe thead th {\n",
       "        text-align: right;\n",
       "    }\n",
       "</style>\n",
       "<table border=\"1\" class=\"dataframe\">\n",
       "  <thead>\n",
       "    <tr style=\"text-align: right;\">\n",
       "      <th></th>\n",
       "      <th>CAR</th>\n",
       "      <th>PRICE</th>\n",
       "      <th>DESCRIPTION</th>\n",
       "    </tr>\n",
       "  </thead>\n",
       "  <tbody>\n",
       "    <tr>\n",
       "      <th>0</th>\n",
       "      <td>Drako GTE</td>\n",
       "      <td>$1.2 Million</td>\n",
       "      <td>The Drako GTE is a super sedan in every sense ...</td>\n",
       "    </tr>\n",
       "    <tr>\n",
       "      <th>1</th>\n",
       "      <td>De Tomaso P72</td>\n",
       "      <td>$1.3 Million</td>\n",
       "      <td>The De Tomaso P72 is basically the definition ...</td>\n",
       "    </tr>\n",
       "    <tr>\n",
       "      <th>2</th>\n",
       "      <td>Ferrari LaFerrari</td>\n",
       "      <td>$1.4 Million</td>\n",
       "      <td>At $1.4 million new, the Ferrari LaFerrari is ...</td>\n",
       "    </tr>\n",
       "    <tr>\n",
       "      <th>3</th>\n",
       "      <td>Pagani Huayra</td>\n",
       "      <td>$1.4 Million</td>\n",
       "      <td>Inarguably one of the prettiest cars on this l...</td>\n",
       "    </tr>\n",
       "    <tr>\n",
       "      <th>4</th>\n",
       "      <td>McLaren Elva</td>\n",
       "      <td>$1.7 Million</td>\n",
       "      <td>The McLaren Elva is one of the latest addition...</td>\n",
       "    </tr>\n",
       "    <tr>\n",
       "      <th>5</th>\n",
       "      <td>Czinger 21C</td>\n",
       "      <td>$1.7 Million</td>\n",
       "      <td>You might not know the name Czinger yet, but t...</td>\n",
       "    </tr>\n",
       "    <tr>\n",
       "      <th>6</th>\n",
       "      <td>Ferrari Monza</td>\n",
       "      <td>$1.7 Million</td>\n",
       "      <td>Much like the roof-less McLaren Elva, the Ferr...</td>\n",
       "    </tr>\n",
       "    <tr>\n",
       "      <th>7</th>\n",
       "      <td>Gordon Murray T.33</td>\n",
       "      <td>$1.7 Million</td>\n",
       "      <td>The second and slightly more affordable superc...</td>\n",
       "    </tr>\n",
       "    <tr>\n",
       "      <th>8</th>\n",
       "      <td>Koenigsegg Gemera</td>\n",
       "      <td>$1.7 Million</td>\n",
       "      <td>One of two Koenigsegg models on this list, the...</td>\n",
       "    </tr>\n",
       "    <tr>\n",
       "      <th>9</th>\n",
       "      <td>Zenvo TSR-S</td>\n",
       "      <td>$1.7 Million</td>\n",
       "      <td>Hailing from Denmark, the Zenvo TSR-S debuted ...</td>\n",
       "    </tr>\n",
       "    <tr>\n",
       "      <th>10</th>\n",
       "      <td>Hennessey Venom F5</td>\n",
       "      <td>$1.8 Million</td>\n",
       "      <td>The Hennessey Venom GT was a record-breaker, t...</td>\n",
       "    </tr>\n",
       "    <tr>\n",
       "      <th>11</th>\n",
       "      <td>Bentley Bacalar</td>\n",
       "      <td>$1.9 Million</td>\n",
       "      <td>With just 12 total units produced, the Bentley...</td>\n",
       "    </tr>\n",
       "    <tr>\n",
       "      <th>12</th>\n",
       "      <td>Hispano Suiza Carmen Boulogne</td>\n",
       "      <td>$1.9 Million</td>\n",
       "      <td>To call the Hispano Suiza Carmen Boulogne beau...</td>\n",
       "    </tr>\n",
       "    <tr>\n",
       "      <th>13</th>\n",
       "      <td>Bentley Mulliner Batur</td>\n",
       "      <td>$2.0 Million</td>\n",
       "      <td>The electric onslaught is coming. Bentley says...</td>\n",
       "    </tr>\n",
       "    <tr>\n",
       "      <th>14</th>\n",
       "      <td>Deus Vayanne</td>\n",
       "      <td>$2.0 Million</td>\n",
       "      <td>The Deus Vayanne may not be a household name (...</td>\n",
       "    </tr>\n",
       "    <tr>\n",
       "      <th>15</th>\n",
       "      <td>SSC Tuatara</td>\n",
       "      <td>$2.0 Million*</td>\n",
       "      <td>Although initially cloaked in controversy, SSC...</td>\n",
       "    </tr>\n",
       "    <tr>\n",
       "      <th>16</th>\n",
       "      <td>Lotus Evija</td>\n",
       "      <td>$2.1 Million</td>\n",
       "      <td>With a new Emira sports car and an Eletre elec...</td>\n",
       "    </tr>\n",
       "    <tr>\n",
       "      <th>17</th>\n",
       "      <td>Aston Martin Vulcan</td>\n",
       "      <td>$2.3 Million</td>\n",
       "      <td>As with a few other cars on this list, the Ast...</td>\n",
       "    </tr>\n",
       "    <tr>\n",
       "      <th>18</th>\n",
       "      <td>Delage D12</td>\n",
       "      <td>$2.3 Million</td>\n",
       "      <td>You may have heard of Delage before. In the ea...</td>\n",
       "    </tr>\n",
       "    <tr>\n",
       "      <th>19</th>\n",
       "      <td>McLaren Speedtail</td>\n",
       "      <td>$2.3 Million</td>\n",
       "      <td>What would you pay for the fastest production ...</td>\n",
       "    </tr>\n",
       "    <tr>\n",
       "      <th>20</th>\n",
       "      <td>Rimac Nevera</td>\n",
       "      <td>$2.4 Million</td>\n",
       "      <td>The Rimac Nevera takes the title of most expen...</td>\n",
       "    </tr>\n",
       "    <tr>\n",
       "      <th>21</th>\n",
       "      <td>Pagani Utopia</td>\n",
       "      <td>$2.5 Million</td>\n",
       "      <td>First came the Zonda, then the Huayra, and now...</td>\n",
       "    </tr>\n",
       "    <tr>\n",
       "      <th>22</th>\n",
       "      <td>Pininfarina Battista</td>\n",
       "      <td>$2.5 Million</td>\n",
       "      <td>Aptly named after the company’s founder, Batti...</td>\n",
       "    </tr>\n",
       "    <tr>\n",
       "      <th>23</th>\n",
       "      <td>Ferrari FXX K Evo</td>\n",
       "      <td>$2.6 Million</td>\n",
       "      <td>Sure, you could buy a normal LaFerrari (which ...</td>\n",
       "    </tr>\n",
       "    <tr>\n",
       "      <th>24</th>\n",
       "      <td>Gordon Murray T.50</td>\n",
       "      <td>$2.6 Million</td>\n",
       "      <td>If the name Gordon Murray sounds familiar, it’...</td>\n",
       "    </tr>\n",
       "    <tr>\n",
       "      <th>25</th>\n",
       "      <td>Lamborghini Countach</td>\n",
       "      <td>$2.6 Million</td>\n",
       "      <td>The name Countach may be iconic, but is it wor...</td>\n",
       "    </tr>\n",
       "    <tr>\n",
       "      <th>26</th>\n",
       "      <td>Mercedes-AMG Project One</td>\n",
       "      <td>$2.7 Million</td>\n",
       "      <td>Mercedes has promised a production version of ...</td>\n",
       "    </tr>\n",
       "    <tr>\n",
       "      <th>27</th>\n",
       "      <td>Aston Martin Victor</td>\n",
       "      <td>$3.0 Million</td>\n",
       "      <td>The folks at Aston Martin know a thing or two ...</td>\n",
       "    </tr>\n",
       "    <tr>\n",
       "      <th>28</th>\n",
       "      <td>Hennessey Venom F5 Roadster</td>\n",
       "      <td>$3.0 Million</td>\n",
       "      <td>The same Hennessey Venom F5 hypercar we all kn...</td>\n",
       "    </tr>\n",
       "    <tr>\n",
       "      <th>29</th>\n",
       "      <td>Koenigsegg Jesko</td>\n",
       "      <td>$3.0 Million</td>\n",
       "      <td>The Koenigsegg Jesko, apart from being the fas...</td>\n",
       "    </tr>\n",
       "    <tr>\n",
       "      <th>30</th>\n",
       "      <td>Aston Martin Valkyrie</td>\n",
       "      <td>$3.2 Million</td>\n",
       "      <td>The upcoming Aston Martin hybrid hypercar hasn...</td>\n",
       "    </tr>\n",
       "    <tr>\n",
       "      <th>31</th>\n",
       "      <td>W Motors Lykan Hypersport</td>\n",
       "      <td>$3.4 Million</td>\n",
       "      <td>Dubai-based W Motors shocked the world with it...</td>\n",
       "    </tr>\n",
       "    <tr>\n",
       "      <th>32</th>\n",
       "      <td>McLaren Solus</td>\n",
       "      <td>$3.5 Million</td>\n",
       "      <td>One seat, 829 horsepower, and a top speed of o...</td>\n",
       "    </tr>\n",
       "    <tr>\n",
       "      <th>33</th>\n",
       "      <td>Pagani Huayra Roadster BC</td>\n",
       "      <td>$3.5 Million</td>\n",
       "      <td>Following Pagani’s past playbook, a roadster v...</td>\n",
       "    </tr>\n",
       "    <tr>\n",
       "      <th>34</th>\n",
       "      <td>Bugatti Chiron Pur Sport</td>\n",
       "      <td>$3.6 Million</td>\n",
       "      <td>Another showstopper from the Geneva Motor Show...</td>\n",
       "    </tr>\n",
       "    <tr>\n",
       "      <th>35</th>\n",
       "      <td>Lamborghini Sian</td>\n",
       "      <td>$3.6 million</td>\n",
       "      <td>In several ways, the Sian represents a bridge ...</td>\n",
       "    </tr>\n",
       "    <tr>\n",
       "      <th>36</th>\n",
       "      <td>Koenigsegg CC850</td>\n",
       "      <td>$3.7 Million</td>\n",
       "      <td>The Koenigsegg CC850 was a surprise to be sure...</td>\n",
       "    </tr>\n",
       "    <tr>\n",
       "      <th>37</th>\n",
       "      <td>Bugatti Chiron Super Sport 300+</td>\n",
       "      <td>$3.9 Million</td>\n",
       "      <td>Earlier this year, Bugatti captured the collec...</td>\n",
       "    </tr>\n",
       "    <tr>\n",
       "      <th>38</th>\n",
       "      <td>Lamborghini Veneno</td>\n",
       "      <td>$4.5 Million</td>\n",
       "      <td>Lamborghini built just 14 examples of the Aven...</td>\n",
       "    </tr>\n",
       "    <tr>\n",
       "      <th>39</th>\n",
       "      <td>Bugatti Bolide</td>\n",
       "      <td>$4.7 Million</td>\n",
       "      <td>Produced in extremely limited numbers atop the...</td>\n",
       "    </tr>\n",
       "    <tr>\n",
       "      <th>40</th>\n",
       "      <td>Bugatti Mistral</td>\n",
       "      <td>$5.0 Million</td>\n",
       "      <td>The Bugatti Mistral sends the iconic W16 engin...</td>\n",
       "    </tr>\n",
       "    <tr>\n",
       "      <th>41</th>\n",
       "      <td>Pagani Huayra Imola</td>\n",
       "      <td>$5.4 Million</td>\n",
       "      <td>Even though the new Utopia marks the next big ...</td>\n",
       "    </tr>\n",
       "    <tr>\n",
       "      <th>42</th>\n",
       "      <td>Bugatti Divo</td>\n",
       "      <td>$5.8 Million</td>\n",
       "      <td>Among Bugatti’s recently debuted vehicles, the...</td>\n",
       "    </tr>\n",
       "    <tr>\n",
       "      <th>43</th>\n",
       "      <td>SP Automotive Chaos</td>\n",
       "      <td>$6.4 Million</td>\n",
       "      <td>SP Automotive (short for Spyros Panopoulos) is...</td>\n",
       "    </tr>\n",
       "    <tr>\n",
       "      <th>44</th>\n",
       "      <td>Pagani Codalunga</td>\n",
       "      <td>$7.4 Million</td>\n",
       "      <td>The long list of pricey (new) Paganis ends wit...</td>\n",
       "    </tr>\n",
       "    <tr>\n",
       "      <th>45</th>\n",
       "      <td>Mercedes-Maybach Exelero</td>\n",
       "      <td>$8.0 Million</td>\n",
       "      <td>Like many others before it, the Mercedes-Benz ...</td>\n",
       "    </tr>\n",
       "    <tr>\n",
       "      <th>46</th>\n",
       "      <td>Bugatti Centodieci</td>\n",
       "      <td>$9.0 Million</td>\n",
       "      <td>Bugatti debuted the Centodieci at last year’s ...</td>\n",
       "    </tr>\n",
       "    <tr>\n",
       "      <th>47</th>\n",
       "      <td>Rolls-Royce Sweptail</td>\n",
       "      <td>$12.8 Million</td>\n",
       "      <td>Rolls-Royce, expectedly, takes two of the top ...</td>\n",
       "    </tr>\n",
       "    <tr>\n",
       "      <th>48</th>\n",
       "      <td>Bugatti La Voiture Noire</td>\n",
       "      <td>$13.4 Million</td>\n",
       "      <td>With a price tag of $13.4 million, the one-off...</td>\n",
       "    </tr>\n",
       "    <tr>\n",
       "      <th>49</th>\n",
       "      <td>Rolls-Royce Boat Tail*</td>\n",
       "      <td>$28.0 Million</td>\n",
       "      <td>Rolls-Royce is back in the business of coachbu...</td>\n",
       "    </tr>\n",
       "  </tbody>\n",
       "</table>\n",
       "</div>"
      ],
      "text/plain": [
       "                                CAR           PRICE  \\\n",
       "0                         Drako GTE    $1.2 Million   \n",
       "1                     De Tomaso P72    $1.3 Million   \n",
       "2                 Ferrari LaFerrari    $1.4 Million   \n",
       "3                     Pagani Huayra    $1.4 Million   \n",
       "4                      McLaren Elva    $1.7 Million   \n",
       "5                       Czinger 21C    $1.7 Million   \n",
       "6                     Ferrari Monza    $1.7 Million   \n",
       "7                Gordon Murray T.33    $1.7 Million   \n",
       "8                 Koenigsegg Gemera    $1.7 Million   \n",
       "9                       Zenvo TSR-S    $1.7 Million   \n",
       "10               Hennessey Venom F5    $1.8 Million   \n",
       "11                  Bentley Bacalar    $1.9 Million   \n",
       "12    Hispano Suiza Carmen Boulogne    $1.9 Million   \n",
       "13           Bentley Mulliner Batur    $2.0 Million   \n",
       "14                     Deus Vayanne    $2.0 Million   \n",
       "15                      SSC Tuatara   $2.0 Million*   \n",
       "16                      Lotus Evija    $2.1 Million   \n",
       "17              Aston Martin Vulcan    $2.3 Million   \n",
       "18                       Delage D12    $2.3 Million   \n",
       "19                McLaren Speedtail    $2.3 Million   \n",
       "20                     Rimac Nevera    $2.4 Million   \n",
       "21                    Pagani Utopia    $2.5 Million   \n",
       "22             Pininfarina Battista    $2.5 Million   \n",
       "23                Ferrari FXX K Evo    $2.6 Million   \n",
       "24               Gordon Murray T.50    $2.6 Million   \n",
       "25             Lamborghini Countach    $2.6 Million   \n",
       "26         Mercedes-AMG Project One    $2.7 Million   \n",
       "27              Aston Martin Victor    $3.0 Million   \n",
       "28      Hennessey Venom F5 Roadster    $3.0 Million   \n",
       "29                 Koenigsegg Jesko    $3.0 Million   \n",
       "30            Aston Martin Valkyrie    $3.2 Million   \n",
       "31        W Motors Lykan Hypersport    $3.4 Million   \n",
       "32                    McLaren Solus    $3.5 Million   \n",
       "33        Pagani Huayra Roadster BC    $3.5 Million   \n",
       "34         Bugatti Chiron Pur Sport    $3.6 Million   \n",
       "35                 Lamborghini Sian    $3.6 million   \n",
       "36                 Koenigsegg CC850    $3.7 Million   \n",
       "37  Bugatti Chiron Super Sport 300+    $3.9 Million   \n",
       "38               Lamborghini Veneno    $4.5 Million   \n",
       "39                   Bugatti Bolide    $4.7 Million   \n",
       "40                  Bugatti Mistral    $5.0 Million   \n",
       "41              Pagani Huayra Imola    $5.4 Million   \n",
       "42                     Bugatti Divo    $5.8 Million   \n",
       "43              SP Automotive Chaos    $6.4 Million   \n",
       "44                 Pagani Codalunga    $7.4 Million   \n",
       "45         Mercedes-Maybach Exelero    $8.0 Million   \n",
       "46               Bugatti Centodieci    $9.0 Million   \n",
       "47             Rolls-Royce Sweptail   $12.8 Million   \n",
       "48         Bugatti La Voiture Noire   $13.4 Million   \n",
       "49           Rolls-Royce Boat Tail*  $28.0 Million    \n",
       "\n",
       "                                          DESCRIPTION  \n",
       "0   The Drako GTE is a super sedan in every sense ...  \n",
       "1   The De Tomaso P72 is basically the definition ...  \n",
       "2   At $1.4 million new, the Ferrari LaFerrari is ...  \n",
       "3   Inarguably one of the prettiest cars on this l...  \n",
       "4   The McLaren Elva is one of the latest addition...  \n",
       "5   You might not know the name Czinger yet, but t...  \n",
       "6   Much like the roof-less McLaren Elva, the Ferr...  \n",
       "7   The second and slightly more affordable superc...  \n",
       "8   One of two Koenigsegg models on this list, the...  \n",
       "9   Hailing from Denmark, the Zenvo TSR-S debuted ...  \n",
       "10  The Hennessey Venom GT was a record-breaker, t...  \n",
       "11  With just 12 total units produced, the Bentley...  \n",
       "12  To call the Hispano Suiza Carmen Boulogne beau...  \n",
       "13  The electric onslaught is coming. Bentley says...  \n",
       "14  The Deus Vayanne may not be a household name (...  \n",
       "15  Although initially cloaked in controversy, SSC...  \n",
       "16  With a new Emira sports car and an Eletre elec...  \n",
       "17  As with a few other cars on this list, the Ast...  \n",
       "18  You may have heard of Delage before. In the ea...  \n",
       "19  What would you pay for the fastest production ...  \n",
       "20  The Rimac Nevera takes the title of most expen...  \n",
       "21  First came the Zonda, then the Huayra, and now...  \n",
       "22  Aptly named after the company’s founder, Batti...  \n",
       "23  Sure, you could buy a normal LaFerrari (which ...  \n",
       "24  If the name Gordon Murray sounds familiar, it’...  \n",
       "25  The name Countach may be iconic, but is it wor...  \n",
       "26  Mercedes has promised a production version of ...  \n",
       "27  The folks at Aston Martin know a thing or two ...  \n",
       "28  The same Hennessey Venom F5 hypercar we all kn...  \n",
       "29  The Koenigsegg Jesko, apart from being the fas...  \n",
       "30  The upcoming Aston Martin hybrid hypercar hasn...  \n",
       "31  Dubai-based W Motors shocked the world with it...  \n",
       "32  One seat, 829 horsepower, and a top speed of o...  \n",
       "33  Following Pagani’s past playbook, a roadster v...  \n",
       "34  Another showstopper from the Geneva Motor Show...  \n",
       "35  In several ways, the Sian represents a bridge ...  \n",
       "36  The Koenigsegg CC850 was a surprise to be sure...  \n",
       "37  Earlier this year, Bugatti captured the collec...  \n",
       "38  Lamborghini built just 14 examples of the Aven...  \n",
       "39  Produced in extremely limited numbers atop the...  \n",
       "40  The Bugatti Mistral sends the iconic W16 engin...  \n",
       "41  Even though the new Utopia marks the next big ...  \n",
       "42  Among Bugatti’s recently debuted vehicles, the...  \n",
       "43  SP Automotive (short for Spyros Panopoulos) is...  \n",
       "44  The long list of pricey (new) Paganis ends wit...  \n",
       "45  Like many others before it, the Mercedes-Benz ...  \n",
       "46  Bugatti debuted the Centodieci at last year’s ...  \n",
       "47  Rolls-Royce, expectedly, takes two of the top ...  \n",
       "48  With a price tag of $13.4 million, the one-off...  \n",
       "49  Rolls-Royce is back in the business of coachbu...  "
      ]
     },
     "execution_count": 224,
     "metadata": {},
     "output_type": "execute_result"
    }
   ],
   "source": [
    "cars_data"
   ]
  },
  {
   "cell_type": "code",
   "execution_count": 225,
   "id": "41295685",
   "metadata": {},
   "outputs": [
    {
     "data": {
      "text/plain": [
       "50"
      ]
     },
     "execution_count": 225,
     "metadata": {},
     "output_type": "execute_result"
    }
   ],
   "source": [
    "len(cars_data)"
   ]
  },
  {
   "cell_type": "code",
   "execution_count": null,
   "id": "68de64c8",
   "metadata": {},
   "outputs": [],
   "source": []
  }
 ],
 "metadata": {
  "kernelspec": {
   "display_name": "Python 3 (ipykernel)",
   "language": "python",
   "name": "python3"
  },
  "language_info": {
   "codemirror_mode": {
    "name": "ipython",
    "version": 3
   },
   "file_extension": ".py",
   "mimetype": "text/x-python",
   "name": "python",
   "nbconvert_exporter": "python",
   "pygments_lexer": "ipython3",
   "version": "3.9.12"
  }
 },
 "nbformat": 4,
 "nbformat_minor": 5
}
